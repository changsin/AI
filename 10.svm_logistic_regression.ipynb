{
  "nbformat": 4,
  "nbformat_minor": 0,
  "metadata": {
    "colab": {
      "name": "Welcome To Colaboratory",
      "provenance": [],
      "collapsed_sections": [],
      "toc_visible": true,
      "include_colab_link": true
    },
    "kernelspec": {
      "display_name": "Python 3",
      "name": "python3"
    }
  },
  "cells": [
    {
      "cell_type": "markdown",
      "metadata": {
        "id": "view-in-github",
        "colab_type": "text"
      },
      "source": [
        "<a href=\"https://colab.research.google.com/github/changsin/AI/blob/main/10.svm_logistic_regression.ipynb\" target=\"_parent\"><img src=\"https://colab.research.google.com/assets/colab-badge.svg\" alt=\"Open In Colab\"/></a>"
      ]
    },
    {
      "cell_type": "markdown",
      "metadata": {
        "id": "HclJutxS2bYj"
      },
      "source": [
        "# Create input data"
      ]
    },
    {
      "cell_type": "code",
      "metadata": {
        "id": "fjvBgtMCkZh6"
      },
      "source": [
        "import numpy as np\n",
        "import matplotlib.pyplot as plt\n",
        "\n",
        "X = np.array([\n",
        "      [6., 1.],\n",
        "      [7., 3.],\n",
        "      [8., 2.],    \n",
        "      [9., 0.],\n",
        "      [8., 4.],\n",
        "      [8., 6.],\n",
        "      [9., 2.],    \n",
        "      [9., 5.]\n",
        "    ])\n",
        "y = np.array([0, 0, 0, 0, 1, 1, 1, 1])"
      ],
      "execution_count": null,
      "outputs": []
    },
    {
      "cell_type": "markdown",
      "metadata": {
        "id": "_KwjaxgL2_5h"
      },
      "source": [
        "## play with the data\n",
        "\n",
        "Put the expected values (y) in the same matrix X."
      ]
    },
    {
      "cell_type": "code",
      "metadata": {
        "colab": {
          "base_uri": "https://localhost:8080/"
        },
        "id": "BfYPuJcaXzO2",
        "outputId": "79efe790-1e9c-4cb4-aada-163394f00793"
      },
      "source": [
        "y_reshape = np.reshape(y, (y.shape[0], -1))\n",
        "data = np.append(X, y_reshape, axis=1)\n",
        "data"
      ],
      "execution_count": null,
      "outputs": [
        {
          "output_type": "execute_result",
          "data": {
            "text/plain": [
              "array([[6., 1., 0.],\n",
              "       [7., 3., 0.],\n",
              "       [8., 2., 0.],\n",
              "       [9., 0., 0.],\n",
              "       [8., 4., 1.],\n",
              "       [8., 6., 1.],\n",
              "       [9., 2., 1.],\n",
              "       [9., 5., 1.]])"
            ]
          },
          "metadata": {
            "tags": []
          },
          "execution_count": 2
        }
      ]
    },
    {
      "cell_type": "markdown",
      "metadata": {
        "id": "b-e-PrHFhocC"
      },
      "source": [
        "Now it's easy to see and sort per expected values (ground truths)."
      ]
    },
    {
      "cell_type": "code",
      "metadata": {
        "colab": {
          "base_uri": "https://localhost:8080/"
        },
        "id": "IaJP8hQXZrYc",
        "outputId": "6c624d84-ed7a-4531-a623-03b9a924e009"
      },
      "source": [
        "positives = X[y == 1]\n",
        "positives"
      ],
      "execution_count": null,
      "outputs": [
        {
          "output_type": "execute_result",
          "data": {
            "text/plain": [
              "array([[8., 4.],\n",
              "       [8., 6.],\n",
              "       [9., 2.],\n",
              "       [9., 5.]])"
            ]
          },
          "metadata": {
            "tags": []
          },
          "execution_count": 3
        }
      ]
    },
    {
      "cell_type": "markdown",
      "metadata": {
        "id": "xPlVsETQ2jxV"
      },
      "source": [
        "# Plot the data\n",
        "Also do some initial plot fitting"
      ]
    },
    {
      "cell_type": "markdown",
      "metadata": {
        "id": "_2tAxULBMB-j"
      },
      "source": [
        "## polyfit plotting"
      ]
    },
    {
      "cell_type": "code",
      "metadata": {
        "colab": {
          "base_uri": "https://localhost:8080/",
          "height": 282
        },
        "id": "adycebXKoCJp",
        "outputId": "be667afe-9b80-4823-d063-0f442fb6f48e"
      },
      "source": [
        "import numpy as np\n",
        "import matplotlib.pyplot as plt\n",
        "\n",
        "def plot_data(X, y):\n",
        "  positives = X[y == 1]\n",
        "  negatives = X[y == 0]\n",
        "\n",
        "  fig, ax = plt.subplots()\n",
        "  ax.plot(positives[:, 0], positives[:, 1], marker='o', linestyle='', ms=12, label='+')\n",
        "  ax.plot(negatives[:, 0], negatives[:, 1], marker='o', linestyle='', ms=12, label='-')\n",
        "  return ax\n",
        "\n",
        "# plt.scatter(X[:, 0], X[:, 1])\n",
        "\n",
        "ax = plot_data(X, y)\n",
        "x_line = np.linspace(0, 10, 100)\n",
        "y_line = -2.1*x_line + 20\n",
        "\n",
        "ax.plot(x_line, y_line, 'g', label='y=wx+b')\n"
      ],
      "execution_count": null,
      "outputs": [
        {
          "output_type": "execute_result",
          "data": {
            "text/plain": [
              "[<matplotlib.lines.Line2D at 0x7f536950cad0>]"
            ]
          },
          "metadata": {
            "tags": []
          },
          "execution_count": 4
        },
        {
          "output_type": "display_data",
          "data": {
            "image/png": "[encoded data removed]",
            "text/plain": [
              "<Figure size 432x288 with 1 Axes>"
            ]
          },
          "metadata": {
            "tags": [],
            "needs_background": "light"
          }
        }
      ]
    },
    {
      "cell_type": "code",
      "metadata": {
        "colab": {
          "base_uri": "https://localhost:8080/",
          "height": 299
        },
        "id": "sKYnDYe-LopB",
        "outputId": "5ee96a44-7b5b-487f-9d26-09101dd67045"
      },
      "source": [
        "x1 = np.array([8., 9.])\n",
        "x2 = np.array([3, 1])\n",
        "\n",
        "ax = plot_data(X, y)\n",
        "slope, intercept = np.polyfit(x1, x2, 1)\n",
        "print(\"slope\", slope, \"intercept\", intercept)\n",
        "ax.plot(x1, x2, 'g', label='manual plotting')\n"
      ],
      "execution_count": null,
      "outputs": [
        {
          "output_type": "stream",
          "text": [
            "slope -1.999999999999999 intercept 18.999999999999982\n"
          ],
          "name": "stdout"
        },
        {
          "output_type": "execute_result",
          "data": {
            "text/plain": [
              "[<matplotlib.lines.Line2D at 0x7f53694eb690>]"
            ]
          },
          "metadata": {
            "tags": []
          },
          "execution_count": 5
        },
        {
          "output_type": "display_data",
          "data": {
            "image/png": "[encoded data removed]",
            "text/plain": [
              "<Figure size 432x288 with 1 Axes>"
            ]
          },
          "metadata": {
            "tags": [],
            "needs_background": "light"
          }
        }
      ]
    },
    {
      "cell_type": "markdown",
      "metadata": {
        "id": "Df5x57dx3Wa4"
      },
      "source": [
        "# Run Logistic Regression"
      ]
    },
    {
      "cell_type": "code",
      "metadata": {
        "colab": {
          "base_uri": "https://localhost:8080/"
        },
        "id": "cZRfWzj9r28o",
        "outputId": "579caeb4-9025-4e3f-b731-a268b910af2c"
      },
      "source": [
        "from sklearn.linear_model import LogisticRegression\n",
        "\n",
        "model_logistic_regression = LogisticRegression()\n",
        "model_logistic_regression.fit(X, y)"
      ],
      "execution_count": null,
      "outputs": [
        {
          "output_type": "execute_result",
          "data": {
            "text/plain": [
              "LogisticRegression(C=1.0, class_weight=None, dual=False, fit_intercept=True,\n",
              "                   intercept_scaling=1, l1_ratio=None, max_iter=100,\n",
              "                   multi_class='auto', n_jobs=None, penalty='l2',\n",
              "                   random_state=None, solver='lbfgs', tol=0.0001, verbose=0,\n",
              "                   warm_start=False)"
            ]
          },
          "metadata": {
            "tags": []
          },
          "execution_count": 6
        }
      ]
    },
    {
      "cell_type": "code",
      "metadata": {
        "colab": {
          "base_uri": "https://localhost:8080/"
        },
        "id": "OIsUVGTjsKO5",
        "outputId": "a234a298-ba19-4cd7-afdf-8a5ebc0beb35"
      },
      "source": [
        "num_err = np.sum(y != model_logistic_regression.predict(X))\n",
        "print(\"Number of errors:\", num_err)"
      ],
      "execution_count": null,
      "outputs": [
        {
          "output_type": "stream",
          "text": [
            "Number of errors: 0\n"
          ],
          "name": "stdout"
        }
      ]
    },
    {
      "cell_type": "markdown",
      "metadata": {
        "id": "JADpLOjJkaLR"
      },
      "source": [
        "# SVM\n",
        "Use SVM to predict on the data"
      ]
    },
    {
      "cell_type": "code",
      "metadata": {
        "id": "YnfaVo5_1Mrm",
        "colab": {
          "base_uri": "https://localhost:8080/"
        },
        "outputId": "a6845adf-f675-4114-c964-9e624a4cf11a"
      },
      "source": [
        "from sklearn import svm\n",
        "\n",
        "svm_default = svm.SVC()\n",
        "svm_default.fit(X, y)\n",
        "\n",
        "preds = svm_default.predict(X)\n",
        "num_err = np.sum(y != preds)\n",
        "print(\"Number of errors: \", num_err)"
      ],
      "execution_count": null,
      "outputs": [
        {
          "output_type": "stream",
          "text": [
            "Number of errors:  1\n"
          ],
          "name": "stdout"
        }
      ]
    },
    {
      "cell_type": "code",
      "metadata": {
        "id": "rqEzSm6M5tmk",
        "colab": {
          "base_uri": "https://localhost:8080/"
        },
        "outputId": "392cf5a9-67d2-4069-a11a-8a104ec500f4"
      },
      "source": [
        "from sklearn import svm\n",
        "\n",
        "svr = svm.SVR()\n",
        "svr.fit(X, y)\n",
        "\n",
        "preds = svr.predict(X)\n",
        "num_err = np.sum(y != np.round(preds, 0))\n",
        "print(\"Number of errors: \", num_err)"
      ],
      "execution_count": null,
      "outputs": [
        {
          "output_type": "stream",
          "text": [
            "Number of errors:  1\n"
          ],
          "name": "stdout"
        }
      ]
    },
    {
      "cell_type": "code",
      "metadata": {
        "id": "Hm2r6210k598",
        "colab": {
          "base_uri": "https://localhost:8080/"
        },
        "outputId": "673d6c1b-dde1-47ce-b648-b3c50cb00eaf"
      },
      "source": [
        "svm_ovo = svm.SVC(decision_function_shape='ovo')\n",
        "svm_ovo.fit(X, y)\n",
        "\n",
        "preds = svm_ovo.predict(X)\n",
        "preds"
      ],
      "execution_count": null,
      "outputs": [
        {
          "output_type": "execute_result",
          "data": {
            "text/plain": [
              "array([0, 0, 0, 0, 1, 1, 0, 1])"
            ]
          },
          "metadata": {
            "tags": []
          },
          "execution_count": 14
        }
      ]
    },
    {
      "cell_type": "markdown",
      "metadata": {
        "id": "aPpzJCN515hE"
      },
      "source": [
        "## Plot the classifier\n",
        "The code is borrowed from [here](https://github.com/Bourbon0212/DataCamp-Practice/blob/master/Python/Linear%20Classifiers%20in%20Python/Linear%20Classifiers%20in%20Python.Rmd)"
      ]
    },
    {
      "cell_type": "code",
      "metadata": {
        "id": "Mmwig9OB0rx7"
      },
      "source": [
        "# ```{r bound_plor, engine='python', echo = F}\n",
        "def make_meshgrid(x, y, h=.02, lims=None):\n",
        "    \"\"\"Create a mesh of points to plot in\n",
        "    Parameters\n",
        "    ----------\n",
        "    x: data to base x-axis meshgrid on\n",
        "    y: data to base y-axis meshgrid on\n",
        "    h: stepsize for meshgrid, optional\n",
        "    Returns\n",
        "    -------\n",
        "    xx, yy : ndarray\n",
        "    \"\"\"\n",
        "    if lims is None:\n",
        "        x_min, x_max = x.min() - 1, x.max() + 1\n",
        "        y_min, y_max = y.min() - 1, y.max() + 1\n",
        "    else:\n",
        "        x_min, x_max, y_min, y_max = lims\n",
        "    xx, yy = np.meshgrid(np.arange(x_min, x_max, h),\n",
        "                         np.arange(y_min, y_max, h))\n",
        "    return xx, yy\n",
        "    \n",
        "def plot_contours(ax, clf, xx, yy, proba=False, **params):\n",
        "    \"\"\"Plot the decision boundaries for a classifier.\n",
        "    Parameters\n",
        "    ----------\n",
        "    ax: matplotlib axes object\n",
        "    clf: a classifier\n",
        "    xx: meshgrid ndarray\n",
        "    yy: meshgrid ndarray\n",
        "    params: dictionary of params to pass to contourf, optional\n",
        "    \"\"\"\n",
        "    if proba:\n",
        "        Z = clf.predict_proba(np.c_[xx.ravel(), yy.ravel()])[:,-1]\n",
        "        Z = Z.reshape(xx.shape)\n",
        "        out = ax.imshow(Z,extent=(np.min(xx), np.max(xx), np.min(yy), np.max(yy)), origin='lower', vmin=0, vmax=1, **params)\n",
        "        ax.contour(xx, yy, Z, levels=[0.5])\n",
        "    else:\n",
        "        Z = clf.predict(np.c_[xx.ravel(), yy.ravel()])\n",
        "        Z = Z.reshape(xx.shape)\n",
        "        out = ax.contourf(xx, yy, Z, **params)\n",
        "    return out\n",
        "    \n",
        "def plot_classifier(X, y, clf, ax=None, ticks=False, proba=False, lims=None): # assumes classifier \"clf\" is already fit\n",
        "    X0, X1 = X[:, 0], X[:, 1]\n",
        "    xx, yy = make_meshgrid(X0, X1, lims=lims)\n",
        "    if ax is None:\n",
        "        plt.figure()\n",
        "        ax = plt.gca()\n",
        "        show = True\n",
        "    else:\n",
        "        show = False\n",
        "    # can abstract some of this into a higher-level function for learners to call\n",
        "    cs = plot_contours(ax, clf, xx, yy, cmap=plt.cm.coolwarm, alpha=0.8, proba=proba)\n",
        "    if proba:\n",
        "        cbar = plt.colorbar(cs)\n",
        "        cbar.ax.set_ylabel('probability of red $\\Delta$ class', fontsize=20, rotation=270, labelpad=30)\n",
        "        cbar.ax.tick_params(labelsize=14)\n",
        "    #ax.scatter(X0, X1, c=y, cmap=plt.cm.coolwarm, s=30, edgecolors='k', linewidth=1)\n",
        "    labels = np.unique(y)\n",
        "    if len(labels) == 2:\n",
        "        ax.scatter(X0[y==labels[0]], X1[y==labels[0]], cmap=plt.cm.coolwarm, s=60, c='b', marker='o', edgecolors='k')\n",
        "        ax.scatter(X0[y==labels[1]], X1[y==labels[1]], cmap=plt.cm.coolwarm, s=60, c='r', marker='^', edgecolors='k')\n",
        "    else:\n",
        "        ax.scatter(X0, X1, c=y, cmap=plt.cm.coolwarm, s=50, edgecolors='k', linewidth=1)\n",
        "    ax.set_xlim(xx.min(), xx.max())\n",
        "    ax.set_ylim(yy.min(), yy.max())\n",
        "#     ax.set_xlabel(data.feature_names[0])\n",
        "#     ax.set_ylabel(data.feature_names[1])\n",
        "    if ticks:\n",
        "        ax.set_xticks(())\n",
        "        ax.set_yticks(())\n",
        "#     ax.set_title(title)\n",
        "    if show:\n",
        "        plt.show()\n",
        "    else:\n",
        "        return ax"
      ],
      "execution_count": null,
      "outputs": []
    },
    {
      "cell_type": "code",
      "metadata": {
        "colab": {
          "base_uri": "https://localhost:8080/",
          "height": 265
        },
        "id": "AXBTtLwV05kJ",
        "outputId": "3de7ae50-744f-4c1d-da85-aab9ef63fb37"
      },
      "source": [
        "plot_classifier(X, y, model_logistic_regression)"
      ],
      "execution_count": null,
      "outputs": [
        {
          "output_type": "display_data",
          "data": {
            "image/png": "[encoded data removed]",
            "text/plain": [
              "<Figure size 432x288 with 1 Axes>"
            ]
          },
          "metadata": {
            "tags": [],
            "needs_background": "light"
          }
        }
      ]
    }
  ]
}