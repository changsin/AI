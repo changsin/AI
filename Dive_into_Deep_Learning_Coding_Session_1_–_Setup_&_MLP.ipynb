{
  "nbformat": 4,
  "nbformat_minor": 0,
  "metadata": {
    "colab": {
      "name": "Dive into Deep Learning: Coding Session #1 – Setup & MLP.ipynb",
      "provenance": [],
      "include_colab_link": true
    },
    "kernelspec": {
      "name": "python3",
      "display_name": "Python 3"
    },
    "language_info": {
      "name": "python"
    }
  },
  "cells": [
    {
      "cell_type": "markdown",
      "metadata": {
        "id": "view-in-github",
        "colab_type": "text"
      },
      "source": [
        "<a href=\"https://colab.research.google.com/github/changsin/AI/blob/main/Dive_into_Deep_Learning_Coding_Session_1_%E2%80%93_Setup_%26_MLP.ipynb\" target=\"_parent\"><img src=\"https://colab.research.google.com/assets/colab-badge.svg\" alt=\"Open In Colab\"/></a>"
      ]
    },
    {
      "cell_type": "markdown",
      "metadata": {
        "id": "ta2sTXE9oqpA"
      },
      "source": [
        "# Dive into Deep Learning: Coding Session \\#1 – Setup & MLP\n",
        "\n",
        "---\n",
        "\n",
        "## 1. A Primer for pytorch\n",
        "\n",
        "pytorch has tensors very similar to arrays in numpy."
      ]
    },
    {
      "cell_type": "code",
      "metadata": {
        "id": "vP8daz7Vn4vw"
      },
      "source": [
        "import torch\n",
        "import random\n",
        "\n",
        "import pylab as plt\n",
        "plt.style.use('dark_background')"
      ],
      "execution_count": null,
      "outputs": []
    },
    {
      "cell_type": "markdown",
      "metadata": {
        "id": "FcOhdAbhmNrh"
      },
      "source": [
        "We generate a tensor named `my_tensor` with shape (3,4) with 3 rows, 4 columns, filled with random values. You can also check the `type` and `dtype` of `my_tensor`."
      ]
    },
    {
      "cell_type": "code",
      "metadata": {
        "id": "UD0f4wH0n9EC"
      },
      "source": [
        "my_tensor = torch.rand(size=(3,4))"
      ],
      "execution_count": null,
      "outputs": []
    },
    {
      "cell_type": "code",
      "metadata": {
        "id": "T3EU9LBooGr_",
        "colab": {
          "base_uri": "https://localhost:8080/"
        },
        "outputId": "0dcb77c1-7270-4178-8b93-63a13832613a"
      },
      "source": [
        "print(my_tensor)"
      ],
      "execution_count": null,
      "outputs": [
        {
          "output_type": "stream",
          "text": [
            "tensor([[0.5909, 0.1351, 0.7020, 0.2537],\n",
            "        [0.8742, 0.1426, 0.7305, 0.5548],\n",
            "        [0.8120, 0.2610, 0.2342, 0.0405]])\n"
          ],
          "name": "stdout"
        }
      ]
    },
    {
      "cell_type": "code",
      "metadata": {
        "id": "4xroHqmdoHs2",
        "colab": {
          "base_uri": "https://localhost:8080/"
        },
        "outputId": "b8ddf17c-7d15-4dc4-f352-dbe0d14503de"
      },
      "source": [
        "type(my_tensor)"
      ],
      "execution_count": null,
      "outputs": [
        {
          "output_type": "execute_result",
          "data": {
            "text/plain": [
              "torch.Tensor"
            ]
          },
          "metadata": {
            "tags": []
          },
          "execution_count": 5
        }
      ]
    },
    {
      "cell_type": "code",
      "metadata": {
        "id": "hUJKQ5IIoJhA",
        "colab": {
          "base_uri": "https://localhost:8080/"
        },
        "outputId": "b1249a04-e48f-41d6-bc42-e5b6f2121668"
      },
      "source": [
        "my_tensor.dtype"
      ],
      "execution_count": null,
      "outputs": [
        {
          "output_type": "execute_result",
          "data": {
            "text/plain": [
              "torch.float32"
            ]
          },
          "metadata": {
            "tags": []
          },
          "execution_count": 6
        }
      ]
    },
    {
      "cell_type": "markdown",
      "metadata": {
        "id": "zMTcHoW5oxCS"
      },
      "source": [
        "### Try using `torch.randn` with different shapes!"
      ]
    },
    {
      "cell_type": "code",
      "metadata": {
        "id": "aimxnM8ppGKf",
        "colab": {
          "base_uri": "https://localhost:8080/"
        },
        "outputId": "5441a012-cc58-4ab0-e888-10eccd41956c"
      },
      "source": [
        "torch.randn(3,4)"
      ],
      "execution_count": null,
      "outputs": [
        {
          "output_type": "execute_result",
          "data": {
            "text/plain": [
              "tensor([[-0.9493,  0.5587, -1.1773,  0.6277],\n",
              "        [ 0.0902, -0.9720, -0.4847,  0.7238],\n",
              "        [ 1.1310, -0.0766,  2.5303,  0.8667]])"
            ]
          },
          "metadata": {
            "tags": []
          },
          "execution_count": 7
        }
      ]
    },
    {
      "cell_type": "markdown",
      "metadata": {
        "id": "G1nhpkPoqwgG"
      },
      "source": [
        "### Autograd\n",
        "\n",
        "Pytorch also allows us to compute gradients using autograd. This requires `requires_grad=True` added to the torch tensors."
      ]
    },
    {
      "cell_type": "code",
      "metadata": {
        "id": "VAxxaQvVoKwT"
      },
      "source": [
        "a = torch.tensor([4.], requires_grad=True)\n",
        "b = torch.tensor([12.], requires_grad=True)"
      ],
      "execution_count": null,
      "outputs": []
    },
    {
      "cell_type": "code",
      "metadata": {
        "id": "FiIGJlj-rENd",
        "colab": {
          "base_uri": "https://localhost:8080/"
        },
        "outputId": "c4a8fdb2-c8de-439a-8786-7151999c464f"
      },
      "source": [
        "print(a)\n",
        "print(b)"
      ],
      "execution_count": null,
      "outputs": [
        {
          "output_type": "stream",
          "text": [
            "tensor([4.], requires_grad=True)\n",
            "tensor([12.], requires_grad=True)\n"
          ],
          "name": "stdout"
        }
      ]
    },
    {
      "cell_type": "code",
      "metadata": {
        "id": "CPVCo_4-rEfE",
        "colab": {
          "base_uri": "https://localhost:8080/"
        },
        "outputId": "891bf644-b8f6-4dae-82b0-8e87f928b41d"
      },
      "source": [
        "print(a.grad)\n",
        "print(b.grad)"
      ],
      "execution_count": null,
      "outputs": [
        {
          "output_type": "stream",
          "text": [
            "None\n",
            "None\n"
          ],
          "name": "stdout"
        }
      ]
    },
    {
      "cell_type": "markdown",
      "metadata": {
        "id": "wF_2d-G3mvuI"
      },
      "source": [
        "We can now perform mathematical operations and Pytorch will keep track of what's being done to each variable and will compute gradients!\n",
        "\n",
        "Let's do $$ y = a^3 - b^2$$"
      ]
    },
    {
      "cell_type": "code",
      "metadata": {
        "id": "OPUq2oZ8rKoO"
      },
      "source": [
        "y = a**3 - b**2"
      ],
      "execution_count": null,
      "outputs": []
    },
    {
      "cell_type": "code",
      "metadata": {
        "id": "VHrbRrxHrN40",
        "colab": {
          "base_uri": "https://localhost:8080/"
        },
        "outputId": "7d0bb59d-ec3e-4233-b3fb-f9d44610d85c"
      },
      "source": [
        "print(y)"
      ],
      "execution_count": null,
      "outputs": [
        {
          "output_type": "stream",
          "text": [
            "tensor([-80.], grad_fn=<SubBackward0>)\n"
          ],
          "name": "stdout"
        }
      ]
    },
    {
      "cell_type": "markdown",
      "metadata": {
        "id": "2XNr3D5-rP74"
      },
      "source": [
        "We can compute $\\frac{\\partial y}{\\partial a} = 3 a^2 = 48$ and $\\frac{\\partial y}{\\partial b} = -2b = 24$ as follows:"
      ]
    },
    {
      "cell_type": "markdown",
      "metadata": {
        "id": "zDcWXmUHnHV_"
      },
      "source": [
        "To compute the gradients use the `.backward()` method, and the grad values are available via `a.grad` and `b.grad`."
      ]
    },
    {
      "cell_type": "code",
      "metadata": {
        "id": "PVYtXO0OrObk"
      },
      "source": [
        "y.backward()"
      ],
      "execution_count": null,
      "outputs": []
    },
    {
      "cell_type": "code",
      "metadata": {
        "id": "NTnEYC24rjLL",
        "colab": {
          "base_uri": "https://localhost:8080/"
        },
        "outputId": "1c17fb4c-793f-43ea-fe2c-a12eb3618a25"
      },
      "source": [
        "print(a.grad)\n",
        "print(b.grad)"
      ],
      "execution_count": null,
      "outputs": [
        {
          "output_type": "stream",
          "text": [
            "tensor([48.])\n",
            "tensor([-24.])\n"
          ],
          "name": "stdout"
        }
      ]
    },
    {
      "cell_type": "markdown",
      "metadata": {
        "id": "20Pypo_cpJIY"
      },
      "source": [
        "### Try $y = sin((a+b)^2)$ and compute $\\partial y / \\partial a$ and $\\partial y / \\partial b$"
      ]
    },
    {
      "cell_type": "code",
      "metadata": {
        "id": "aUHn4SCepIuz"
      },
      "source": [
        "y = torch.sin((a+b)**2)"
      ],
      "execution_count": null,
      "outputs": []
    },
    {
      "cell_type": "code",
      "metadata": {
        "id": "1UzIyJ6aCYHF"
      },
      "source": [
        "y.backward()"
      ],
      "execution_count": null,
      "outputs": []
    },
    {
      "cell_type": "code",
      "metadata": {
        "colab": {
          "base_uri": "https://localhost:8080/"
        },
        "id": "MGaZJL6hCaM9",
        "outputId": "c41c8aef-5f07-4a65-a6cb-f72252c4d4c9"
      },
      "source": [
        "a.grad, b.grad"
      ],
      "execution_count": null,
      "outputs": [
        {
          "output_type": "execute_result",
          "data": {
            "text/plain": [
              "(tensor([46.7267]), tensor([-25.2733]))"
            ]
          },
          "metadata": {
            "tags": []
          },
          "execution_count": 18
        }
      ]
    },
    {
      "cell_type": "markdown",
      "metadata": {
        "id": "S8yX1NXywuZ5"
      },
      "source": [
        "## 2. Linear Regression\n",
        "\n",
        "- prediction: $\\hat{y}$\n",
        "- weights: $\\mathbf{w}$\n",
        "- feature vector: $\\mathbf{x}$\n",
        "- bias: $b$\n",
        "\n",
        "The model is defined by:\n",
        "$$\\hat{y} = \\mathbf{w}^\\mathrm{T} \\mathbf{x} + b$$"
      ]
    },
    {
      "cell_type": "code",
      "metadata": {
        "id": "vc4-VG5Yy53R"
      },
      "source": [
        "def model(X, w, b):\n",
        "    \"\"\"your model\"\"\"\n",
        "    return torch.matmul(X, w) + b"
      ],
      "execution_count": null,
      "outputs": []
    },
    {
      "cell_type": "markdown",
      "metadata": {
        "id": "g_kVa1eJneRc"
      },
      "source": [
        "We first generate some synthetic data with 1000 data points $$\\mathbf{w} = \\{2, -3.4\\}$$ and $$b = 4.2$$\n",
        "\n",
        "We also add Gaussian Noise with 0 mean and $0.01$ standard deviation.\n",
        "\n",
        "*hint*: use `torch.matmul` for $\\mathbf{w}^\\mathrm{T} \\mathbf{x}$ and `torch.normal` for the noise."
      ]
    },
    {
      "cell_type": "code",
      "metadata": {
        "id": "4gmZzvgdwvnY"
      },
      "source": [
        "def synthetic_data(w, b, num_examples):\n",
        "    \"\"\"Generate y = Xw + b + noise.\"\"\"\n",
        "    X = torch.normal(0, 1, (num_examples, len(w)))\n",
        "    y = torch.matmul(X, w) + b\n",
        "    y += torch.normal(0, 0.01, y.shape)\n",
        "\n",
        "    return X, y.reshape((-1,1))"
      ],
      "execution_count": null,
      "outputs": []
    },
    {
      "cell_type": "code",
      "metadata": {
        "id": "5UJcwCMYw9os"
      },
      "source": [
        "true_w = torch.tensor([2, -3.4])\n",
        "true_b = 4.2\n",
        "features, labels = synthetic_data(true_w, true_b, 1000)"
      ],
      "execution_count": null,
      "outputs": []
    },
    {
      "cell_type": "code",
      "metadata": {
        "colab": {
          "base_uri": "https://localhost:8080/"
        },
        "id": "9XIrRR6uDan3",
        "outputId": "56836018-30c5-4337-ce5c-8268a910737e"
      },
      "source": [
        "features, labels"
      ],
      "execution_count": null,
      "outputs": [
        {
          "output_type": "execute_result",
          "data": {
            "text/plain": [
              "(tensor([[ 0.0596,  0.4525],\n",
              "         [-0.4065,  2.3302],\n",
              "         [-0.8148, -0.5281],\n",
              "         ...,\n",
              "         [-0.9836,  1.7068],\n",
              "         [ 0.5465,  0.4055],\n",
              "         [-0.4106, -0.1955]]), tensor([[ 2.7941],\n",
              "         [-4.5301],\n",
              "         [ 4.3576],\n",
              "         [ 4.5212],\n",
              "         [ 5.2273],\n",
              "         [ 6.5129],\n",
              "         [ 0.1071],\n",
              "         [ 4.8692],\n",
              "         [ 1.7759],\n",
              "         [ 3.6111],\n",
              "         [ 7.8249],\n",
              "         [ 4.8064],\n",
              "         [11.2382],\n",
              "         [ 5.9598],\n",
              "         [ 6.7361],\n",
              "         [ 5.6581],\n",
              "         [-3.7886],\n",
              "         [ 3.4498],\n",
              "         [ 4.4129],\n",
              "         [-0.8932],\n",
              "         [ 7.6443],\n",
              "         [ 4.9733],\n",
              "         [ 9.6381],\n",
              "         [ 9.9245],\n",
              "         [ 1.7110],\n",
              "         [ 5.6821],\n",
              "         [12.3799],\n",
              "         [ 5.3097],\n",
              "         [ 5.1378],\n",
              "         [-3.9210],\n",
              "         [ 9.7566],\n",
              "         [ 4.2428],\n",
              "         [ 7.9671],\n",
              "         [ 4.7039],\n",
              "         [ 9.5568],\n",
              "         [-2.7433],\n",
              "         [ 3.2323],\n",
              "         [-0.9246],\n",
              "         [ 3.3579],\n",
              "         [-0.3106],\n",
              "         [ 7.0821],\n",
              "         [ 6.6956],\n",
              "         [ 5.7650],\n",
              "         [-2.5441],\n",
              "         [10.3890],\n",
              "         [14.6491],\n",
              "         [ 4.6672],\n",
              "         [ 6.1485],\n",
              "         [ 5.3498],\n",
              "         [ 4.4529],\n",
              "         [-2.0443],\n",
              "         [ 0.2376],\n",
              "         [ 3.7108],\n",
              "         [-0.6873],\n",
              "         [-2.1593],\n",
              "         [ 5.1800],\n",
              "         [ 1.4130],\n",
              "         [ 6.7768],\n",
              "         [ 6.3639],\n",
              "         [ 0.6685],\n",
              "         [ 8.0612],\n",
              "         [ 3.2170],\n",
              "         [ 5.7402],\n",
              "         [ 0.3610],\n",
              "         [ 8.9690],\n",
              "         [ 8.3116],\n",
              "         [ 2.3944],\n",
              "         [ 1.9975],\n",
              "         [ 6.7659],\n",
              "         [ 3.8408],\n",
              "         [ 5.1698],\n",
              "         [ 9.4872],\n",
              "         [ 3.0558],\n",
              "         [ 4.0226],\n",
              "         [ 7.1724],\n",
              "         [-2.5335],\n",
              "         [ 4.8169],\n",
              "         [ 6.0492],\n",
              "         [ 0.8755],\n",
              "         [ 0.8521],\n",
              "         [ 4.4897],\n",
              "         [ 8.2512],\n",
              "         [-0.7722],\n",
              "         [ 5.7560],\n",
              "         [ 2.9906],\n",
              "         [10.4942],\n",
              "         [ 5.4207],\n",
              "         [-0.5343],\n",
              "         [ 4.8699],\n",
              "         [11.6208],\n",
              "         [ 9.8273],\n",
              "         [ 5.7911],\n",
              "         [ 3.2631],\n",
              "         [ 0.5701],\n",
              "         [-0.5675],\n",
              "         [ 1.5063],\n",
              "         [ 1.8719],\n",
              "         [ 5.8015],\n",
              "         [ 1.2920],\n",
              "         [ 5.5737],\n",
              "         [-0.6072],\n",
              "         [ 6.3762],\n",
              "         [ 9.8020],\n",
              "         [-5.7383],\n",
              "         [ 1.9874],\n",
              "         [ 3.3771],\n",
              "         [-1.1100],\n",
              "         [ 5.2618],\n",
              "         [ 7.7226],\n",
              "         [ 8.5192],\n",
              "         [ 5.1797],\n",
              "         [ 1.8146],\n",
              "         [ 5.4615],\n",
              "         [ 3.0089],\n",
              "         [ 1.6108],\n",
              "         [ 6.7191],\n",
              "         [ 5.0334],\n",
              "         [ 5.6944],\n",
              "         [ 7.0857],\n",
              "         [13.4212],\n",
              "         [ 8.8236],\n",
              "         [ 2.1363],\n",
              "         [ 0.6845],\n",
              "         [ 0.2623],\n",
              "         [ 0.4545],\n",
              "         [ 2.2187],\n",
              "         [ 8.0512],\n",
              "         [ 6.6127],\n",
              "         [ 1.9298],\n",
              "         [ 9.8767],\n",
              "         [ 3.0700],\n",
              "         [ 8.3389],\n",
              "         [ 2.1471],\n",
              "         [ 9.0947],\n",
              "         [ 1.4456],\n",
              "         [11.0286],\n",
              "         [ 7.9444],\n",
              "         [ 6.1654],\n",
              "         [-0.4379],\n",
              "         [10.8226],\n",
              "         [-1.1293],\n",
              "         [12.7456],\n",
              "         [ 8.5374],\n",
              "         [ 1.6240],\n",
              "         [ 2.4855],\n",
              "         [-4.0659],\n",
              "         [ 7.9691],\n",
              "         [ 1.1496],\n",
              "         [11.3693],\n",
              "         [ 5.6221],\n",
              "         [ 2.0462],\n",
              "         [ 1.2796],\n",
              "         [ 3.8600],\n",
              "         [ 0.1338],\n",
              "         [ 0.7820],\n",
              "         [ 3.6466],\n",
              "         [-3.7490],\n",
              "         [-1.0727],\n",
              "         [-1.0439],\n",
              "         [ 7.8027],\n",
              "         [ 5.4880],\n",
              "         [-2.9466],\n",
              "         [ 1.7831],\n",
              "         [11.7875],\n",
              "         [-0.2031],\n",
              "         [ 4.3962],\n",
              "         [ 2.8067],\n",
              "         [ 1.3428],\n",
              "         [ 4.7837],\n",
              "         [14.1011],\n",
              "         [ 5.0450],\n",
              "         [ 2.7407],\n",
              "         [10.3633],\n",
              "         [ 3.0394],\n",
              "         [ 2.1582],\n",
              "         [13.7909],\n",
              "         [ 4.7298],\n",
              "         [-4.9309],\n",
              "         [ 0.8152],\n",
              "         [ 7.0979],\n",
              "         [ 6.8832],\n",
              "         [ 1.9552],\n",
              "         [10.7700],\n",
              "         [ 1.6868],\n",
              "         [ 0.1769],\n",
              "         [ 0.8318],\n",
              "         [ 2.7146],\n",
              "         [ 2.8946],\n",
              "         [ 5.9646],\n",
              "         [ 1.4986],\n",
              "         [ 4.8561],\n",
              "         [ 7.2739],\n",
              "         [ 9.4452],\n",
              "         [ 6.2219],\n",
              "         [ 7.5725],\n",
              "         [ 5.8750],\n",
              "         [ 0.6662],\n",
              "         [ 8.4195],\n",
              "         [ 3.7185],\n",
              "         [ 9.5171],\n",
              "         [ 6.0116],\n",
              "         [ 0.1905],\n",
              "         [ 8.5092],\n",
              "         [12.0571],\n",
              "         [12.1683],\n",
              "         [ 0.0998],\n",
              "         [-1.8101],\n",
              "         [-3.7086],\n",
              "         [ 4.6550],\n",
              "         [-3.6235],\n",
              "         [ 0.3124],\n",
              "         [ 2.0262],\n",
              "         [ 1.8180],\n",
              "         [10.4277],\n",
              "         [-1.5908],\n",
              "         [ 1.4099],\n",
              "         [ 8.5334],\n",
              "         [10.9735],\n",
              "         [-0.4633],\n",
              "         [ 1.9525],\n",
              "         [ 7.5919],\n",
              "         [ 8.7764],\n",
              "         [ 3.5835],\n",
              "         [ 8.8896],\n",
              "         [ 7.2248],\n",
              "         [-1.0581],\n",
              "         [ 3.8886],\n",
              "         [ 1.4261],\n",
              "         [ 6.8335],\n",
              "         [ 3.5847],\n",
              "         [ 5.2323],\n",
              "         [ 3.6609],\n",
              "         [ 7.1457],\n",
              "         [ 4.3603],\n",
              "         [ 3.4527],\n",
              "         [ 6.2574],\n",
              "         [ 5.3081],\n",
              "         [ 7.1130],\n",
              "         [ 1.6796],\n",
              "         [11.4259],\n",
              "         [ 7.5710],\n",
              "         [-4.3644],\n",
              "         [ 4.4615],\n",
              "         [-0.9041],\n",
              "         [-2.9658],\n",
              "         [-1.5708],\n",
              "         [ 4.2888],\n",
              "         [ 1.3080],\n",
              "         [ 5.2982],\n",
              "         [ 6.4960],\n",
              "         [ 3.9498],\n",
              "         [ 6.8557],\n",
              "         [ 3.2992],\n",
              "         [ 8.5930],\n",
              "         [ 6.6890],\n",
              "         [ 8.6486],\n",
              "         [ 3.1053],\n",
              "         [ 0.3218],\n",
              "         [-2.6608],\n",
              "         [ 6.2802],\n",
              "         [ 4.2005],\n",
              "         [ 7.3285],\n",
              "         [ 3.2757],\n",
              "         [ 1.8952],\n",
              "         [ 1.3628],\n",
              "         [ 2.9006],\n",
              "         [-0.5222],\n",
              "         [-1.2195],\n",
              "         [ 3.7224],\n",
              "         [ 3.3796],\n",
              "         [ 2.9145],\n",
              "         [-1.9264],\n",
              "         [ 6.2528],\n",
              "         [ 2.7747],\n",
              "         [ 2.3799],\n",
              "         [ 3.5771],\n",
              "         [ 0.3536],\n",
              "         [ 1.3494],\n",
              "         [ 9.8208],\n",
              "         [ 4.5693],\n",
              "         [-1.6514],\n",
              "         [ 2.2059],\n",
              "         [ 3.2213],\n",
              "         [ 5.8743],\n",
              "         [ 1.8311],\n",
              "         [ 6.1960],\n",
              "         [ 6.2422],\n",
              "         [ 5.1868],\n",
              "         [ 2.1882],\n",
              "         [ 1.9051],\n",
              "         [ 1.2249],\n",
              "         [ 0.5227],\n",
              "         [ 6.7460],\n",
              "         [ 5.6231],\n",
              "         [ 2.8256],\n",
              "         [ 2.4553],\n",
              "         [ 0.1525],\n",
              "         [ 2.3086],\n",
              "         [ 3.7201],\n",
              "         [-2.6506],\n",
              "         [ 3.7296],\n",
              "         [10.1198],\n",
              "         [ 4.2760],\n",
              "         [ 3.1870],\n",
              "         [-2.8696],\n",
              "         [ 2.1129],\n",
              "         [-1.6598],\n",
              "         [ 7.2488],\n",
              "         [16.7536],\n",
              "         [ 2.0807],\n",
              "         [ 4.5549],\n",
              "         [ 4.1635],\n",
              "         [ 7.7729],\n",
              "         [ 3.4883],\n",
              "         [-3.2131],\n",
              "         [10.8680],\n",
              "         [-0.5777],\n",
              "         [ 4.6497],\n",
              "         [ 4.7066],\n",
              "         [ 4.0837],\n",
              "         [10.2756],\n",
              "         [ 5.8188],\n",
              "         [ 0.6828],\n",
              "         [10.1276],\n",
              "         [ 5.1367],\n",
              "         [ 0.8240],\n",
              "         [ 7.2492],\n",
              "         [ 6.2692],\n",
              "         [ 7.5077],\n",
              "         [ 8.8569],\n",
              "         [ 2.7685],\n",
              "         [ 0.9345],\n",
              "         [ 4.9997],\n",
              "         [ 4.7325],\n",
              "         [-6.6798],\n",
              "         [ 2.9482],\n",
              "         [10.0247],\n",
              "         [ 8.7811],\n",
              "         [ 2.3025],\n",
              "         [10.2421],\n",
              "         [ 3.5846],\n",
              "         [ 6.6759],\n",
              "         [ 5.6296],\n",
              "         [ 7.0737],\n",
              "         [ 4.1167],\n",
              "         [-3.4812],\n",
              "         [ 7.5533],\n",
              "         [ 8.4418],\n",
              "         [ 8.2445],\n",
              "         [ 3.9077],\n",
              "         [ 3.6653],\n",
              "         [ 8.3785],\n",
              "         [ 3.4100],\n",
              "         [ 4.5748],\n",
              "         [13.7922],\n",
              "         [ 4.9179],\n",
              "         [ 2.2201],\n",
              "         [ 8.2248],\n",
              "         [ 0.6353],\n",
              "         [ 0.1299],\n",
              "         [14.2276],\n",
              "         [ 5.9859],\n",
              "         [10.9304],\n",
              "         [ 7.3949],\n",
              "         [ 5.1874],\n",
              "         [ 3.3464],\n",
              "         [ 5.0753],\n",
              "         [ 6.1584],\n",
              "         [ 3.0338],\n",
              "         [ 7.4274],\n",
              "         [ 6.8288],\n",
              "         [ 0.5768],\n",
              "         [ 4.4864],\n",
              "         [ 8.1795],\n",
              "         [ 6.1894],\n",
              "         [ 8.8238],\n",
              "         [ 0.5871],\n",
              "         [ 3.0930],\n",
              "         [ 4.4778],\n",
              "         [ 2.7396],\n",
              "         [ 9.5764],\n",
              "         [-0.4162],\n",
              "         [ 3.3168],\n",
              "         [ 5.7533],\n",
              "         [ 3.6907],\n",
              "         [ 7.1859],\n",
              "         [ 4.2349],\n",
              "         [ 0.3260],\n",
              "         [ 8.0605],\n",
              "         [ 4.8348],\n",
              "         [-2.6184],\n",
              "         [ 6.2654],\n",
              "         [ 6.6540],\n",
              "         [ 6.5465],\n",
              "         [ 0.7893],\n",
              "         [ 7.4535],\n",
              "         [ 9.4404],\n",
              "         [ 6.5728],\n",
              "         [ 2.4383],\n",
              "         [ 9.2409],\n",
              "         [ 1.3650],\n",
              "         [ 0.0819],\n",
              "         [ 3.0148],\n",
              "         [ 7.5167],\n",
              "         [ 5.1677],\n",
              "         [ 5.1405],\n",
              "         [ 5.9409],\n",
              "         [ 3.5950],\n",
              "         [ 1.1790],\n",
              "         [ 2.7960],\n",
              "         [ 8.4389],\n",
              "         [ 2.7274],\n",
              "         [ 7.9270],\n",
              "         [ 6.4629],\n",
              "         [ 9.5559],\n",
              "         [ 3.0007],\n",
              "         [ 2.5576],\n",
              "         [-0.2593],\n",
              "         [ 8.2074],\n",
              "         [ 9.1377],\n",
              "         [-0.0505],\n",
              "         [ 1.9532],\n",
              "         [ 3.1883],\n",
              "         [ 3.6212],\n",
              "         [ 4.8059],\n",
              "         [ 6.9539],\n",
              "         [ 7.2337],\n",
              "         [ 9.7978],\n",
              "         [ 9.5315],\n",
              "         [ 9.7366],\n",
              "         [12.1726],\n",
              "         [13.7052],\n",
              "         [ 4.1663],\n",
              "         [ 8.3652],\n",
              "         [ 7.8941],\n",
              "         [ 7.2783],\n",
              "         [ 7.6670],\n",
              "         [ 5.5850],\n",
              "         [-0.6466],\n",
              "         [ 5.0836],\n",
              "         [ 3.8323],\n",
              "         [ 1.9643],\n",
              "         [-4.3526],\n",
              "         [ 1.5281],\n",
              "         [ 5.1130],\n",
              "         [ 0.6808],\n",
              "         [ 6.4329],\n",
              "         [ 9.5225],\n",
              "         [11.4949],\n",
              "         [-2.6539],\n",
              "         [ 3.6815],\n",
              "         [-1.4505],\n",
              "         [ 3.5446],\n",
              "         [ 3.9725],\n",
              "         [ 6.5659],\n",
              "         [ 1.6740],\n",
              "         [ 7.8857],\n",
              "         [ 5.3346],\n",
              "         [ 0.9131],\n",
              "         [ 3.5544],\n",
              "         [ 4.9018],\n",
              "         [ 5.6151],\n",
              "         [ 5.9788],\n",
              "         [ 1.3093],\n",
              "         [ 9.2105],\n",
              "         [ 0.3279],\n",
              "         [ 4.2565],\n",
              "         [ 4.8287],\n",
              "         [ 3.1004],\n",
              "         [ 2.6455],\n",
              "         [-2.0098],\n",
              "         [ 2.0990],\n",
              "         [ 3.6492],\n",
              "         [ 1.6309],\n",
              "         [ 4.4296],\n",
              "         [ 3.4386],\n",
              "         [ 2.3669],\n",
              "         [ 0.3532],\n",
              "         [ 4.1297],\n",
              "         [-1.8599],\n",
              "         [ 2.8099],\n",
              "         [ 7.6349],\n",
              "         [ 4.9377],\n",
              "         [ 3.4635],\n",
              "         [ 3.6283],\n",
              "         [-0.8270],\n",
              "         [-3.6742],\n",
              "         [ 3.5973],\n",
              "         [ 8.8329],\n",
              "         [ 4.6787],\n",
              "         [ 8.4185],\n",
              "         [ 4.3012],\n",
              "         [ 1.1866],\n",
              "         [ 1.5809],\n",
              "         [-9.0858],\n",
              "         [ 5.5183],\n",
              "         [-6.2587],\n",
              "         [ 2.0195],\n",
              "         [ 5.1504],\n",
              "         [ 9.5335],\n",
              "         [-5.1261],\n",
              "         [ 3.0857],\n",
              "         [ 6.6490],\n",
              "         [ 7.1160],\n",
              "         [-1.0768],\n",
              "         [ 8.5078],\n",
              "         [-5.5117],\n",
              "         [ 4.2242],\n",
              "         [ 1.9151],\n",
              "         [-0.7510],\n",
              "         [ 2.0024],\n",
              "         [ 7.4290],\n",
              "         [ 0.4293],\n",
              "         [ 4.0727],\n",
              "         [-3.6110],\n",
              "         [ 0.6753],\n",
              "         [ 2.1204],\n",
              "         [ 4.0881],\n",
              "         [ 8.1563],\n",
              "         [ 6.8898],\n",
              "         [-0.1375],\n",
              "         [ 0.4349],\n",
              "         [10.2003],\n",
              "         [ 4.9174],\n",
              "         [ 3.2682],\n",
              "         [ 0.2743],\n",
              "         [ 0.6912],\n",
              "         [ 0.7298],\n",
              "         [ 5.6085],\n",
              "         [ 7.4139],\n",
              "         [ 2.0565],\n",
              "         [ 6.3744],\n",
              "         [ 4.6806],\n",
              "         [-0.8250],\n",
              "         [ 5.4323],\n",
              "         [-1.0449],\n",
              "         [ 8.1381],\n",
              "         [11.8982],\n",
              "         [-0.2769],\n",
              "         [ 8.6202],\n",
              "         [ 2.9442],\n",
              "         [ 3.2292],\n",
              "         [ 1.5949],\n",
              "         [ 3.9733],\n",
              "         [ 2.6616],\n",
              "         [ 4.2690],\n",
              "         [ 2.6840],\n",
              "         [ 8.1576],\n",
              "         [ 7.6179],\n",
              "         [ 1.1991],\n",
              "         [ 5.2111],\n",
              "         [ 7.2996],\n",
              "         [ 4.1860],\n",
              "         [10.1703],\n",
              "         [ 7.3800],\n",
              "         [ 0.4206],\n",
              "         [ 0.2392],\n",
              "         [-2.5201],\n",
              "         [ 7.3040],\n",
              "         [ 6.4860],\n",
              "         [-3.2511],\n",
              "         [ 1.8574],\n",
              "         [-2.2431],\n",
              "         [ 3.5019],\n",
              "         [ 6.9506],\n",
              "         [-3.9711],\n",
              "         [-2.7388],\n",
              "         [ 2.9754],\n",
              "         [ 7.0848],\n",
              "         [-1.5315],\n",
              "         [-0.0874],\n",
              "         [ 5.0062],\n",
              "         [ 6.2294],\n",
              "         [ 2.9137],\n",
              "         [-2.7317],\n",
              "         [ 7.9410],\n",
              "         [ 2.4824],\n",
              "         [-4.5040],\n",
              "         [ 0.4874],\n",
              "         [ 0.1790],\n",
              "         [ 3.9313],\n",
              "         [ 1.3701],\n",
              "         [ 3.4194],\n",
              "         [-2.1167],\n",
              "         [ 0.1985],\n",
              "         [ 5.0760],\n",
              "         [ 3.1538],\n",
              "         [ 3.0672],\n",
              "         [ 1.6920],\n",
              "         [ 8.3777],\n",
              "         [ 7.2377],\n",
              "         [ 2.1452],\n",
              "         [ 3.8146],\n",
              "         [10.5643],\n",
              "         [ 6.6774],\n",
              "         [ 5.6918],\n",
              "         [ 4.4964],\n",
              "         [ 5.2505],\n",
              "         [ 9.6373],\n",
              "         [ 4.0237],\n",
              "         [ 2.6557],\n",
              "         [ 0.1998],\n",
              "         [ 1.3902],\n",
              "         [ 0.5904],\n",
              "         [ 7.3692],\n",
              "         [-3.0495],\n",
              "         [-2.1773],\n",
              "         [ 1.8819],\n",
              "         [ 8.6601],\n",
              "         [ 2.0086],\n",
              "         [ 7.0278],\n",
              "         [ 6.7234],\n",
              "         [ 8.4329],\n",
              "         [-0.3434],\n",
              "         [ 2.1570],\n",
              "         [ 7.2303],\n",
              "         [ 4.2623],\n",
              "         [ 9.9532],\n",
              "         [ 3.4925],\n",
              "         [ 4.0361],\n",
              "         [ 3.2125],\n",
              "         [-0.7422],\n",
              "         [ 0.7743],\n",
              "         [ 9.9253],\n",
              "         [ 8.5145],\n",
              "         [-3.8056],\n",
              "         [ 2.2868],\n",
              "         [-0.0757],\n",
              "         [ 5.0318],\n",
              "         [11.7951],\n",
              "         [ 0.9760],\n",
              "         [-3.4567],\n",
              "         [10.1045],\n",
              "         [ 6.7753],\n",
              "         [ 0.2610],\n",
              "         [ 4.6783],\n",
              "         [ 7.5421],\n",
              "         [ 3.4838],\n",
              "         [ 2.4676],\n",
              "         [ 6.1094],\n",
              "         [ 6.3094],\n",
              "         [ 2.7462],\n",
              "         [ 8.2132],\n",
              "         [ 5.5868],\n",
              "         [-5.3979],\n",
              "         [ 1.6634],\n",
              "         [ 1.6666],\n",
              "         [ 5.8441],\n",
              "         [ 6.9665],\n",
              "         [ 8.9911],\n",
              "         [ 9.4165],\n",
              "         [ 1.6533],\n",
              "         [-0.3824],\n",
              "         [ 3.8519],\n",
              "         [ 8.1494],\n",
              "         [-0.1239],\n",
              "         [-3.5359],\n",
              "         [ 9.6791],\n",
              "         [ 7.1333],\n",
              "         [ 9.8135],\n",
              "         [ 0.7339],\n",
              "         [ 1.1652],\n",
              "         [ 8.9316],\n",
              "         [ 5.2849],\n",
              "         [ 3.3094],\n",
              "         [11.3343],\n",
              "         [ 3.2392],\n",
              "         [ 1.1115],\n",
              "         [ 2.5291],\n",
              "         [ 1.1791],\n",
              "         [ 8.6752],\n",
              "         [ 4.8213],\n",
              "         [ 7.0004],\n",
              "         [ 8.9013],\n",
              "         [ 3.0267],\n",
              "         [ 8.5408],\n",
              "         [ 2.1857],\n",
              "         [ 3.9193],\n",
              "         [ 6.2458],\n",
              "         [ 7.3512],\n",
              "         [ 5.2123],\n",
              "         [ 4.8966],\n",
              "         [13.7001],\n",
              "         [-1.9304],\n",
              "         [10.1488],\n",
              "         [ 5.9498],\n",
              "         [15.1628],\n",
              "         [-2.6168],\n",
              "         [ 2.3422],\n",
              "         [ 6.4952],\n",
              "         [ 8.0205],\n",
              "         [-1.5047],\n",
              "         [ 3.2368],\n",
              "         [ 6.6259],\n",
              "         [-3.6077],\n",
              "         [-3.2722],\n",
              "         [ 3.8763],\n",
              "         [ 3.3500],\n",
              "         [ 3.6975],\n",
              "         [ 5.0188],\n",
              "         [-5.0357],\n",
              "         [10.3052],\n",
              "         [ 2.6894],\n",
              "         [ 2.3084],\n",
              "         [ 6.7098],\n",
              "         [ 2.1438],\n",
              "         [19.6051],\n",
              "         [-4.8964],\n",
              "         [ 3.3704],\n",
              "         [ 1.9323],\n",
              "         [-1.1996],\n",
              "         [ 1.7262],\n",
              "         [ 7.6033],\n",
              "         [ 8.6945],\n",
              "         [ 1.0052],\n",
              "         [ 2.7719],\n",
              "         [ 5.2808],\n",
              "         [ 4.6803],\n",
              "         [ 2.0698],\n",
              "         [ 2.3415],\n",
              "         [ 0.6408],\n",
              "         [ 7.4370],\n",
              "         [-2.5458],\n",
              "         [ 6.1907],\n",
              "         [ 5.3128],\n",
              "         [ 4.9287],\n",
              "         [ 7.4454],\n",
              "         [ 9.0145],\n",
              "         [ 4.1121],\n",
              "         [-3.9681],\n",
              "         [ 4.5778],\n",
              "         [ 4.4754],\n",
              "         [ 4.6363],\n",
              "         [ 5.3946],\n",
              "         [10.0163],\n",
              "         [ 4.0458],\n",
              "         [ 3.6790],\n",
              "         [-1.7596],\n",
              "         [ 4.1785],\n",
              "         [ 3.0669],\n",
              "         [ 6.4728],\n",
              "         [ 6.4902],\n",
              "         [-0.5966],\n",
              "         [ 3.3421],\n",
              "         [ 2.5896],\n",
              "         [ 2.1917],\n",
              "         [-2.9241],\n",
              "         [-1.2736],\n",
              "         [-0.6773],\n",
              "         [ 0.0455],\n",
              "         [ 5.1660],\n",
              "         [ 3.6615],\n",
              "         [ 7.6941],\n",
              "         [-0.7593],\n",
              "         [ 3.7689],\n",
              "         [ 5.2502],\n",
              "         [ 4.6414],\n",
              "         [-2.2182],\n",
              "         [ 1.3191],\n",
              "         [ 8.2382],\n",
              "         [ 3.2366],\n",
              "         [ 2.5665],\n",
              "         [ 5.8023],\n",
              "         [ 0.8213],\n",
              "         [-3.0280],\n",
              "         [ 3.4496],\n",
              "         [ 6.0157],\n",
              "         [ 9.6355],\n",
              "         [ 2.5392],\n",
              "         [-0.7314],\n",
              "         [ 2.8225],\n",
              "         [ 9.7285],\n",
              "         [11.8798],\n",
              "         [ 5.4616],\n",
              "         [-3.9111],\n",
              "         [11.6098],\n",
              "         [11.2633],\n",
              "         [ 5.4627],\n",
              "         [ 1.3940],\n",
              "         [-0.8567],\n",
              "         [ 4.4520],\n",
              "         [ 2.2298],\n",
              "         [-7.3406],\n",
              "         [ 5.6404],\n",
              "         [-0.3210],\n",
              "         [ 2.6201],\n",
              "         [ 4.6529],\n",
              "         [ 7.7118],\n",
              "         [ 2.7494],\n",
              "         [ 7.8631],\n",
              "         [-1.0611],\n",
              "         [-1.2630],\n",
              "         [-3.2036],\n",
              "         [ 7.3523],\n",
              "         [ 1.8969],\n",
              "         [ 1.2616],\n",
              "         [ 4.6881],\n",
              "         [ 0.8200],\n",
              "         [ 5.6054],\n",
              "         [ 3.6435],\n",
              "         [ 6.2176],\n",
              "         [ 7.1523],\n",
              "         [ 1.8313],\n",
              "         [ 9.6679],\n",
              "         [ 7.0217],\n",
              "         [ 6.9359],\n",
              "         [-2.8284],\n",
              "         [ 7.9524],\n",
              "         [ 4.3263],\n",
              "         [ 7.9912],\n",
              "         [ 2.3630],\n",
              "         [10.6680],\n",
              "         [ 5.4145],\n",
              "         [-0.6072],\n",
              "         [ 7.8717],\n",
              "         [ 4.1389],\n",
              "         [ 4.2253],\n",
              "         [ 8.1701],\n",
              "         [ 4.6940],\n",
              "         [ 6.3517],\n",
              "         [ 7.3947],\n",
              "         [12.9429],\n",
              "         [ 5.6373],\n",
              "         [ 5.0775],\n",
              "         [ 9.0962],\n",
              "         [ 3.3902],\n",
              "         [-6.0266],\n",
              "         [ 7.0672],\n",
              "         [ 5.0040],\n",
              "         [ 4.8438],\n",
              "         [ 2.3119],\n",
              "         [-4.2724],\n",
              "         [ 7.6259],\n",
              "         [ 1.9335],\n",
              "         [ 7.9932],\n",
              "         [ 2.8406],\n",
              "         [13.2720],\n",
              "         [ 5.6121],\n",
              "         [ 3.2398],\n",
              "         [ 2.0806],\n",
              "         [ 5.4453],\n",
              "         [-0.6608],\n",
              "         [ 4.3844],\n",
              "         [ 2.3712],\n",
              "         [10.0792],\n",
              "         [ 1.3000],\n",
              "         [ 6.1322],\n",
              "         [ 3.5459],\n",
              "         [-1.9577],\n",
              "         [11.5054],\n",
              "         [ 5.9290],\n",
              "         [ 5.0680],\n",
              "         [ 1.7941],\n",
              "         [ 1.2834],\n",
              "         [-0.2623],\n",
              "         [ 2.2685],\n",
              "         [ 6.4436],\n",
              "         [ 4.2855],\n",
              "         [ 4.1970],\n",
              "         [ 0.7695],\n",
              "         [10.0822],\n",
              "         [ 5.0495],\n",
              "         [ 0.4187],\n",
              "         [ 2.5044],\n",
              "         [ 0.3681],\n",
              "         [ 4.8832],\n",
              "         [-5.6036],\n",
              "         [ 5.7022],\n",
              "         [ 7.5679],\n",
              "         [ 2.6576],\n",
              "         [ 2.1576],\n",
              "         [ 3.9962],\n",
              "         [ 1.9743],\n",
              "         [ 5.1404],\n",
              "         [ 5.4664],\n",
              "         [ 2.3203],\n",
              "         [ 6.7362],\n",
              "         [ 5.5596],\n",
              "         [ 6.5373],\n",
              "         [-0.9832],\n",
              "         [-1.8025],\n",
              "         [ 8.1962],\n",
              "         [-3.1913],\n",
              "         [ 6.9474],\n",
              "         [ 3.0427],\n",
              "         [ 6.6895],\n",
              "         [ 4.1255],\n",
              "         [ 7.5909],\n",
              "         [ 3.8526],\n",
              "         [ 6.8905],\n",
              "         [ 6.3364],\n",
              "         [ 7.3189],\n",
              "         [ 8.6425],\n",
              "         [ 6.1569],\n",
              "         [ 2.9234],\n",
              "         [ 3.6919],\n",
              "         [ 4.9069],\n",
              "         [13.1101],\n",
              "         [ 6.1774],\n",
              "         [ 8.0335],\n",
              "         [-3.2632],\n",
              "         [ 7.7563],\n",
              "         [14.1847],\n",
              "         [ 2.7752],\n",
              "         [ 0.9541],\n",
              "         [ 5.5924],\n",
              "         [-4.1336],\n",
              "         [ 0.1914],\n",
              "         [ 6.8349],\n",
              "         [ 1.2572],\n",
              "         [-1.5443],\n",
              "         [-0.2412],\n",
              "         [ 0.2557],\n",
              "         [ 2.2564],\n",
              "         [-5.6507],\n",
              "         [ 4.1705],\n",
              "         [ 4.3391],\n",
              "         [ 4.8724],\n",
              "         [11.5903],\n",
              "         [ 0.1576],\n",
              "         [ 2.2640],\n",
              "         [ 4.6733],\n",
              "         [ 5.9499],\n",
              "         [10.2778],\n",
              "         [ 3.9331],\n",
              "         [11.9331],\n",
              "         [ 7.8999],\n",
              "         [ 7.7528],\n",
              "         [ 8.5357],\n",
              "         [ 4.8152],\n",
              "         [ 5.3106],\n",
              "         [ 2.5283],\n",
              "         [-8.0693],\n",
              "         [ 2.2061],\n",
              "         [ 5.7387],\n",
              "         [ 9.9367],\n",
              "         [ 7.4950],\n",
              "         [ 9.4462],\n",
              "         [ 8.3896],\n",
              "         [ 1.2862],\n",
              "         [ 6.6356],\n",
              "         [ 8.9974],\n",
              "         [ 3.5369],\n",
              "         [13.8391],\n",
              "         [ 4.2596],\n",
              "         [11.2896],\n",
              "         [-2.6471],\n",
              "         [ 3.2552],\n",
              "         [ 4.9025],\n",
              "         [-1.4441],\n",
              "         [ 6.0467],\n",
              "         [-4.6607],\n",
              "         [ 0.2784],\n",
              "         [ 5.9107],\n",
              "         [ 0.0966],\n",
              "         [ 1.7400],\n",
              "         [ 7.1718],\n",
              "         [ 0.6261],\n",
              "         [ 8.6214],\n",
              "         [ 5.7238],\n",
              "         [-2.4920],\n",
              "         [ 5.2114],\n",
              "         [ 5.8968],\n",
              "         [ 3.7761],\n",
              "         [ 9.2444],\n",
              "         [-2.6913],\n",
              "         [10.2471],\n",
              "         [ 0.7403],\n",
              "         [ 8.0260],\n",
              "         [ 3.4704],\n",
              "         [ 2.8604],\n",
              "         [ 0.6821],\n",
              "         [ 7.0215],\n",
              "         [ 3.8197],\n",
              "         [-2.2885],\n",
              "         [-4.6978],\n",
              "         [ 3.8883],\n",
              "         [-3.6484],\n",
              "         [-3.9254],\n",
              "         [ 2.4555],\n",
              "         [ 0.7645],\n",
              "         [ 4.4208],\n",
              "         [ 9.1633],\n",
              "         [-1.3383],\n",
              "         [ 7.0337],\n",
              "         [ 7.4751],\n",
              "         [11.6086],\n",
              "         [ 0.3429],\n",
              "         [-0.3063],\n",
              "         [ 3.2008],\n",
              "         [ 4.5138],\n",
              "         [ 2.0679],\n",
              "         [ 4.9720],\n",
              "         [ 7.9109],\n",
              "         [ 3.6419],\n",
              "         [10.5132],\n",
              "         [12.1252],\n",
              "         [-3.5561],\n",
              "         [ 3.9199],\n",
              "         [ 4.0509]]))"
            ]
          },
          "metadata": {
            "tags": []
          },
          "execution_count": 23
        }
      ]
    },
    {
      "cell_type": "code",
      "metadata": {
        "id": "Dyr22gGGDaVt"
      },
      "source": [
        ""
      ],
      "execution_count": null,
      "outputs": []
    },
    {
      "cell_type": "markdown",
      "metadata": {
        "id": "ja9y7fTfooBD"
      },
      "source": [
        "### Always Visualize your data!"
      ]
    },
    {
      "cell_type": "code",
      "metadata": {
        "id": "DQ-DOU01xGuC",
        "colab": {
          "base_uri": "https://localhost:8080/",
          "height": 513
        },
        "outputId": "7d22c794-05e9-4bdc-ff4d-67cfcf46e7cd"
      },
      "source": [
        "plt.scatter(features[:,0], labels)\n",
        "plt.show()\n",
        "\n",
        "plt.scatter(features[:,1], labels)\n",
        "plt.show()"
      ],
      "execution_count": null,
      "outputs": [
        {
          "output_type": "display_data",
          "data": {
            "image/png": "[encoded data removed]",
            "text/plain": [
              "<Figure size 432x288 with 1 Axes>"
            ]
          },
          "metadata": {
            "tags": []
          }
        },
        {
          "output_type": "display_data",
          "data": {
            "image/png": "[encoded data removed]",
            "text/plain": [
              "<Figure size 432x288 with 1 Axes>"
            ]
          },
          "metadata": {
            "tags": []
          }
        }
      ]
    },
    {
      "cell_type": "markdown",
      "metadata": {
        "id": "fV1IIHirqSQp"
      },
      "source": [
        "Here is a function to help you create batches!"
      ]
    },
    {
      "cell_type": "code",
      "metadata": {
        "id": "D3ST4cxnyFig"
      },
      "source": [
        "def data_iter(batch_size, features, labels):\n",
        "    num_examples = len(features)\n",
        "    indices = list(range(num_examples))\n",
        "    # The examples are read at random, in no particular order\n",
        "    random.shuffle(indices)\n",
        "    for i in range(0, num_examples, batch_size):\n",
        "        batch_indices = torch.tensor(indices[i:min(i +\n",
        "                                                   batch_size, num_examples)])\n",
        "        yield features[batch_indices], labels[batch_indices]"
      ],
      "execution_count": null,
      "outputs": []
    },
    {
      "cell_type": "markdown",
      "metadata": {
        "id": "1RgNhxuzrRZC"
      },
      "source": [
        "### Test out this `data_iter` by visulaizing it!"
      ]
    },
    {
      "cell_type": "code",
      "metadata": {
        "id": "eUxxvqNDDz6q"
      },
      "source": [
        "data_generator = data_iter(25, features, labels)"
      ],
      "execution_count": null,
      "outputs": []
    },
    {
      "cell_type": "code",
      "metadata": {
        "colab": {
          "base_uri": "https://localhost:8080/"
        },
        "id": "QYuouzU0D6lF",
        "outputId": "a0d0c90a-8747-4300-c57c-002c412cb304"
      },
      "source": [
        "data_generator"
      ],
      "execution_count": null,
      "outputs": [
        {
          "output_type": "execute_result",
          "data": {
            "text/plain": [
              "<generator object data_iter at 0x7fda08c48650>"
            ]
          },
          "metadata": {
            "tags": []
          },
          "execution_count": 27
        }
      ]
    },
    {
      "cell_type": "code",
      "metadata": {
        "id": "zw712Fk3D97y"
      },
      "source": [
        "batch_features, batch_labels = next(data_generator)"
      ],
      "execution_count": null,
      "outputs": []
    },
    {
      "cell_type": "code",
      "metadata": {
        "id": "KNy_Oj0Vrg2Y",
        "colab": {
          "base_uri": "https://localhost:8080/",
          "height": 513
        },
        "outputId": "cbbca453-4363-4259-9428-00674a01e1e0"
      },
      "source": [
        "plt.scatter(batch_features[:,0], batch_labels)\n",
        "plt.show()\n",
        "\n",
        "plt.scatter(batch_features[:,1], batch_labels)\n",
        "plt.show()"
      ],
      "execution_count": null,
      "outputs": [
        {
          "output_type": "display_data",
          "data": {
            "image/png": "[encoded data removed]",
            "text/plain": [
              "<Figure size 432x288 with 1 Axes>"
            ]
          },
          "metadata": {
            "tags": []
          }
        },
        {
          "output_type": "display_data",
          "data": {
            "image/png": "[encoded data removed]",
            "text/plain": [
              "<Figure size 432x288 with 1 Axes>"
            ]
          },
          "metadata": {
            "tags": []
          }
        }
      ]
    },
    {
      "cell_type": "markdown",
      "metadata": {
        "id": "hSrGxk_utTnJ"
      },
      "source": [
        "### Loss Function\n",
        "\n",
        "$$\\mathrm{L}(\\mathbf{w}, b) = \\frac{1}{n} \\sum_i^n l^{(i)}(\\mathbf{w}, b)$$\n",
        "\n",
        "Here $$l^{(i)} = \\frac{1}{2} \\Big( \\hat{y}^{(i)} - y^{(i)}\\Big)^2$$"
      ]
    },
    {
      "cell_type": "code",
      "metadata": {
        "id": "lZkQMxaermEl"
      },
      "source": [
        "def loss_function(y_hat, y):\n",
        "    \"\"\" your loss function \"\"\"\n",
        "    return 0.5*(y_hat - y)**2"
      ],
      "execution_count": null,
      "outputs": []
    },
    {
      "cell_type": "markdown",
      "metadata": {
        "id": "0jUABZCGqnMD"
      },
      "source": [
        "### Gradient Descent\n",
        "\n",
        "- Learning rate: $\\eta$\n",
        "- Batch size: $\\vert \\mathcal{B} \\vert$\n",
        "\n",
        "$$\\mathbf{w}  =  \\mathbf{w} - \\frac{\\eta}{\\vert \\mathcal{B} \\vert} \\partial_\\mathbf{w} l^{(i)}(\\mathbf{w}, b)$$\n",
        "\n",
        "$$b  =  b - \\frac{\\eta}{\\vert \\mathcal{B} \\vert} \\partial_b l^{(i)}(\\mathbf{w}, b)$$"
      ]
    },
    {
      "cell_type": "markdown",
      "metadata": {
        "id": "IqBmoD6iq5Xg"
      },
      "source": [
        "Define a small learning rate ($\\eta$), and randomly initiate $\\mathbf{w}$ and $b$."
      ]
    },
    {
      "cell_type": "code",
      "metadata": {
        "id": "YFczgP34EWjg"
      },
      "source": [
        ""
      ],
      "execution_count": null,
      "outputs": []
    },
    {
      "cell_type": "code",
      "metadata": {
        "id": "B7BJSsYQrHLX",
        "colab": {
          "base_uri": "https://localhost:8080/"
        },
        "outputId": "60a5f4c4-3685-462a-cb3c-be8236b7d524"
      },
      "source": [
        "learning_rate = 0.01\n",
        "\n",
        "w = torch.rand(2,1, requires_grad=True)\n",
        "\n",
        "b = torch.rand(1, requires_grad= True)\n",
        "\n",
        "print(w)\n",
        "\n",
        "print(b)"
      ],
      "execution_count": null,
      "outputs": [
        {
          "output_type": "stream",
          "text": [
            "tensor([[0.9499],\n",
            "        [0.2205]], requires_grad=True)\n",
            "tensor([0.3959], requires_grad=True)\n"
          ],
          "name": "stdout"
        }
      ]
    },
    {
      "cell_type": "markdown",
      "metadata": {
        "id": "5zpV1u4vrp0S"
      },
      "source": [
        "Finally the training loop!\n",
        "\n",
        "**NOTE**: You would have to use `torch.no_grad()` and `w.grad.zero_()`"
      ]
    },
    {
      "cell_type": "code",
      "metadata": {
        "id": "b1IG67TAz4JA",
        "colab": {
          "base_uri": "https://localhost:8080/"
        },
        "outputId": "09c18f3d-4e5f-45c3-cbae-319c485f674d"
      },
      "source": [
        "for epoch in range(100):\n",
        "    for X,Y in data_iter(10, features, labels):\n",
        "        output = model(X, w, b)\n",
        "        loss = loss_function(output, Y).sum()\n",
        "        loss.backward()\n",
        "        # print(\"w & b\")\n",
        "        # print(w, b)\n",
        "        # print(\"grad w & b\")\n",
        "        # print(w.grad, b.grad)\n",
        "        with torch.no_grad():\n",
        "            w -= learning_rate* w.grad/len(Y)\n",
        "            b -= learning_rate* b.grad/len(Y)\n",
        "            w.grad.zero_()\n",
        "            b.grad.zero_()\n",
        "    print(loss)"
      ],
      "execution_count": null,
      "outputs": [
        {
          "output_type": "stream",
          "text": [
            "tensor(19.4020, grad_fn=<SumBackward0>)\n",
            "tensor(3.5854, grad_fn=<SumBackward0>)\n",
            "tensor(0.4924, grad_fn=<SumBackward0>)\n",
            "tensor(0.0708, grad_fn=<SumBackward0>)\n",
            "tensor(0.0066, grad_fn=<SumBackward0>)\n",
            "tensor(0.0011, grad_fn=<SumBackward0>)\n",
            "tensor(0.0018, grad_fn=<SumBackward0>)\n",
            "tensor(0.0008, grad_fn=<SumBackward0>)\n",
            "tensor(0.0006, grad_fn=<SumBackward0>)\n",
            "tensor(0.0005, grad_fn=<SumBackward0>)\n",
            "tensor(0.0009, grad_fn=<SumBackward0>)\n",
            "tensor(0.0002, grad_fn=<SumBackward0>)\n",
            "tensor(0.0004, grad_fn=<SumBackward0>)\n",
            "tensor(0.0004, grad_fn=<SumBackward0>)\n",
            "tensor(0.0007, grad_fn=<SumBackward0>)\n",
            "tensor(0.0002, grad_fn=<SumBackward0>)\n",
            "tensor(0.0005, grad_fn=<SumBackward0>)\n",
            "tensor(0.0007, grad_fn=<SumBackward0>)\n",
            "tensor(0.0003, grad_fn=<SumBackward0>)\n",
            "tensor(0.0003, grad_fn=<SumBackward0>)\n",
            "tensor(0.0004, grad_fn=<SumBackward0>)\n",
            "tensor(0.0004, grad_fn=<SumBackward0>)\n",
            "tensor(0.0002, grad_fn=<SumBackward0>)\n",
            "tensor(0.0003, grad_fn=<SumBackward0>)\n",
            "tensor(0.0005, grad_fn=<SumBackward0>)\n",
            "tensor(0.0006, grad_fn=<SumBackward0>)\n",
            "tensor(0.0004, grad_fn=<SumBackward0>)\n",
            "tensor(0.0005, grad_fn=<SumBackward0>)\n",
            "tensor(0.0002, grad_fn=<SumBackward0>)\n",
            "tensor(0.0008, grad_fn=<SumBackward0>)\n",
            "tensor(0.0006, grad_fn=<SumBackward0>)\n",
            "tensor(0.0004, grad_fn=<SumBackward0>)\n",
            "tensor(0.0005, grad_fn=<SumBackward0>)\n",
            "tensor(0.0006, grad_fn=<SumBackward0>)\n",
            "tensor(0.0008, grad_fn=<SumBackward0>)\n",
            "tensor(0.0006, grad_fn=<SumBackward0>)\n",
            "tensor(0.0006, grad_fn=<SumBackward0>)\n",
            "tensor(0.0004, grad_fn=<SumBackward0>)\n",
            "tensor(0.0002, grad_fn=<SumBackward0>)\n",
            "tensor(0.0007, grad_fn=<SumBackward0>)\n",
            "tensor(0.0005, grad_fn=<SumBackward0>)\n",
            "tensor(0.0006, grad_fn=<SumBackward0>)\n",
            "tensor(0.0006, grad_fn=<SumBackward0>)\n",
            "tensor(0.0006, grad_fn=<SumBackward0>)\n",
            "tensor(0.0002, grad_fn=<SumBackward0>)\n",
            "tensor(0.0003, grad_fn=<SumBackward0>)\n",
            "tensor(0.0002, grad_fn=<SumBackward0>)\n",
            "tensor(0.0004, grad_fn=<SumBackward0>)\n",
            "tensor(0.0010, grad_fn=<SumBackward0>)\n",
            "tensor(0.0005, grad_fn=<SumBackward0>)\n",
            "tensor(0.0007, grad_fn=<SumBackward0>)\n",
            "tensor(0.0006, grad_fn=<SumBackward0>)\n",
            "tensor(0.0005, grad_fn=<SumBackward0>)\n",
            "tensor(0.0004, grad_fn=<SumBackward0>)\n",
            "tensor(0.0007, grad_fn=<SumBackward0>)\n",
            "tensor(0.0001, grad_fn=<SumBackward0>)\n",
            "tensor(0.0004, grad_fn=<SumBackward0>)\n",
            "tensor(0.0002, grad_fn=<SumBackward0>)\n",
            "tensor(0.0002, grad_fn=<SumBackward0>)\n",
            "tensor(0.0003, grad_fn=<SumBackward0>)\n",
            "tensor(0.0007, grad_fn=<SumBackward0>)\n",
            "tensor(0.0004, grad_fn=<SumBackward0>)\n",
            "tensor(0.0004, grad_fn=<SumBackward0>)\n",
            "tensor(0.0009, grad_fn=<SumBackward0>)\n",
            "tensor(0.0005, grad_fn=<SumBackward0>)\n",
            "tensor(0.0004, grad_fn=<SumBackward0>)\n",
            "tensor(0.0002, grad_fn=<SumBackward0>)\n",
            "tensor(0.0007, grad_fn=<SumBackward0>)\n",
            "tensor(0.0003, grad_fn=<SumBackward0>)\n",
            "tensor(0.0009, grad_fn=<SumBackward0>)\n",
            "tensor(0.0002, grad_fn=<SumBackward0>)\n",
            "tensor(0.0010, grad_fn=<SumBackward0>)\n",
            "tensor(0.0002, grad_fn=<SumBackward0>)\n",
            "tensor(0.0005, grad_fn=<SumBackward0>)\n",
            "tensor(0.0004, grad_fn=<SumBackward0>)\n",
            "tensor(0.0008, grad_fn=<SumBackward0>)\n",
            "tensor(0.0008, grad_fn=<SumBackward0>)\n",
            "tensor(0.0004, grad_fn=<SumBackward0>)\n",
            "tensor(0.0003, grad_fn=<SumBackward0>)\n",
            "tensor(0.0003, grad_fn=<SumBackward0>)\n",
            "tensor(0.0002, grad_fn=<SumBackward0>)\n",
            "tensor(0.0003, grad_fn=<SumBackward0>)\n",
            "tensor(0.0005, grad_fn=<SumBackward0>)\n",
            "tensor(0.0005, grad_fn=<SumBackward0>)\n",
            "tensor(0.0004, grad_fn=<SumBackward0>)\n",
            "tensor(0.0006, grad_fn=<SumBackward0>)\n",
            "tensor(0.0007, grad_fn=<SumBackward0>)\n",
            "tensor(0.0005, grad_fn=<SumBackward0>)\n",
            "tensor(0.0008, grad_fn=<SumBackward0>)\n",
            "tensor(0.0004, grad_fn=<SumBackward0>)\n",
            "tensor(0.0010, grad_fn=<SumBackward0>)\n",
            "tensor(0.0001, grad_fn=<SumBackward0>)\n",
            "tensor(0.0011, grad_fn=<SumBackward0>)\n",
            "tensor(0.0006, grad_fn=<SumBackward0>)\n",
            "tensor(0.0005, grad_fn=<SumBackward0>)\n",
            "tensor(0.0006, grad_fn=<SumBackward0>)\n",
            "tensor(0.0005, grad_fn=<SumBackward0>)\n",
            "tensor(0.0006, grad_fn=<SumBackward0>)\n",
            "tensor(0.0003, grad_fn=<SumBackward0>)\n",
            "tensor(0.0001, grad_fn=<SumBackward0>)\n"
          ],
          "name": "stdout"
        }
      ]
    },
    {
      "cell_type": "code",
      "metadata": {
        "id": "yMBs_N5G7Yge",
        "colab": {
          "base_uri": "https://localhost:8080/"
        },
        "outputId": "af31d70d-4ea3-4307-bce2-bc91e8e292a3"
      },
      "source": [
        "print(w, true_w)\n",
        "print(b, true_b)"
      ],
      "execution_count": null,
      "outputs": [
        {
          "output_type": "stream",
          "text": [
            "tensor([[ 2.0002],\n",
            "        [-3.3997]], requires_grad=True) tensor([ 2.0000, -3.4000])\n",
            "tensor([4.2001], requires_grad=True) 4.2\n"
          ],
          "name": "stdout"
        }
      ]
    },
    {
      "cell_type": "markdown",
      "metadata": {
        "id": "_LKnTpdW7jXt"
      },
      "source": [
        "## 3. Let's make a neural network now!\n",
        "\n",
        "- prediction: $\\hat{y}$\n",
        "- weights: $\\mathbf{w}$\n",
        "- feature vector: $\\mathbf{x}$\n",
        "- bias: $b$\n",
        "- activation funtion (ReLU): $\\Phi$\n",
        "\n",
        "$$\\Phi(x) = \\mathrm{max}(0,x)$$\n",
        "\n",
        "and for each neuron:\n",
        "\n",
        "$$\\hat{y} = \\Phi \\Big( \\mathbf{w}^\\mathrm{T} \\mathbf{x} + b \\Big)$$\n",
        "\n",
        "\n",
        "We will build a neural network which\n",
        "- takes 2 inputs\n",
        "- has two hidden layers\n",
        "    - first layer has 10 neurons\n",
        "    - second layer has 5\n",
        "    - both layers have ReLU activation\n",
        "\n",
        "Here are two functions to help you!\n"
      ]
    },
    {
      "cell_type": "code",
      "metadata": {
        "id": "OWRTqTRb7b0G"
      },
      "source": [
        "def relu(X):\n",
        "    a = torch.zeros_like(X)\n",
        "    return torch.max(X, a)\n",
        "\n",
        "def update_params(params):\n",
        "    with torch.no_grad():\n",
        "        for param in params:\n",
        "            param -= param.grad*learning_rate/len(Y)\n",
        "            param.grad.zero_()\n",
        "    return params"
      ],
      "execution_count": null,
      "outputs": []
    },
    {
      "cell_type": "markdown",
      "metadata": {
        "id": "XgwxYHeTslNu"
      },
      "source": [
        "Now create the parameters for learning, create the model and a list of parameters!"
      ]
    },
    {
      "cell_type": "code",
      "metadata": {
        "id": "uk2iLgGCsj5I"
      },
      "source": [
        "hidden_units_1 = 10\n",
        "\n",
        "hidden_units_2 = 5\n",
        "\n",
        "w1 = torch.rand(2, hidden_units_1, requires_grad=True)\n",
        "b1 = torch.rand(hidden_units_1, requires_grad=True)\n",
        "\n",
        "w2 = torch.rand(hidden_units_1, hidden_units_2, requires_grad=True)\n",
        "b2 = torch.rand(hidden_units_2, requires_grad=True)\n",
        "\n",
        "w3 = torch.rand(hidden_units_2, 1, requires_grad=True)\n",
        "b3 = torch.rand(1, requires_grad=True)\n",
        "\n",
        "def model(X):\n",
        "    \"\"\" your model\"\"\"\n",
        "    hidden_layer_1 = relu(torch.matmul(X, w1) + b1)\n",
        "    hidden_layer_2 = relu(torch.matmul(hidden_layer_1, w2) + b2)\n",
        "    return torch.matmul(hidden_layer_2, w3) + b3\n",
        "\n",
        "\n",
        "params = [w1, b1, w2, b2, w3, b3]"
      ],
      "execution_count": null,
      "outputs": []
    },
    {
      "cell_type": "code",
      "metadata": {
        "id": "OV3Vkiez_kj8",
        "colab": {
          "base_uri": "https://localhost:8080/"
        },
        "outputId": "6be0f8f4-fe1e-430d-a441-3738198303ec"
      },
      "source": [
        "for epoch in range(100):\n",
        "    for X,Y in data_iter(10, features, labels):\n",
        "        output = model(X)\n",
        "        loss = loss_function(output, Y).sum()\n",
        "        loss.backward()\n",
        "        params = update_params(params)\n",
        "    print(loss)"
      ],
      "execution_count": null,
      "outputs": [
        {
          "output_type": "stream",
          "text": [
            "tensor(0.6274, grad_fn=<SumBackward0>)\n",
            "tensor(0.4587, grad_fn=<SumBackward0>)\n",
            "tensor(0.6125, grad_fn=<SumBackward0>)\n",
            "tensor(0.5013, grad_fn=<SumBackward0>)\n",
            "tensor(0.2174, grad_fn=<SumBackward0>)\n",
            "tensor(0.3604, grad_fn=<SumBackward0>)\n",
            "tensor(0.2219, grad_fn=<SumBackward0>)\n",
            "tensor(2.2923, grad_fn=<SumBackward0>)\n",
            "tensor(0.2386, grad_fn=<SumBackward0>)\n",
            "tensor(0.9148, grad_fn=<SumBackward0>)\n",
            "tensor(0.2707, grad_fn=<SumBackward0>)\n",
            "tensor(0.3655, grad_fn=<SumBackward0>)\n",
            "tensor(0.4525, grad_fn=<SumBackward0>)\n",
            "tensor(0.8720, grad_fn=<SumBackward0>)\n",
            "tensor(0.2609, grad_fn=<SumBackward0>)\n",
            "tensor(0.2254, grad_fn=<SumBackward0>)\n",
            "tensor(0.2970, grad_fn=<SumBackward0>)\n",
            "tensor(0.1512, grad_fn=<SumBackward0>)\n",
            "tensor(0.0938, grad_fn=<SumBackward0>)\n",
            "tensor(0.2109, grad_fn=<SumBackward0>)\n",
            "tensor(0.1392, grad_fn=<SumBackward0>)\n",
            "tensor(0.8185, grad_fn=<SumBackward0>)\n",
            "tensor(0.1492, grad_fn=<SumBackward0>)\n",
            "tensor(0.6962, grad_fn=<SumBackward0>)\n",
            "tensor(0.2793, grad_fn=<SumBackward0>)\n",
            "tensor(0.1720, grad_fn=<SumBackward0>)\n",
            "tensor(0.3043, grad_fn=<SumBackward0>)\n",
            "tensor(0.3691, grad_fn=<SumBackward0>)\n",
            "tensor(0.3659, grad_fn=<SumBackward0>)\n",
            "tensor(0.3612, grad_fn=<SumBackward0>)\n",
            "tensor(3.3564, grad_fn=<SumBackward0>)\n",
            "tensor(3.2973, grad_fn=<SumBackward0>)\n",
            "tensor(0.1666, grad_fn=<SumBackward0>)\n",
            "tensor(0.1482, grad_fn=<SumBackward0>)\n",
            "tensor(0.3850, grad_fn=<SumBackward0>)\n",
            "tensor(0.2300, grad_fn=<SumBackward0>)\n",
            "tensor(1.1518, grad_fn=<SumBackward0>)\n",
            "tensor(0.0625, grad_fn=<SumBackward0>)\n",
            "tensor(0.1378, grad_fn=<SumBackward0>)\n",
            "tensor(0.1367, grad_fn=<SumBackward0>)\n",
            "tensor(1.0844, grad_fn=<SumBackward0>)\n",
            "tensor(0.2222, grad_fn=<SumBackward0>)\n",
            "tensor(0.0610, grad_fn=<SumBackward0>)\n",
            "tensor(0.0656, grad_fn=<SumBackward0>)\n",
            "tensor(0.1028, grad_fn=<SumBackward0>)\n",
            "tensor(1.8364, grad_fn=<SumBackward0>)\n",
            "tensor(0.1034, grad_fn=<SumBackward0>)\n",
            "tensor(0.0509, grad_fn=<SumBackward0>)\n",
            "tensor(0.0749, grad_fn=<SumBackward0>)\n",
            "tensor(0.0243, grad_fn=<SumBackward0>)\n",
            "tensor(0.0454, grad_fn=<SumBackward0>)\n",
            "tensor(0.0224, grad_fn=<SumBackward0>)\n",
            "tensor(0.0280, grad_fn=<SumBackward0>)\n",
            "tensor(0.0742, grad_fn=<SumBackward0>)\n",
            "tensor(0.0350, grad_fn=<SumBackward0>)\n",
            "tensor(0.0432, grad_fn=<SumBackward0>)\n",
            "tensor(0.0268, grad_fn=<SumBackward0>)\n",
            "tensor(0.0820, grad_fn=<SumBackward0>)\n",
            "tensor(0.0338, grad_fn=<SumBackward0>)\n",
            "tensor(0.0205, grad_fn=<SumBackward0>)\n",
            "tensor(0.1619, grad_fn=<SumBackward0>)\n",
            "tensor(0.0181, grad_fn=<SumBackward0>)\n",
            "tensor(0.0486, grad_fn=<SumBackward0>)\n",
            "tensor(0.0135, grad_fn=<SumBackward0>)\n",
            "tensor(0.0070, grad_fn=<SumBackward0>)\n",
            "tensor(0.0132, grad_fn=<SumBackward0>)\n",
            "tensor(0.0113, grad_fn=<SumBackward0>)\n",
            "tensor(0.0051, grad_fn=<SumBackward0>)\n",
            "tensor(0.0199, grad_fn=<SumBackward0>)\n",
            "tensor(0.3607, grad_fn=<SumBackward0>)\n",
            "tensor(0.0054, grad_fn=<SumBackward0>)\n",
            "tensor(0.0046, grad_fn=<SumBackward0>)\n",
            "tensor(0.0025, grad_fn=<SumBackward0>)\n",
            "tensor(0.0019, grad_fn=<SumBackward0>)\n",
            "tensor(0.0036, grad_fn=<SumBackward0>)\n",
            "tensor(0.0040, grad_fn=<SumBackward0>)\n",
            "tensor(0.0108, grad_fn=<SumBackward0>)\n",
            "tensor(0.0091, grad_fn=<SumBackward0>)\n",
            "tensor(0.0061, grad_fn=<SumBackward0>)\n",
            "tensor(0.0019, grad_fn=<SumBackward0>)\n",
            "tensor(0.0036, grad_fn=<SumBackward0>)\n",
            "tensor(0.0026, grad_fn=<SumBackward0>)\n",
            "tensor(0.0011, grad_fn=<SumBackward0>)\n",
            "tensor(0.0017, grad_fn=<SumBackward0>)\n",
            "tensor(0.0040, grad_fn=<SumBackward0>)\n",
            "tensor(0.0026, grad_fn=<SumBackward0>)\n",
            "tensor(0.0181, grad_fn=<SumBackward0>)\n",
            "tensor(0.0027, grad_fn=<SumBackward0>)\n",
            "tensor(0.0023, grad_fn=<SumBackward0>)\n",
            "tensor(0.0039, grad_fn=<SumBackward0>)\n",
            "tensor(0.0015, grad_fn=<SumBackward0>)\n",
            "tensor(0.0040, grad_fn=<SumBackward0>)\n",
            "tensor(0.0011, grad_fn=<SumBackward0>)\n",
            "tensor(0.0029, grad_fn=<SumBackward0>)\n",
            "tensor(0.0025, grad_fn=<SumBackward0>)\n",
            "tensor(0.0023, grad_fn=<SumBackward0>)\n",
            "tensor(0.0022, grad_fn=<SumBackward0>)\n",
            "tensor(0.0010, grad_fn=<SumBackward0>)\n",
            "tensor(0.0027, grad_fn=<SumBackward0>)\n",
            "tensor(0.0007, grad_fn=<SumBackward0>)\n"
          ],
          "name": "stdout"
        }
      ]
    },
    {
      "cell_type": "markdown",
      "metadata": {
        "id": "awb2DC_aFeoB"
      },
      "source": [
        "## 4. Concise Pytorch implementation"
      ]
    },
    {
      "cell_type": "code",
      "metadata": {
        "id": "JT0XZHoJ_2Ed"
      },
      "source": [
        "net = torch.nn.Sequential(\n",
        "    torch.nn.Linear(2, 10),\n",
        "    torch.nn.ReLU(),\n",
        "    torch.nn.Linear(10, 5),\n",
        "    torch.nn.ReLU(),\n",
        "    torch.nn.Linear(5, 1)\n",
        "    )"
      ],
      "execution_count": null,
      "outputs": []
    },
    {
      "cell_type": "code",
      "metadata": {
        "colab": {
          "base_uri": "https://localhost:8080/"
        },
        "id": "8FDxRQe8LL_D",
        "outputId": "5b88bcd1-3c3b-47c9-d257-0208230012c2"
      },
      "source": [
        "print(net)"
      ],
      "execution_count": null,
      "outputs": [
        {
          "output_type": "stream",
          "text": [
            "Sequential(\n",
            "  (0): Linear(in_features=2, out_features=10, bias=True)\n",
            "  (1): ReLU()\n",
            "  (2): Linear(in_features=10, out_features=5, bias=True)\n",
            "  (3): ReLU()\n",
            "  (4): Linear(in_features=5, out_features=1, bias=True)\n",
            ")\n"
          ],
          "name": "stdout"
        }
      ]
    },
    {
      "cell_type": "code",
      "metadata": {
        "id": "boRBAmP4F7st"
      },
      "source": [
        "loss_function = torch.nn.MSELoss(reduction='sum')\n",
        "trainer = torch.optim.SGD(net.parameters(), lr = 0.00001)"
      ],
      "execution_count": null,
      "outputs": []
    },
    {
      "cell_type": "code",
      "metadata": {
        "id": "ZYgWJwvUGKoC",
        "colab": {
          "base_uri": "https://localhost:8080/"
        },
        "outputId": "94deda6e-233e-4456-e4fe-67455c11770e"
      },
      "source": [
        "for epoch in range(50):\n",
        "    for X,Y in data_iter(100, features, labels):\n",
        "        trainer.zero_grad()\n",
        "        outputs = net(X)\n",
        "        loss = loss_function(outputs, Y)\n",
        "        loss.backward()\n",
        "        trainer.step()\n",
        "    print(loss)"
      ],
      "execution_count": null,
      "outputs": [
        {
          "output_type": "stream",
          "text": [
            "tensor(2730.7087, grad_fn=<MseLossBackward>)\n",
            "tensor(2794.7493, grad_fn=<MseLossBackward>)\n",
            "tensor(3338.2866, grad_fn=<MseLossBackward>)\n",
            "tensor(2865.1838, grad_fn=<MseLossBackward>)\n",
            "tensor(3227.1128, grad_fn=<MseLossBackward>)\n",
            "tensor(2969.1445, grad_fn=<MseLossBackward>)\n",
            "tensor(3014.8574, grad_fn=<MseLossBackward>)\n",
            "tensor(2441.9170, grad_fn=<MseLossBackward>)\n",
            "tensor(2367.4683, grad_fn=<MseLossBackward>)\n",
            "tensor(2394.4739, grad_fn=<MseLossBackward>)\n",
            "tensor(2702.0715, grad_fn=<MseLossBackward>)\n",
            "tensor(2305.9065, grad_fn=<MseLossBackward>)\n",
            "tensor(1705.6842, grad_fn=<MseLossBackward>)\n",
            "tensor(1881.9066, grad_fn=<MseLossBackward>)\n",
            "tensor(1428.4987, grad_fn=<MseLossBackward>)\n",
            "tensor(1533.7686, grad_fn=<MseLossBackward>)\n",
            "tensor(1199.3723, grad_fn=<MseLossBackward>)\n",
            "tensor(954.9359, grad_fn=<MseLossBackward>)\n",
            "tensor(890.5870, grad_fn=<MseLossBackward>)\n",
            "tensor(1013.6218, grad_fn=<MseLossBackward>)\n",
            "tensor(499.5142, grad_fn=<MseLossBackward>)\n",
            "tensor(568.0511, grad_fn=<MseLossBackward>)\n",
            "tensor(459.1802, grad_fn=<MseLossBackward>)\n",
            "tensor(593.9088, grad_fn=<MseLossBackward>)\n",
            "tensor(269.1896, grad_fn=<MseLossBackward>)\n",
            "tensor(330.3549, grad_fn=<MseLossBackward>)\n",
            "tensor(289.4413, grad_fn=<MseLossBackward>)\n",
            "tensor(363.3262, grad_fn=<MseLossBackward>)\n",
            "tensor(194.0205, grad_fn=<MseLossBackward>)\n",
            "tensor(207.4750, grad_fn=<MseLossBackward>)\n",
            "tensor(194.5050, grad_fn=<MseLossBackward>)\n",
            "tensor(83.4056, grad_fn=<MseLossBackward>)\n",
            "tensor(240.3774, grad_fn=<MseLossBackward>)\n",
            "tensor(120.6695, grad_fn=<MseLossBackward>)\n",
            "tensor(193.2795, grad_fn=<MseLossBackward>)\n",
            "tensor(70.1331, grad_fn=<MseLossBackward>)\n",
            "tensor(73.6283, grad_fn=<MseLossBackward>)\n",
            "tensor(86.8322, grad_fn=<MseLossBackward>)\n",
            "tensor(126.9915, grad_fn=<MseLossBackward>)\n",
            "tensor(141.8221, grad_fn=<MseLossBackward>)\n",
            "tensor(181.2621, grad_fn=<MseLossBackward>)\n",
            "tensor(126.2421, grad_fn=<MseLossBackward>)\n",
            "tensor(136.6712, grad_fn=<MseLossBackward>)\n",
            "tensor(158.7945, grad_fn=<MseLossBackward>)\n",
            "tensor(260.1573, grad_fn=<MseLossBackward>)\n",
            "tensor(86.5621, grad_fn=<MseLossBackward>)\n",
            "tensor(94.4756, grad_fn=<MseLossBackward>)\n",
            "tensor(183.1423, grad_fn=<MseLossBackward>)\n",
            "tensor(130.4329, grad_fn=<MseLossBackward>)\n",
            "tensor(127.8897, grad_fn=<MseLossBackward>)\n"
          ],
          "name": "stdout"
        }
      ]
    },
    {
      "cell_type": "code",
      "metadata": {
        "id": "9VuTASuEGtUP"
      },
      "source": [
        ""
      ],
      "execution_count": null,
      "outputs": []
    },
    {
      "cell_type": "code",
      "metadata": {
        "id": "bRNw-lkPDXCF"
      },
      "source": [
        ""
      ],
      "execution_count": null,
      "outputs": []
    }
  ]
}