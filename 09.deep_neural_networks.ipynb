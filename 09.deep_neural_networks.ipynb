{
  "nbformat": 4,
  "nbformat_minor": 0,
  "metadata": {
    "colab": {
      "name": "Welcome To Colaboratory",
      "provenance": [],
      "collapsed_sections": [],
      "toc_visible": true,
      "include_colab_link": true
    },
    "kernelspec": {
      "display_name": "Python 3",
      "name": "python3"
    }
  },
  "cells": [
    {
      "cell_type": "markdown",
      "metadata": {
        "id": "view-in-github",
        "colab_type": "text"
      },
      "source": [
        "<a href=\"https://colab.research.google.com/github/changsin/AI/blob/main/09.deep_neural_networks.ipynb\" target=\"_parent\"><img src=\"https://colab.research.google.com/assets/colab-badge.svg\" alt=\"Open In Colab\"/></a>"
      ]
    },
    {
      "cell_type": "markdown",
      "metadata": {
        "id": "1cRQDw8gYaa6"
      },
      "source": [
        "# Deep Neural Networks\n",
        "\n",
        "Neural networks are built on top of the simple perceptrons that we studied already. However, there are two addtions that deep neural networks differ:\n",
        "\n",
        "1. Hidden layers: In a perceptron, the input layer is connected to the output layer directly, but in a deep neural network, there are one or more layers in between. They are called \"hidden\" layers because you cannot see their inputs and outputs directly.\n",
        "\n",
        "2. Non-linear activation fuctions: One of the biggest limitation of perceptron is that it cannot handle non-linear data: e.g., XOR (exclusive or) problem. In a deep neural network, a non-linear function is applied to determine the output. There are many different activation functions: Sigmoid, Tanh, ReLU, etc. ReLU is the most popular activation function used these days.\n",
        "\n"
      ]
    },
    {
      "cell_type": "markdown",
      "metadata": {
        "id": "O0o85z7grgbw"
      },
      "source": [
        "## Calculations in neural networks\n",
        "Calculating values in a deep neural network works similar to perceptrons. The basic formula is:\n",
        "\n",
        "$$ H = WX + b $$\n",
        "- X: inputs\n",
        "- W: weights\n",
        "- b: bias\n",
        "\n",
        "The data is fed to the input layer and passes through each layers using the above formula all the way to the final layer. What is different from perceptron is that after the values are calculated for the next layer, they are then passed through an activation function which decides what the resulting value should be. Non-linear functions like sigmoid, tanh, and relu are used depending on one's purpose.\n"
      ]
    },
    {
      "cell_type": "markdown",
      "metadata": {
        "id": "V-ovLZF_7NO1"
      },
      "source": [
        "## Activation functions\n",
        "### Sigmoid\n",
        "\n",
        "$$ f(x) = \\frac{1}{1 + e^{-x}} $$\n",
        "\n",
        "## ReLU\n",
        "\n",
        "$$ f(x) = max(0, x) $$\n",
        "\n",
        "## tanh\n",
        "\n",
        "$$ f(x) = tanh(x) $$"
      ]
    },
    {
      "cell_type": "code",
      "metadata": {
        "id": "NZWsLMV4a8Bc",
        "colab": {
          "base_uri": "https://localhost:8080/",
          "height": 201
        },
        "outputId": "4fdc420b-335c-4d81-f5c9-983b7dcdaa33"
      },
      "source": [
        "import numpy as np\n",
        "import matplotlib.pyplot as plt\n",
        "\n",
        "def sigmoid(x):\n",
        "  return 1 / (1 + np.exp(-x))\n",
        "\n",
        "def relu(X):\n",
        "  return [max(0.0, x) for x in X]\n",
        "\n",
        "fig = plt.figure(figsize=(30,20))\n",
        "\n",
        "def plot_centered_graph(x, y, pos, label):\n",
        "  ax = fig.add_subplot(5, 5, pos)\n",
        "  ax.plot(x, y, label=label)\n",
        "  ax.spines['left'].set_position('center')\n",
        "  ax.spines['bottom'].set_position(('data', 0))\n",
        "  ax.spines['right'].set_color('none')\n",
        "  ax.spines['top'].set_color('none')\n",
        "  ax.legend()\n",
        "\n",
        "x = np.linspace(-10, 10, 100)\n",
        "plot_centered_graph(x, sigmoid(x), 1, 'sigmoid')\n",
        "plot_centered_graph(x, np.tanh(x), 2, 'tanh')\n",
        "plot_centered_graph(x, relu(x), 3, 'relu')"
      ],
      "execution_count": 9,
      "outputs": [
        {
          "output_type": "display_data",
          "data": {
            "image/png": "[encoded data removed]",
            "text/plain": [
              "<Figure size 2160x1440 with 3 Axes>"
            ]
          },
          "metadata": {
            "tags": [],
            "needs_background": "light"
          }
        }
      ]
    },
    {
      "cell_type": "code",
      "metadata": {
        "id": "UZ59ukVPGskp",
        "colab": {
          "base_uri": "https://localhost:8080/"
        },
        "outputId": "7a4ed0a8-a73f-4b00-d06b-0e82bf11572d"
      },
      "source": [
        "import numpy as np\n",
        "\n",
        "X = np.array([[1],\n",
        "              [0]])\n",
        "W1 = np.array([[1, 1, 1],\n",
        "              [1, 1, 1]])\n",
        "W2 = np.array([[1],\n",
        "               [1],\n",
        "               [1]])\n",
        "\n",
        "H = np.dot(X.T, W1)\n",
        "np.dot(H, W2)"
      ],
      "execution_count": 10,
      "outputs": [
        {
          "output_type": "execute_result",
          "data": {
            "text/plain": [
              "array([[3]])"
            ]
          },
          "metadata": {
            "tags": []
          },
          "execution_count": 10
        }
      ]
    },
    {
      "cell_type": "code",
      "metadata": {
        "id": "Nfft1LTjs2v8"
      },
      "source": [
        "  def forward_pass(X, W1, W2, activate_fn):\n",
        "    # input to the activation function\n",
        "    z1 = np.dot(X.T, W1)\n",
        "    a1 = activate_fn(z1)\n",
        "\n",
        "    # hidden to output layer\n",
        "    z2 = np.dot(a1, W2)\n",
        "    a2 = activate_fn(z2)\n",
        "    return z2"
      ],
      "execution_count": 11,
      "outputs": []
    },
    {
      "cell_type": "code",
      "metadata": {
        "id": "mVti-7JwtLAL",
        "colab": {
          "base_uri": "https://localhost:8080/"
        },
        "outputId": "3e7ae5ca-2702-4576-b17d-596bc9eca85a"
      },
      "source": [
        "forward_pass(X, W1, W2)"
      ],
      "execution_count": 12,
      "outputs": [
        {
          "output_type": "execute_result",
          "data": {
            "text/plain": [
              "array([[3]])"
            ]
          },
          "metadata": {
            "tags": []
          },
          "execution_count": 12
        }
      ]
    },
    {
      "cell_type": "code",
      "metadata": {
        "id": "AoAW-0NncGkp"
      },
      "source": [
        ""
      ],
      "execution_count": 12,
      "outputs": []
    }
  ]
}