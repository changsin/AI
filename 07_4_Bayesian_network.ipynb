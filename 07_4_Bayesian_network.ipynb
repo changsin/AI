{
  "nbformat": 4,
  "nbformat_minor": 0,
  "metadata": {
    "colab": {
      "provenance": [],
      "toc_visible": true,
      "authorship_tag": "ABX9TyMvuzs55XkApCdd7yBNuPlk",
      "include_colab_link": true
    },
    "kernelspec": {
      "name": "python3",
      "display_name": "Python 3"
    },
    "language_info": {
      "name": "python"
    }
  },
  "cells": [
    {
      "cell_type": "markdown",
      "metadata": {
        "id": "view-in-github",
        "colab_type": "text"
      },
      "source": [
        "<a href=\"https://colab.research.google.com/github/changsin/AI/blob/main/07_4_Bayesian_network.ipynb\" target=\"_parent\"><img src=\"https://colab.research.google.com/assets/colab-badge.svg\" alt=\"Open In Colab\"/></a>"
      ]
    },
    {
      "cell_type": "markdown",
      "source": [
        "# 07.4 Bayesian network\n"
      ],
      "metadata": {
        "id": "u1D_kyWn596v"
      }
    },
    {
      "cell_type": "markdown",
      "source": [
        "## The Alarm example: $ P(J|B) $?\n",
        "What is $ P(J|B) $? What is the probability of John calling given there was a burglary?"
      ],
      "metadata": {
        "id": "lu_kKqjdeq0Y"
      }
    },
    {
      "cell_type": "markdown",
      "source": [
        "### 1. Apply the Conditional Probability rule\n",
        "$ P(J|B) = \\frac{P(J \\wedge B)}{P(B)} \\space \\text{[Conditional probability]}\n",
        "$"
      ],
      "metadata": {
        "id": "byTuxHtP6KuP"
      }
    },
    {
      "cell_type": "markdown",
      "source": [
        "### 2. Bring in  $ A $\n",
        "We want to bing in $ P(A) $ to connect the two probabilities $ P(J) $ and $ P(B) $.\n",
        "\n",
        "- $ P(J \\wedge B) = P(J \\wedge B \\wedge A) + P(J \\wedge B \\wedge \\neg A) \\space \\text{[Marginalization]}\n",
        "$"
      ],
      "metadata": {
        "id": "cDeg93XGhe5T"
      }
    },
    {
      "cell_type": "markdown",
      "source": [
        "#### 2.1. Expand using the Product Rule\n",
        "Since $ P(J \\wedge B \\wedge A) = P(J \\wedge A \\wedge B) $, let's use $ P(J \\wedge A \\wedge B) $ which is expanded to:\n",
        "\n",
        "$ P(J \\wedge A \\wedge B) = P(J|A \\wedge B)P(A \\wedge B)\n",
        "\\space \\text{[Product rule]} \\\\\n",
        "= P(J|A \\wedge B)P(A|B)P(A)\n",
        "$"
      ],
      "metadata": {
        "id": "E-4wqTEqidYq"
      }
    },
    {
      "cell_type": "markdown",
      "source": [
        "#### 2.2. Simplify using the Conditional Independence\n",
        "$ P(J|A \\wedge B) $ can be simplified using the conditional independence rule:\n",
        "\n",
        "$ P(J|A \\wedge B) = P(J|A)\\space \\text{[Conditional independence]}\n",
        "$\n",
        "\n",
        "Thus,\n",
        "$ P(J \\wedge A \\wedge B) = P(J|A)P(A|B)P(B) \\space \\text{[Product rule]}\n",
        "$\n",
        "\n",
        "To rewrite the equation again,\n",
        "- $ P(J \\wedge B) = $\n",
        "$\n",
        "P(J \\wedge A \\wedge B) + P(J \\wedge \\neg A \\wedge B) \\\\\n",
        "\\space \\text{[Marginalization]}\n",
        "$\n",
        "$\n",
        "= P(J|A)P(A|B)P(B) + P(J| \\neg A)P(\\neg A|B)P(B) \\\\\n",
        "\\space \\text{[Product rule + Conditional independence]}\n",
        "$\n",
        "\n",
        "We know $ P(J|A) $ and $ P(B) $ already so we just need to figure out $ P(A|B) $"
      ],
      "metadata": {
        "id": "7gUFCbSGgjut"
      }
    },
    {
      "cell_type": "markdown",
      "source": [
        "### 2.3. Calcualte $ P(A|B) $\n",
        "$ P(A|B) $ is further expanded to:\n",
        "$ P(A|B) = \\frac{P(A \\wedge B)}{P(B)} \\space \\text{[Conditional probability]}\n",
        "$\n",
        "\n",
        "Let's bring in $ E $ using the marginalization rule:\n",
        "\n",
        "$ P(A|B) $\n",
        "$\n",
        "= \\frac{P(A \\wedge B)}{P(B)} \\space \\text{[Conditional probability]} \\\\\n",
        "= \\frac{P(A \\wedge B \\wedge E) + P(A \\wedge B \\wedge \\neg E)}{P(B)} \\space \\text{[Marginalization]}\n",
        "$\n",
        "\n",
        "$ P(A \\wedge B \\wedge E) $ can be expanded to:\n",
        "\n",
        "$ P(A \\wedge B \\wedge E) = P(A | B \\wedge E)P(B|E)P(E)\n",
        "\\space \\text{[Product rule]}\n",
        "$\n",
        "\n",
        "Since $B$ and $E$ are conditionally independent, we can rewrite it as:\n",
        "\n",
        "$ P(A \\wedge B \\wedge E) = P(A | B \\wedge E)P(B)P(E)\n",
        "\\space \\text{[Conditional independence]}\n",
        "$\n",
        "\n",
        "Thus,\n",
        "$ P(A|B) = \\frac{P(A | B \\wedge E)P(B)P(E) + P(A | B \\wedge \\neg E)P(B)P(\\neg E)}{P(B)}\n",
        "$\n",
        "\n",
        "Then, $ P(B) $ is removed since it is common in both the denominator and the nominator.\n",
        "\n",
        "Thus, the equation is now:\n",
        "$$ P(A|B) = P(A | B \\wedge E)P(E) + P(A | B \\wedge \\neg E)P(\\neg E)\n",
        "$$\n",
        "Now, we can plug in the numbers to calculate the conditional probability $ P(A|B) $:\n",
        "\n",
        "$ P(A|B) = 0.95 \\cdot 0.002 + 0.94 \\cdot 0.998 = 0.94\n",
        "$"
      ],
      "metadata": {
        "id": "ABMM5O3jfbg3"
      }
    },
    {
      "cell_type": "markdown",
      "source": [
        "### 3. Plug-in and calculate\n",
        "We now plug-in all the numbers.\n",
        "\n",
        "Since we established\n",
        "\n",
        "$ P(J \\wedge B) = P(J \\wedge B \\wedge A) + P(J \\wedge B \\wedge \\neg A) \\\\\n",
        "\\space \\text{[Marginalization]} \\\\\n",
        "= P(J|A)P(A|B)P(B) + P(J| \\neg A)P(\\neg A|B)P(B) \\\\\n",
        "\\space \\text{[Product rule + Conditional independence]}\n",
        "$\n",
        "\n",
        "the original equation is now rewritten as:\n",
        "\n",
        "$\n",
        "P(J|B) = \\frac{P(J \\wedge B)}{P(B)} \\\\\n",
        "=\n",
        "\\frac{P(J|A)P(A|B)P(B) + P(J| \\neg A)P(\\neg A|B)P(B)}{P(B)} \\\\\n",
        "= P(J|A)P(A|B) + P(J| \\neg A)P(\\neg A|B)\n",
        "$\n",
        "\n",
        "Now plug-in with these numbers.\n",
        "- $ P(J|A) $ = 0.90\n",
        "- $ P(A|B) $ = 0.94\n",
        "- $ P(J| \\neg A) $ = 0.05\n",
        "- $ P(\\neg A|B) = 1 - P(A|B) $ = 0.06\n",
        "\n",
        "$ P(J|B) = 0.90 \\cdot 0.94 + 0.05 \\cdot 0.06 = 0.846 + 0.003 $ = 0.849\n"
      ],
      "metadata": {
        "id": "W1JAENvxmpcc"
      }
    },
    {
      "cell_type": "code",
      "source": [],
      "metadata": {
        "id": "cP1lGAe-flTg"
      },
      "execution_count": null,
      "outputs": []
    }
  ]
}