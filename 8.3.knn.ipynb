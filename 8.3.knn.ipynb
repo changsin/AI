{
  "nbformat": 4,
  "nbformat_minor": 0,
  "metadata": {
    "colab": {
      "name": "Welcome To Colaboratory",
      "provenance": [],
      "collapsed_sections": [],
      "toc_visible": true,
      "include_colab_link": true
    },
    "kernelspec": {
      "display_name": "Python 3",
      "name": "python3"
    }
  },
  "cells": [
    {
      "cell_type": "markdown",
      "metadata": {
        "id": "view-in-github",
        "colab_type": "text"
      },
      "source": [
        "<a href=\"https://colab.research.google.com/github/changsin/AI/blob/main/8.3.knn.ipynb\" target=\"_parent\"><img src=\"https://colab.research.google.com/assets/colab-badge.svg\" alt=\"Open In Colab\"/></a>"
      ]
    },
    {
      "cell_type": "markdown",
      "metadata": {
        "id": "HclJutxS2bYj"
      },
      "source": [
        "# Create input data"
      ]
    },
    {
      "cell_type": "code",
      "metadata": {
        "id": "fjvBgtMCkZh6"
      },
      "source": [
        "import numpy as np\n",
        "import matplotlib.pyplot as plt\n",
        "\n",
        "X = np.array([\n",
        "      [6., 1.],\n",
        "      [7., 3.],\n",
        "      [8., 2.],    \n",
        "      [9., 0.],\n",
        "      [8., 4.],\n",
        "      [8., 6.],\n",
        "      [9., 2.],    \n",
        "      [9., 5.]\n",
        "    ])\n",
        "y = np.array([0, 0, 0, 0, 1, 1, 1, 1])"
      ],
      "execution_count": 1,
      "outputs": []
    },
    {
      "cell_type": "markdown",
      "metadata": {
        "id": "xPlVsETQ2jxV"
      },
      "source": [
        "# Plot the data\n",
        "Also do some initial plot fitting"
      ]
    },
    {
      "cell_type": "markdown",
      "metadata": {
        "id": "_2tAxULBMB-j"
      },
      "source": [
        "## polyfit plotting"
      ]
    },
    {
      "cell_type": "code",
      "metadata": {
        "id": "isOS90m3VTxr",
        "colab": {
          "base_uri": "https://localhost:8080/",
          "height": 282
        },
        "outputId": "cd6e14a6-3234-4515-fc88-3c210d2c3c97"
      },
      "source": [
        "x1 = np.linspace(0, 10, 100)\n",
        "y1 = -1.5*x1 + 15\n",
        "\n",
        "# fig1, ax1 = plt.subplots()\n",
        "ax1 = plot_data(X, y)\n",
        "ax1.plot(x1, y1, 'g', label='y=wx+b')\n"
      ],
      "execution_count": null,
      "outputs": [
        {
          "output_type": "execute_result",
          "data": {
            "text/plain": [
              "[<matplotlib.lines.Line2D at 0x7fa06f92bf90>]"
            ]
          },
          "metadata": {
            "tags": []
          },
          "execution_count": 422
        },
        {
          "output_type": "display_data",
          "data": {
            "image/png": "[encoded data removed]",
            "text/plain": [
              "<Figure size 432x288 with 1 Axes>"
            ]
          },
          "metadata": {
            "tags": [],
            "needs_background": "light"
          }
        }
      ]
    },
    {
      "cell_type": "markdown",
      "metadata": {
        "id": "yXTxhMyar1YK"
      },
      "source": [
        "# Exercise 8.7\n",
        "\n",
        "Let the table with training data from Exercise 8.4 be given. In the following, use the Manhattan distance d(a, b), defined as d(a, b) = |a1 − b1| + |a2 − b2|, to determine the distance d between two data points a = (a1, a2) and b = (b1, b2).\n",
        "\n",
        "- (a) Classify the vector v = (8, 3.5) with the nearest neighbor method.\n",
        "\n",
        "- (b) Classify the vector v = (8, 3.5) with the k nearest neighbor method for\n",
        "k = 2,3,5."
      ]
    },
    {
      "cell_type": "markdown",
      "metadata": {
        "id": "QjrpuFzRvFcW"
      },
      "source": [
        "## First, define the vector v = (8, 3.5)"
      ]
    },
    {
      "cell_type": "code",
      "metadata": {
        "id": "dRH5vnVFRe0x"
      },
      "source": [
        "v = np.array([8., 3.5])"
      ],
      "execution_count": null,
      "outputs": []
    },
    {
      "cell_type": "code",
      "metadata": {
        "id": "xNXkEU2ytYMC",
        "colab": {
          "base_uri": "https://localhost:8080/"
        },
        "outputId": "ae534999-283c-487d-8c70-c98d9f81ca3e"
      },
      "source": [
        "X"
      ],
      "execution_count": null,
      "outputs": [
        {
          "output_type": "execute_result",
          "data": {
            "text/plain": [
              "array([[6., 1.],\n",
              "       [7., 3.],\n",
              "       [8., 2.],\n",
              "       [9., 0.],\n",
              "       [8., 4.],\n",
              "       [8., 6.],\n",
              "       [9., 2.],\n",
              "       [9., 5.]])"
            ]
          },
          "metadata": {
            "tags": []
          },
          "execution_count": 441
        }
      ]
    },
    {
      "cell_type": "markdown",
      "metadata": {
        "id": "seaWa0RAvUO2"
      },
      "source": [
        "### Get distance for all points\n",
        "Use Manhattan distance"
      ]
    },
    {
      "cell_type": "code",
      "metadata": {
        "id": "RcrbuE5DsoWL"
      },
      "source": [
        "def get_distance(X, v1):\n",
        "  return [ abs(x[0] - v[0]) + abs(x[1] - v[1]) for x in X]"
      ],
      "execution_count": null,
      "outputs": []
    },
    {
      "cell_type": "code",
      "metadata": {
        "id": "VcjDNN2jtPj-",
        "colab": {
          "base_uri": "https://localhost:8080/"
        },
        "outputId": "c4df8a77-7c83-4e54-8b78-b358bd15a55a"
      },
      "source": [
        "ds = get_distance(X, v)\n",
        "ds"
      ],
      "execution_count": null,
      "outputs": [
        {
          "output_type": "execute_result",
          "data": {
            "text/plain": [
              "[4.5, 1.5, 1.5, 4.5, 0.5, 2.5, 2.5, 2.5]"
            ]
          },
          "metadata": {
            "tags": []
          },
          "execution_count": 440
        }
      ]
    },
    {
      "cell_type": "markdown",
      "metadata": {
        "id": "Ie_vtIWDvhym"
      },
      "source": [
        "### Get the nearest point"
      ]
    },
    {
      "cell_type": "code",
      "metadata": {
        "id": "UUd15pFqtVlJ",
        "colab": {
          "base_uri": "https://localhost:8080/"
        },
        "outputId": "2c8d9ff1-ae3c-49f4-e25c-dfd9e94c0fa2"
      },
      "source": [
        "y[np.argmin(ds)]"
      ],
      "execution_count": null,
      "outputs": [
        {
          "output_type": "execute_result",
          "data": {
            "text/plain": [
              "1"
            ]
          },
          "metadata": {
            "tags": []
          },
          "execution_count": 444
        }
      ]
    },
    {
      "cell_type": "markdown",
      "metadata": {
        "id": "VAR5a4O2vnXG"
      },
      "source": [
        "### Plot the data\n",
        "The red dot is the vector."
      ]
    },
    {
      "cell_type": "code",
      "metadata": {
        "id": "icqSOJSxthjl",
        "colab": {
          "base_uri": "https://localhost:8080/",
          "height": 282
        },
        "outputId": "c2b4a8cf-5cef-4f1e-ed49-33e9d5369189"
      },
      "source": [
        "ax = plot_data(X, y)\n",
        "ax.scatter(v[0], v[1], color='red')"
      ],
      "execution_count": null,
      "outputs": [
        {
          "output_type": "execute_result",
          "data": {
            "text/plain": [
              "<matplotlib.collections.PathCollection at 0x7fa06f6fe550>"
            ]
          },
          "metadata": {
            "tags": []
          },
          "execution_count": 451
        },
        {
          "output_type": "display_data",
          "data": {
            "image/png": "[encoded data removed]",
            "text/plain": [
              "<Figure size 432x288 with 1 Axes>"
            ]
          },
          "metadata": {
            "tags": [],
            "needs_background": "light"
          }
        }
      ]
    },
    {
      "cell_type": "markdown",
      "metadata": {
        "id": "nnyWXMYCwpVa"
      },
      "source": [
        "### KNN\n",
        "To get k smallest, let's do some data manipulation to make it easy."
      ]
    },
    {
      "cell_type": "code",
      "metadata": {
        "id": "1Cot7kdPttoi",
        "colab": {
          "base_uri": "https://localhost:8080/"
        },
        "outputId": "d7f8ca7b-ea3b-411c-ee8d-7e7f49fac772"
      },
      "source": [
        "Xy = np.reshape(y, (y.shape[0], -1))\n",
        "Xy = np.append(X, y_reshape, axis=1)\n",
        "Xy"
      ],
      "execution_count": null,
      "outputs": [
        {
          "output_type": "execute_result",
          "data": {
            "text/plain": [
              "array([[6., 1., 0.],\n",
              "       [7., 3., 0.],\n",
              "       [8., 2., 0.],\n",
              "       [9., 0., 0.],\n",
              "       [8., 4., 1.],\n",
              "       [8., 6., 1.],\n",
              "       [9., 2., 1.],\n",
              "       [9., 5., 1.]])"
            ]
          },
          "metadata": {
            "tags": []
          },
          "execution_count": 452
        }
      ]
    },
    {
      "cell_type": "code",
      "metadata": {
        "id": "fgMKjbEpxDG5",
        "colab": {
          "base_uri": "https://localhost:8080/"
        },
        "outputId": "706acf7c-5f9f-4319-85fc-dfa52e15eab2"
      },
      "source": [
        "Xy[:, :2]"
      ],
      "execution_count": null,
      "outputs": [
        {
          "output_type": "execute_result",
          "data": {
            "text/plain": [
              "array([[6., 1.],\n",
              "       [7., 3.],\n",
              "       [8., 2.],\n",
              "       [9., 0.],\n",
              "       [8., 4.],\n",
              "       [8., 6.],\n",
              "       [9., 2.],\n",
              "       [9., 5.]])"
            ]
          },
          "metadata": {
            "tags": []
          },
          "execution_count": 453
        }
      ]
    },
    {
      "cell_type": "code",
      "metadata": {
        "id": "_bL5h0Rrwzq_",
        "colab": {
          "base_uri": "https://localhost:8080/"
        },
        "outputId": "4bf7ac56-fe9d-4260-ea9e-ee72796c891d"
      },
      "source": [
        "ds = get_distance(Xy[:, :2], y)\n",
        "ds"
      ],
      "execution_count": null,
      "outputs": [
        {
          "output_type": "execute_result",
          "data": {
            "text/plain": [
              "[4.5, 1.5, 1.5, 4.5, 0.5, 2.5, 2.5, 2.5]"
            ]
          },
          "metadata": {
            "tags": []
          },
          "execution_count": 455
        }
      ]
    },
    {
      "cell_type": "code",
      "metadata": {
        "id": "rUDsIU9Mx64C",
        "colab": {
          "base_uri": "https://localhost:8080/"
        },
        "outputId": "803abbd5-df06-4c1d-9b92-5f4cc150a82c"
      },
      "source": [
        "Xy"
      ],
      "execution_count": null,
      "outputs": [
        {
          "output_type": "execute_result",
          "data": {
            "text/plain": [
              "array([[6., 1., 0.],\n",
              "       [7., 3., 0.],\n",
              "       [8., 2., 0.],\n",
              "       [9., 0., 0.],\n",
              "       [8., 4., 1.],\n",
              "       [8., 6., 1.],\n",
              "       [9., 2., 1.],\n",
              "       [9., 5., 1.]])"
            ]
          },
          "metadata": {
            "tags": []
          },
          "execution_count": 459
        }
      ]
    },
    {
      "cell_type": "code",
      "metadata": {
        "id": "w5jBFNHTxHIS",
        "colab": {
          "base_uri": "https://localhost:8080/"
        },
        "outputId": "e2982272-fcc7-415a-b404-81d0469d82fe"
      },
      "source": [
        "k = 2\n",
        "k_sorted = np.argpartition(ds, k)\n",
        "k_sorted"
      ],
      "execution_count": null,
      "outputs": [
        {
          "output_type": "execute_result",
          "data": {
            "text/plain": [
              "array([4, 1, 2, 3, 0, 5, 6, 7])"
            ]
          },
          "metadata": {
            "tags": []
          },
          "execution_count": 461
        }
      ]
    },
    {
      "cell_type": "code",
      "metadata": {
        "id": "Rs9kDdpIxbj6"
      },
      "source": [
        "Xy_k = Xy[k_sorted][:k, :]"
      ],
      "execution_count": null,
      "outputs": []
    },
    {
      "cell_type": "code",
      "metadata": {
        "id": "whnYrjoXyStU",
        "colab": {
          "base_uri": "https://localhost:8080/"
        },
        "outputId": "ccc99782-269b-4c50-92b3-c5dc06c828e0"
      },
      "source": [
        "Xy_k"
      ],
      "execution_count": null,
      "outputs": [
        {
          "output_type": "execute_result",
          "data": {
            "text/plain": [
              "array([[8., 4., 1.],\n",
              "       [7., 3., 0.]])"
            ]
          },
          "metadata": {
            "tags": []
          },
          "execution_count": 468
        }
      ]
    },
    {
      "cell_type": "code",
      "metadata": {
        "id": "YBvnxi2lyuHy",
        "colab": {
          "base_uri": "https://localhost:8080/"
        },
        "outputId": "a66ca27b-a95e-46dd-b99d-7da3af450898"
      },
      "source": [
        "def find_knn(X, y, v, k):\n",
        "  # append y to X to make it a single matrix\n",
        "  Xy = np.reshape(y, (y.shape[0], -1))\n",
        "  Xy = np.append(X, y_reshape, axis=1)\n",
        "\n",
        "  # calculate the distances\n",
        "  ds = get_distance(Xy[:, :2], y)\n",
        "\n",
        "  # find the k smallest\n",
        "  k_sorted = np.argpartition(ds, k)\n",
        "  Xy_k = Xy[k_sorted][:k, :]\n",
        "\n",
        "  c_positives = Xy_k[:, 2] == 1\n",
        "  print(\"# of positives\", c_positives)\n",
        "\n",
        "  return 1 if sum(c_positives) >= k/2 else 0"
      ],
      "execution_count": null,
      "outputs": [
        {
          "output_type": "stream",
          "text": [
            "# of positives [False False  True  True  True]\n"
          ],
          "name": "stdout"
        },
        {
          "output_type": "execute_result",
          "data": {
            "text/plain": [
              "1"
            ]
          },
          "metadata": {
            "tags": []
          },
          "execution_count": 477
        }
      ]
    },
    {
      "cell_type": "code",
      "metadata": {
        "id": "bs2-2fJo0T87",
        "colab": {
          "base_uri": "https://localhost:8080/"
        },
        "outputId": "dc3b1d69-4959-46f2-8af6-e743db1883bb"
      },
      "source": [
        "print(\"k=2 v is classified as \", find_knn(X, y, v, 2))\n",
        "print(\"k=3 v is classified as \", find_knn(X, y, v, 3))\n",
        "print(\"k=5 v is classified as \", find_knn(X, y, v, 5))\n",
        "\n"
      ],
      "execution_count": null,
      "outputs": [
        {
          "output_type": "stream",
          "text": [
            "# of positives [ True False]\n",
            "k=2 v is classified as  1\n",
            "# of positives [False False  True]\n",
            "k=3 v is classified as  0\n",
            "# of positives [False False  True  True  True]\n",
            "k=5 v is classified as  1\n"
          ],
          "name": "stdout"
        }
      ]
    },
    {
      "cell_type": "code",
      "metadata": {
        "id": "YnfaVo5_1Mrm"
      },
      "source": [
        ""
      ],
      "execution_count": null,
      "outputs": []
    }
  ]
}