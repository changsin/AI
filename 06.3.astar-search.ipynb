{
  "nbformat": 4,
  "nbformat_minor": 0,
  "metadata": {
    "colab": {
      "name": "astar-search.ipynb",
      "provenance": [],
      "authorship_tag": "ABX9TyM6sldx3tkDIiMYXJAa901c",
      "include_colab_link": true
    },
    "kernelspec": {
      "name": "python3",
      "display_name": "Python 3"
    }
  },
  "cells": [
    {
      "cell_type": "markdown",
      "metadata": {
        "id": "view-in-github",
        "colab_type": "text"
      },
      "source": [
        "<a href=\"https://colab.research.google.com/github/changsin/DeepLearning-101-internal/blob/main/astar-search.ipynb\" target=\"_parent\"><img src=\"https://colab.research.google.com/assets/colab-badge.svg\" alt=\"Open In Colab\"/></a>"
      ]
    },
    {
      "cell_type": "code",
      "metadata": {
        "colab": {
          "base_uri": "https://localhost:8080/"
        },
        "id": "W_wvpiR2DIqZ",
        "outputId": "d90d6466-3286-425c-d9ad-8fc1f9a3c890"
      },
      "source": [
        "# A* Search\n",
        "# 1. how to represent graph in a data structure - depends on the language and algorithm\n",
        "# 2. how to test - depends very much on #1\n",
        "\n",
        "# Finding routes\n",
        "# each city is associated with a number - flying distance to Ulm\n",
        "#   it also has a distance to its neighboring cities\n",
        "# idea #1: what if we encode the distance to Ulm as a pair: e.g., (Ulm, 123) meaning \n",
        "\n",
        "# how to implement a graph\n",
        "# why graph? because that is where we can find relationship between nodes:\n",
        "#   e.g., distance between cities\n",
        "\n",
        "# Graph: a collection of connected nodes\n",
        "#     a node: name - since the name is the only property of a node,\n",
        "#       we can \n",
        "#     an edge: distance\n",
        "#   operations:\n",
        "#  \n",
        "class Graph:\n",
        "  def __init__(self, flight_connections, neighbors):\n",
        "    self.flight_connections = flight_connections\n",
        "    self.neighbors = neighbors\n",
        "\n",
        "  def add_connection(self, conns, node1, node2, distance):\n",
        "    if node1 not in conns:\n",
        "      print(\"creating {} to {} {}\".format(node2, node1, distance))\n",
        "      conns.setdefault(node1, [(node2, distance)])\n",
        "    else:\n",
        "      print(\"adding {} to {} {}\".format(node2, node1, distance))\n",
        "      conns[node1].append((node2, distance))\n",
        "\n",
        "    if node2 not in conns:\n",
        "      print(\"creating {} to {} {}\".format(node1, node2, distance))\n",
        "      conns.setdefault(node2, [(node1, distance)])\n",
        "    else:\n",
        "      print(\"adding {} to {} {}\".format(node1, node2, distance))\n",
        "      conns[node2].append((node1, distance))\n",
        "\n",
        "  def add_flight_connection(self, node1, node2, distance):\n",
        "    self.add_connection(self.flight_connections, node1, node2, distance)\n",
        "\n",
        "  def add_neighbor(self, node1, node2, distance):\n",
        "    self.add_connection(self.neighbors, node1, node2, distance)\n",
        "\n",
        "  def get_neighbors(self, node):\n",
        "    if node in self.neighbors:\n",
        "      return self.neighbors[node]\n",
        "\n",
        "  def get_flight_distance(self, node1, node2):\n",
        "    if node1 in self.flight_connections:\n",
        "      for node, distance in self.flight_connections[node1]:\n",
        "        if node == node2:\n",
        "          return distance\n",
        "    else:\n",
        "      print(\"No connection between {} and {}\".format(node1, node2))\n",
        "\n",
        "graph = Graph(dict(), dict())\n",
        "\n",
        "graph.add_flight_connection(\"Frankfurt\", \"Ulm\", 215)\n",
        "graph.add_flight_connection(\"Mannheim\", \"Ulm\", 164)\n",
        "\n",
        "print(graph.get_flight_distance(\"Ulm\", \"Frankfurt\"))\n",
        "\n",
        "print(graph.get_flight_distance(\"Frankfurt\", \"Ulm\"))\n",
        "\n",
        "print(graph.get_neighbors(\"Ulm\"))"
      ],
      "execution_count": null,
      "outputs": [
        {
          "output_type": "stream",
          "text": [
            "creating Ulm to Frankfurt 215\n",
            "creating Frankfurt to Ulm 215\n",
            "creating Ulm to Mannheim 164\n",
            "adding Mannheim to Ulm 164\n",
            "215\n",
            "215\n",
            "None\n"
          ],
          "name": "stdout"
        }
      ]
    },
    {
      "cell_type": "code",
      "metadata": {
        "colab": {
          "base_uri": "https://localhost:8080/"
        },
        "id": "HHisSjYsMLCZ",
        "outputId": "20820662-4338-4cc6-ae37-0d5a52a59979"
      },
      "source": [
        "graph = Graph(dict(), dict())\n",
        "\n",
        "graph.add_flight_connection(\"Frankfurt\", \"Ulm\", 215)\n",
        "graph.add_flight_connection(\"Mannheim\", \"Ulm\", 164)\n",
        "graph.add_flight_connection(\"Karlsruhe\", \"Ulm\", 137)\n",
        "graph.add_flight_connection(\"Stuttgart\", \"Ulm\", 75)\n",
        "graph.add_flight_connection(\"Nurnberg\", \"Ulm\", 132)\n",
        "graph.add_flight_connection(\"Wurzburg\", \"Ulm\", 153)\n",
        "\n",
        "graph.add_neighbor(\"Mannheim\", \"Frankfurt\", 85)\n",
        "graph.add_neighbor(\"Mannheim\", \"Karlsruhe\", 67)\n",
        "graph.add_neighbor(\"Mannheim\", \"Nurnberg\", 230)\n",
        "graph.add_neighbor(\"Stuttgart\", \"Karlsruhe\", 64)\n",
        "graph.add_neighbor(\"Stuttgart\", \"Ulm\", 107)\n",
        "graph.add_neighbor(\"Frankfurt\", \"Wurzburg\", 111)\n",
        "graph.add_neighbor(\"Wurzburg\", \"Nurnberg\", 104)\n",
        "graph.add_neighbor(\"Wurzburg\", \"Ulm\", 183)\n",
        "graph.add_neighbor(\"Wurzburg\", \"Stuttgart\", 140)\n",
        "graph.add_neighbor(\"Nurnberg\", \"Ulm\", 171)\n",
        "\n",
        "\n",
        "\n",
        "print(graph.get_flight_distance(\"Ulm\", \"Frankfurt\"))\n",
        "\n",
        "print(graph.get_flight_distance(\"Karlsruhe\", \"Stuttgart\"))\n",
        "print(graph.get_neighbors(\"Ulm\"))"
      ],
      "execution_count": null,
      "outputs": [
        {
          "output_type": "stream",
          "text": [
            "creating Ulm to Frankfurt 215\n",
            "creating Frankfurt to Ulm 215\n",
            "creating Ulm to Mannheim 164\n",
            "adding Mannheim to Ulm 164\n",
            "creating Ulm to Karlsruhe 137\n",
            "adding Karlsruhe to Ulm 137\n",
            "creating Ulm to Stuttgart 75\n",
            "adding Stuttgart to Ulm 75\n",
            "creating Ulm to Nurnberg 132\n",
            "adding Nurnberg to Ulm 132\n",
            "creating Ulm to Wurzburg 153\n",
            "adding Wurzburg to Ulm 153\n",
            "creating Frankfurt to Mannheim 85\n",
            "creating Mannheim to Frankfurt 85\n",
            "adding Karlsruhe to Mannheim 67\n",
            "creating Mannheim to Karlsruhe 67\n",
            "adding Nurnberg to Mannheim 230\n",
            "creating Mannheim to Nurnberg 230\n",
            "creating Karlsruhe to Stuttgart 64\n",
            "adding Stuttgart to Karlsruhe 64\n",
            "adding Ulm to Stuttgart 107\n",
            "creating Stuttgart to Ulm 107\n",
            "adding Wurzburg to Frankfurt 111\n",
            "creating Frankfurt to Wurzburg 111\n",
            "adding Nurnberg to Wurzburg 104\n",
            "adding Wurzburg to Nurnberg 104\n",
            "adding Ulm to Wurzburg 183\n",
            "adding Wurzburg to Ulm 183\n",
            "adding Stuttgart to Wurzburg 140\n",
            "adding Wurzburg to Stuttgart 140\n",
            "adding Ulm to Nurnberg 171\n",
            "adding Nurnberg to Ulm 171\n",
            "215\n",
            "None\n",
            "[('Stuttgart', 107), ('Wurzburg', 183), ('Nurnberg', 171)]\n"
          ],
          "name": "stdout"
        }
      ]
    },
    {
      "cell_type": "code",
      "metadata": {
        "colab": {
          "base_uri": "https://localhost:8080/"
        },
        "id": "xWYBhVUDJL1A",
        "outputId": "6c76df6e-64a9-4cd7-a4a1-134d48f808c1"
      },
      "source": [
        "graph.flight_connections"
      ],
      "execution_count": null,
      "outputs": [
        {
          "output_type": "execute_result",
          "data": {
            "text/plain": [
              "{'Frankfurt': [('Ulm', 215)],\n",
              " 'Karlsruhe': [('Ulm', 137)],\n",
              " 'Mannheim': [('Ulm', 164)],\n",
              " 'Nurnberg': [('Ulm', 132)],\n",
              " 'Stuttgart': [('Ulm', 75)],\n",
              " 'Ulm': [('Frankfurt', 215),\n",
              "  ('Mannheim', 164),\n",
              "  ('Karlsruhe', 137),\n",
              "  ('Stuttgart', 75),\n",
              "  ('Nurnberg', 132),\n",
              "  ('Wurzburg', 153)],\n",
              " 'Wurzburg': [('Ulm', 153)]}"
            ]
          },
          "metadata": {
            "tags": []
          },
          "execution_count": 49
        }
      ]
    },
    {
      "cell_type": "code",
      "metadata": {
        "colab": {
          "base_uri": "https://localhost:8080/"
        },
        "id": "CObOHBYI96NX",
        "outputId": "681d4208-f116-48cb-9dd4-06454022684a"
      },
      "source": [
        "graph.neighbors"
      ],
      "execution_count": null,
      "outputs": [
        {
          "output_type": "execute_result",
          "data": {
            "text/plain": [
              "{'Frankfurt': [('Mannheim', 85), ('Wurzburg', 111)],\n",
              " 'Karlsruhe': [('Mannheim', 67), ('Stuttgart', 64)],\n",
              " 'Mannheim': [('Frankfurt', 85), ('Karlsruhe', 67), ('Nurnberg', 230)],\n",
              " 'Nurnberg': [('Mannheim', 230), ('Wurzburg', 104), ('Ulm', 171)],\n",
              " 'Stuttgart': [('Karlsruhe', 64), ('Ulm', 107), ('Wurzburg', 140)],\n",
              " 'Ulm': [('Stuttgart', 107), ('Wurzburg', 183), ('Nurnberg', 171)],\n",
              " 'Wurzburg': [('Frankfurt', 111),\n",
              "  ('Nurnberg', 104),\n",
              "  ('Ulm', 183),\n",
              "  ('Stuttgart', 140)]}"
            ]
          },
          "metadata": {
            "tags": []
          },
          "execution_count": 50
        }
      ]
    },
    {
      "cell_type": "markdown",
      "metadata": {
        "id": "PEmug0sqA8HQ"
      },
      "source": [
        "```\n",
        "HEURISTICSEARCH(Start, Goal)\n",
        "NodeList = [Start]\n",
        "While True\n",
        "  If NodeList = ∅\n",
        "    Return(“No solution”)\n",
        "  Node = First(NodeList)\n",
        "  NodeList = Rest(NodeList)\n",
        "  If GoalReached(Node, Goal)\n",
        "    Return(“Solution found”, Node)\n",
        "  NodeList = SortIn(Successors(Node),NodeList)\n",
        "```"
      ]
    },
    {
      "cell_type": "code",
      "metadata": {
        "id": "pgvvUTTPd7ZQ"
      },
      "source": [
        "def get_costs(to_sort, goal):\n",
        "  print(\"before sorted {}\".format(to_sort))\n",
        "  sorted_list = sorted(to_sort, key = lambda x: x[1], reverse = False)\n",
        "  print(\"sorted {}\".format(sorted_list))\n",
        "  return sorted_list\n",
        "\n",
        "sort_in(graph.get_neighbors(\"Ulm\") + [])"
      ],
      "execution_count": null,
      "outputs": []
    },
    {
      "cell_type": "code",
      "metadata": {
        "colab": {
          "base_uri": "https://localhost:8080/"
        },
        "id": "F4ikAHiqC9rD",
        "outputId": "b118acca-38bc-4bbe-f14e-677607bf5fc1"
      },
      "source": [
        "def sort_in(to_sort, goal):\n",
        "  print(\"before sorted {}\".format(to_sort))\n",
        "  sorted_list = sorted(to_sort, key = lambda x: x[1], reverse = False)\n",
        "  print(\"sorted {}\".format(sorted_list))\n",
        "  return sorted_list\n",
        "\n",
        "sort_in(graph.get_neighbors(\"Ulm\") + [])"
      ],
      "execution_count": null,
      "outputs": [
        {
          "output_type": "stream",
          "text": [
            "before sorted [('Stuttgart', 107), ('Wurzburg', 183), ('Nurnberg', 171)]\n",
            "sorted [('Stuttgart', 107), ('Nurnberg', 171), ('Wurzburg', 183)]\n"
          ],
          "name": "stdout"
        },
        {
          "output_type": "execute_result",
          "data": {
            "text/plain": [
              "[('Stuttgart', 107), ('Nurnberg', 171), ('Wurzburg', 183)]"
            ]
          },
          "metadata": {
            "tags": []
          },
          "execution_count": 7
        }
      ]
    },
    {
      "cell_type": "code",
      "metadata": {
        "id": "ZbKlNBM8QrWI"
      },
      "source": [
        "# find the shortest path between two cities\n",
        "def greedy_search(graph, city1, city2):\n",
        "  if not city1 in graph.flight_connections or not city2 in graph.flight_connections:\n",
        "    return None\n",
        "\n",
        "  if city1 == city2:\n",
        "    print(\"No need to find a route to a city itself\")\n",
        "    return None\n",
        "\n",
        "  to_search = graph.get_neighbors(city1)\n",
        "  paths = [city1]\n",
        "  while to_search:\n",
        "    print(\"to_search: {}\".format(to_search))\n",
        "    if to_search is None:\n",
        "      print(\"no route\")\n",
        "      return\n",
        "\n",
        "    # first check if the destination is in the immediate neighbor\n",
        "    for node_name in [name for name, distance in to_search]:\n",
        "      if node_name == city2:\n",
        "        paths.append(node_name)\n",
        "        print(\"Paths found {}\".format(paths))\n",
        "        return paths\n",
        "\n",
        "    # if not found, add the first node to the paths\n",
        "    # add the head of the list\n",
        "    node_name, distance = to_search[0]\n",
        "    # append the rest of the list\n",
        "    to_search = to_search[1:]\n",
        "    paths.append(node_name)\n",
        "\n",
        "    # then expand the first node\n",
        "    # to_sort = expand_node(node_name) + to_search\n",
        "    # print(\"Current paths: {}\".format(paths))\n",
        "    to_sort = []\n",
        "    for key, value in graph.get_neighbors(node_name) + to_search:\n",
        "      if key not in paths:\n",
        "        to_sort.append((key, value))\n",
        "      else:\n",
        "        print(\"visited {}\".format(key))\n",
        "\n",
        "    to_search = sort_in(to_sort)\n",
        "\n",
        "    print(\"Found {} neighbors of {}\".format(node_name, to_search))"
      ],
      "execution_count": null,
      "outputs": []
    },
    {
      "cell_type": "code",
      "metadata": {
        "id": "Fr4t0BbNh6cb"
      },
      "source": [
        "def expand_node(graph, node_name):\n",
        "  \n",
        "    \n"
      ],
      "execution_count": null,
      "outputs": []
    },
    {
      "cell_type": "code",
      "metadata": {
        "colab": {
          "base_uri": "https://localhost:8080/"
        },
        "id": "tp85FC_IRJn6",
        "outputId": "eb5588a1-38a7-4e0d-bb86-3f7d1e645371"
      },
      "source": [
        "greedy_search(graph, \"Frankfurt\", \"Ulm\")\n",
        "\n",
        "# greedy_search(graph, \"Nurnberg\", \"Ulm\")"
      ],
      "execution_count": null,
      "outputs": [
        {
          "output_type": "stream",
          "text": [
            "to_search: [('Mannheim', 85), ('Wurzburg', 111)]\n",
            "visited Frankfurt\n",
            "before sorted [('Karlsruhe', 67), ('Nurnberg', 230), ('Wurzburg', 111)]\n",
            "sorted [('Karlsruhe', 67), ('Wurzburg', 111), ('Nurnberg', 230)]\n",
            "Found Mannheim neighbors of [('Karlsruhe', 67), ('Wurzburg', 111), ('Nurnberg', 230)]\n",
            "to_search: [('Karlsruhe', 67), ('Wurzburg', 111), ('Nurnberg', 230)]\n",
            "visited Mannheim\n",
            "before sorted [('Stuttgart', 64), ('Wurzburg', 111), ('Nurnberg', 230)]\n",
            "sorted [('Stuttgart', 64), ('Wurzburg', 111), ('Nurnberg', 230)]\n",
            "Found Karlsruhe neighbors of [('Stuttgart', 64), ('Wurzburg', 111), ('Nurnberg', 230)]\n",
            "to_search: [('Stuttgart', 64), ('Wurzburg', 111), ('Nurnberg', 230)]\n",
            "visited Karlsruhe\n",
            "before sorted [('Ulm', 107), ('Wurzburg', 140), ('Wurzburg', 111), ('Nurnberg', 230)]\n",
            "sorted [('Ulm', 107), ('Wurzburg', 111), ('Wurzburg', 140), ('Nurnberg', 230)]\n",
            "Found Stuttgart neighbors of [('Ulm', 107), ('Wurzburg', 111), ('Wurzburg', 140), ('Nurnberg', 230)]\n",
            "to_search: [('Ulm', 107), ('Wurzburg', 111), ('Wurzburg', 140), ('Nurnberg', 230)]\n",
            "Paths found ['Frankfurt', 'Mannheim', 'Karlsruhe', 'Stuttgart', 'Ulm']\n"
          ],
          "name": "stdout"
        },
        {
          "output_type": "execute_result",
          "data": {
            "text/plain": [
              "['Frankfurt', 'Mannheim', 'Karlsruhe', 'Stuttgart', 'Ulm']"
            ]
          },
          "metadata": {
            "tags": []
          },
          "execution_count": 54
        }
      ]
    },
    {
      "cell_type": "code",
      "metadata": {
        "colab": {
          "base_uri": "https://localhost:8080/"
        },
        "id": "Gk5dQsSZWqEo",
        "outputId": "5b8a4984-887d-4374-993a-67c41dd52905"
      },
      "source": [
        "lists = [('Frankfurt', 85), ('Karlsruhe', 67), ('Wurzburg', 104), ('Ulm', 171)]\n",
        "\n",
        "'Frankfurt' in [ name for name, value in lists]"
      ],
      "execution_count": null,
      "outputs": [
        {
          "output_type": "execute_result",
          "data": {
            "text/plain": [
              "True"
            ]
          },
          "metadata": {
            "tags": []
          },
          "execution_count": 33
        }
      ]
    },
    {
      "cell_type": "markdown",
      "metadata": {
        "id": "ZL6jU8bz5T2W"
      },
      "source": [
        "Week 3 Practice Quiz for Metrics."
      ]
    },
    {
      "cell_type": "code",
      "metadata": {
        "colab": {
          "base_uri": "https://localhost:8080/"
        },
        "id": "UilCkPnwgEcO",
        "outputId": "70d42378-4769-4e3e-a4b9-c1267a4e9eb2"
      },
      "source": [
        "import numpy as np\n",
        "\n",
        "A = np.array([[1, 2, 3],[4, 5, 6]])\n",
        "B = np.array([1, 2, 3])\n",
        "\n",
        "A * B"
      ],
      "execution_count": null,
      "outputs": [
        {
          "output_type": "execute_result",
          "data": {
            "text/plain": [
              "array([[ 1,  4,  9],\n",
              "       [ 4, 10, 18]])"
            ]
          },
          "metadata": {
            "tags": []
          },
          "execution_count": 10
        }
      ]
    },
    {
      "cell_type": "code",
      "metadata": {
        "colab": {
          "base_uri": "https://localhost:8080/"
        },
        "id": "MkLkSgkXgUx0",
        "outputId": "2af98152-ad39-4347-f12d-e735d331c58a"
      },
      "source": [
        "A @ B"
      ],
      "execution_count": null,
      "outputs": [
        {
          "output_type": "execute_result",
          "data": {
            "text/plain": [
              "array([ 6, 15])"
            ]
          },
          "metadata": {
            "tags": []
          },
          "execution_count": 6
        }
      ]
    },
    {
      "cell_type": "code",
      "metadata": {
        "colab": {
          "base_uri": "https://localhost:8080/"
        },
        "id": "hTgpt_7Zgf67",
        "outputId": "da864d6b-9f4e-4dc1-b19e-706aa0635b49"
      },
      "source": [
        "A.shape"
      ],
      "execution_count": null,
      "outputs": [
        {
          "output_type": "execute_result",
          "data": {
            "text/plain": [
              "(2, 3)"
            ]
          },
          "metadata": {
            "tags": []
          },
          "execution_count": 7
        }
      ]
    },
    {
      "cell_type": "code",
      "metadata": {
        "colab": {
          "base_uri": "https://localhost:8080/"
        },
        "id": "QeHZsGfigxLO",
        "outputId": "724bd3ec-b43f-4913-c7d8-158af218d3c5"
      },
      "source": [
        "B.shape"
      ],
      "execution_count": null,
      "outputs": [
        {
          "output_type": "execute_result",
          "data": {
            "text/plain": [
              "(3,)"
            ]
          },
          "metadata": {
            "tags": []
          },
          "execution_count": 8
        }
      ]
    },
    {
      "cell_type": "code",
      "metadata": {
        "colab": {
          "base_uri": "https://localhost:8080/"
        },
        "id": "pYcCHkVygyLU",
        "outputId": "99bd17c9-728d-4322-9535-59491491adea"
      },
      "source": [
        "np.multiply(A, B)"
      ],
      "execution_count": null,
      "outputs": [
        {
          "output_type": "execute_result",
          "data": {
            "text/plain": [
              "array([[1, 2, 3],\n",
              "       [4, 5, 6]])"
            ]
          },
          "metadata": {
            "tags": []
          },
          "execution_count": 9
        }
      ]
    },
    {
      "cell_type": "code",
      "metadata": {
        "id": "u1oau3s-loR1"
      },
      "source": [
        "\n",
        "class Node():\n",
        "\n",
        "    def __init__(self, parent=None, position=None):\n",
        "        self.parent = parent\n",
        "        self.position = position\n",
        "\n",
        "        self.g = 0\n",
        "        self.h = 0\n",
        "        self.f = 0\n",
        "\n",
        "    def __eq__(self, other):\n",
        "        return self.position == other.position\n",
        "\n",
        "\n",
        "def astar(maze, start, end):\n",
        "    #Returns a list of tuples as a path from the given start to the given end in the given maze\n",
        "\n",
        "    # Create start and end node\n",
        "    start_node = Node(None, start)\n",
        "    start_node.g = start_node.h = start_node.f = 0\n",
        "    end_node = Node(None, end)\n",
        "    end_node.g = end_node.h = end_node.f = 0\n",
        "\n",
        "    # Initialize both open and closed list\n",
        "    open_list = []\n",
        "    closed_list = []\n",
        "\n",
        "    # Add the start node\n",
        "    open_list.append(start_node)\n",
        "\n",
        "    # Loop until you find the end\n",
        "    while len(open_list) > 0:\n",
        "\n",
        "        # Get the current node\n",
        "        current_node = open_list[0]\n",
        "        current_index = 0\n",
        "        for index, item in enumerate(open_list):\n",
        "            if item.f < current_node.f:\n",
        "                current_node = item\n",
        "                current_index = index\n",
        "\n",
        "        # Pop current off open list, add to closed list\n",
        "        open_list.pop(current_index)\n",
        "        closed_list.append(current_node)\n",
        "\n",
        "        # Found the goal\n",
        "        if current_node == end_node:\n",
        "            path = []\n",
        "            current = current_node\n",
        "            while current is not None:\n",
        "                path.append(current.position)\n",
        "                current = current.parent\n",
        "            return path[::-1] # Return reversed path\n",
        "\n",
        "        # Generate children\n",
        "        children = []\n",
        "        for new_position in [(0, -1), (0, 1), (-1, 0), (1, 0), (-1, -1), (-1, 1), (1, -1), (1, 1)]: # Adjacent squares\n",
        "\n",
        "            # Get node position\n",
        "            node_position = (current_node.position[0] + new_position[0], current_node.position[1] + new_position[1])\n",
        "\n",
        "            # Make sure within range\n",
        "            if node_position[0] > (len(maze) - 1) or node_position[0] < 0 or node_position[1] > (len(maze[len(maze)-1]) -1) or node_position[1] < 0:\n",
        "                continue\n",
        "\n",
        "            # Make sure walkable terrain\n",
        "            if maze[node_position[0]][node_position[1]] != 0:\n",
        "                continue\n",
        "\n",
        "            # Create new node\n",
        "            new_node = Node(current_node, node_position)\n",
        "\n",
        "            # Append\n",
        "            children.append(new_node)\n",
        "\n",
        "        # Loop through children\n",
        "        for child in children:\n",
        "\n",
        "            # Child is on the closed list\n",
        "            for closed_child in closed_list:\n",
        "                if child == closed_child:\n",
        "                    continue\n",
        "\n",
        "            # Create the f, g, and h values\n",
        "            child.g = current_node.g + 1\n",
        "            child.h = ((child.position[0] - end_node.position[0]) ** 2) + ((child.position[1] - end_node.position[1]) ** 2)\n",
        "            child.f = child.g + child.h\n",
        "\n",
        "            # Child is already in the open list\n",
        "            for open_node in open_list:\n",
        "                if child == open_node and child.g > open_node.g:\n",
        "                    continue\n",
        "\n",
        "            # Add the child to the open list\n",
        "            open_list.append(child)\n",
        "\n",
        "\n",
        "def main():\n",
        "    maze1 = [\n",
        "                [0, 0, 1, 0, 0],\n",
        "                [0, 1, 1, 0, 0],\n",
        "                [0, 0, 0, 0, 0],\n",
        "                [0, 0, 1, 0, 0],\n",
        "                [0, 0, 1, 0, 0]\n",
        "            ]\n",
        "    maze2 = [\n",
        "                [1, 0, 0, 0, 0],\n",
        "                [1, 1, 0, 0, 0],\n",
        "                [0, 1, 1, 0, 0],\n",
        "                [0, 0, 0, 0, 0],\n",
        "                [1, 1, 0, 0, 0]\n",
        "            ]\n",
        "    maze3 = [\n",
        "                [0, 0, 0, 0, 0],\n",
        "                [0, 1, 1, 0, 0],\n",
        "                [0, 1, 1, 1, 0],\n",
        "                [0, 1, 1, 0, 0],\n",
        "                [0, 0, 0, 0, 0]\n",
        "            ]\n",
        "\n",
        "    maze = maze3\n",
        "\n",
        "    start = (4,0)\n",
        "    end = (1,3)\n",
        "\n",
        "    path = astar(maze, start, end)\n",
        "    print(path)\n",
        "\n",
        "\n",
        "# if __name__ == '__main__':\n",
        "#     main()\n"
      ],
      "execution_count": null,
      "outputs": []
    },
    {
      "cell_type": "code",
      "metadata": {
        "colab": {
          "base_uri": "https://localhost:8080/"
        },
        "id": "DPQNokZanFFF",
        "outputId": "d52f0162-591c-4ef2-ae40-3deed9a4bf45"
      },
      "source": [
        "main()"
      ],
      "execution_count": null,
      "outputs": [
        {
          "output_type": "stream",
          "text": [
            "[(4, 0), (4, 1), (4, 2), (3, 3), (2, 4), (1, 3)]\n"
          ],
          "name": "stdout"
        }
      ]
    },
    {
      "cell_type": "code",
      "metadata": {
        "id": "UpJtF4YrnGoF"
      },
      "source": [
        ""
      ],
      "execution_count": null,
      "outputs": []
    }
  ]
}
