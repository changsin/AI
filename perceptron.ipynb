{
  "nbformat": 4,
  "nbformat_minor": 0,
  "metadata": {
    "colab": {
      "name": "Welcome To Colaboratory",
      "provenance": [],
      "collapsed_sections": [],
      "toc_visible": true,
      "include_colab_link": true
    },
    "kernelspec": {
      "display_name": "Python 3",
      "name": "python3"
    }
  },
  "cells": [
    {
      "cell_type": "markdown",
      "metadata": {
        "id": "view-in-github",
        "colab_type": "text"
      },
      "source": [
        "<a href=\"https://colab.research.google.com/github/changsin/AI/blob/main/perceptron.ipynb\" target=\"_parent\"><img src=\"https://colab.research.google.com/assets/colab-badge.svg\" alt=\"Open In Colab\"/></a>"
      ]
    },
    {
      "cell_type": "code",
      "metadata": {
        "id": "nQYFfh60kRYD"
      },
      "source": [
        "\n",
        "def perceptron(data, num_iter):\n",
        "    features = data[:, :-1]\n",
        "    labels = data[:, -1]\n",
        "    \n",
        "    # set weights to zero\n",
        "    w = np.zeros(shape=(1, features.shape[1]+1))\n",
        "    \n",
        "    misclassified_ = [] \n",
        "  \n",
        "    for epoch in range(num_iter):\n",
        "        misclassified = 0\n",
        "        for x, label in zip(features, labels):\n",
        "            x = np.insert(x,0,1)\n",
        "            y = np.dot(w, x.transpose())\n",
        "            target = 1.0 if (y > 0) else 0.0\n",
        "            \n",
        "            delta = (label.item(0,0) - target)\n",
        "            \n",
        "            if(delta): # misclassified\n",
        "                misclassified += 1\n",
        "                w += (delta * x)\n",
        "        \n",
        "        misclassified_.append(misclassified)\n",
        "    return (w, misclassified_)\n",
        "             \n",
        "num_iter = 10\n",
        "w, misclassified_ = perceptron(data, num_iter)\n",
        "view rawperceptron_learning.py hosted with ❤ by GitHub"
      ],
      "execution_count": null,
      "outputs": []
    },
    {
      "cell_type": "code",
      "metadata": {
        "id": "fjvBgtMCkZh6"
      },
      "source": [
        "import numpy as np\n",
        "\n",
        "w = np.array([1.0, 1.0])\n",
        "\n",
        "X = np.array([\n",
        "      [0, 1.8],\n",
        "      [2, 0.6],\n",
        "      [-1.2, 1.4],    \n",
        "      [0.4, -1]\n",
        "    ]\n",
        ")\n",
        "\n",
        "y = np.array([1, 1, 0, 0])"
      ],
      "execution_count": 53,
      "outputs": []
    },
    {
      "cell_type": "code",
      "metadata": {
        "id": "MC1S8oFglLX4"
      },
      "source": [
        "def train(w):\n",
        "  for id in range(len(y)):\n",
        "    x = X[id]\n",
        "    wx = np.matmul(x, w)\n",
        "    if y[id] == 1 and wx < 0:\n",
        "      print(\"misclassified\", x, w)\n",
        "      w = w + x\n",
        "      print(\"positive correction\", w)\n",
        "    elif y[id] == 0 and wx > 0:\n",
        "      print(\"misclassified\", x, w)\n",
        "      w = w -x\n",
        "      print(\"negative correction\", w)\n",
        "    \n",
        "  return w\n"
      ],
      "execution_count": 54,
      "outputs": []
    },
    {
      "cell_type": "code",
      "metadata": {
        "id": "k2zFPBzYsV9d",
        "outputId": "05f9c503-fd15-403a-aa7e-c83bc6820cdd",
        "colab": {
          "base_uri": "https://localhost:8080/"
        }
      },
      "source": [
        "w = train(w)\n",
        "w"
      ],
      "execution_count": 55,
      "outputs": [
        {
          "output_type": "stream",
          "text": [
            "misclassified [-1.2  1.4] [1. 1.]\n",
            "negative correction [ 2.2 -0.4]\n",
            "misclassified [ 0.4 -1. ] [ 2.2 -0.4]\n",
            "negative correction [1.8 0.6]\n"
          ],
          "name": "stdout"
        },
        {
          "output_type": "execute_result",
          "data": {
            "text/plain": [
              "array([1.8, 0.6])"
            ]
          },
          "metadata": {
            "tags": []
          },
          "execution_count": 55
        }
      ]
    },
    {
      "cell_type": "code",
      "metadata": {
        "id": "J40n_X2QlPif",
        "outputId": "a690862e-5115-4566-dcdd-b51044fa0609",
        "colab": {
          "base_uri": "https://localhost:8080/"
        }
      },
      "source": [
        "w = train(w)"
      ],
      "execution_count": 56,
      "outputs": [
        {
          "output_type": "stream",
          "text": [
            "misclassified [ 0.4 -1. ] [1.8 0.6]\n",
            "negative correction [1.4 1.6]\n"
          ],
          "name": "stdout"
        }
      ]
    },
    {
      "cell_type": "code",
      "metadata": {
        "id": "02agVceglqpM",
        "outputId": "6f427925-c5ea-4d86-8f4f-e77982319f63",
        "colab": {
          "base_uri": "https://localhost:8080/"
        }
      },
      "source": [
        "w = train(w)"
      ],
      "execution_count": 57,
      "outputs": [
        {
          "output_type": "stream",
          "text": [
            "misclassified [-1.2  1.4] [1.4 1.6]\n",
            "negative correction [2.6 0.2]\n",
            "misclassified [ 0.4 -1. ] [2.6 0.2]\n",
            "negative correction [2.2 1.2]\n"
          ],
          "name": "stdout"
        }
      ]
    },
    {
      "cell_type": "code",
      "metadata": {
        "id": "cok-gWQ9s_az"
      },
      "source": [
        ""
      ],
      "execution_count": null,
      "outputs": []
    }
  ]
}