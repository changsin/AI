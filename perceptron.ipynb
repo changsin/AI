{
  "nbformat": 4,
  "nbformat_minor": 0,
  "metadata": {
    "colab": {
      "name": "Welcome To Colaboratory",
      "provenance": [],
      "collapsed_sections": [],
      "toc_visible": true,
      "include_colab_link": true
    },
    "kernelspec": {
      "display_name": "Python 3",
      "name": "python3"
    }
  },
  "cells": [
    {
      "cell_type": "markdown",
      "metadata": {
        "id": "view-in-github",
        "colab_type": "text"
      },
      "source": [
        "<a href=\"https://colab.research.google.com/github/changsin/AI/blob/main/perceptron.ipynb\" target=\"_parent\"><img src=\"https://colab.research.google.com/assets/colab-badge.svg\" alt=\"Open In Colab\"/></a>"
      ]
    },
    {
      "cell_type": "markdown",
      "metadata": {
        "id": "HclJutxS2bYj"
      },
      "source": [
        "# Create input data"
      ]
    },
    {
      "cell_type": "code",
      "metadata": {
        "id": "fjvBgtMCkZh6"
      },
      "source": [
        "import numpy as np\n",
        "import matplotlib.pyplot as plt\n",
        "\n",
        "X = np.array([\n",
        "      [6., 1.],\n",
        "      [7., 3.],\n",
        "      [8., 2.],    \n",
        "      [9., 0.],\n",
        "      [8., 4.],\n",
        "      [8., 6.],\n",
        "      [9., 2.],    \n",
        "      [9., 5.]\n",
        "    ])\n",
        "y = np.array([0, 0, 0, 0, 1, 1, 1, 1])"
      ],
      "execution_count": 108,
      "outputs": []
    },
    {
      "cell_type": "markdown",
      "metadata": {
        "id": "_KwjaxgL2_5h"
      },
      "source": [
        "## play with the data"
      ]
    },
    {
      "cell_type": "code",
      "metadata": {
        "id": "BfYPuJcaXzO2",
        "outputId": "e90c5575-9a0f-4a02-c977-d4c2f4cf8208",
        "colab": {
          "base_uri": "https://localhost:8080/"
        }
      },
      "source": [
        "y_reshape = np.reshape(y, (y.shape[0], -1))\n",
        "data = np.append(X, y_reshape, axis=1)\n",
        "data"
      ],
      "execution_count": 119,
      "outputs": [
        {
          "output_type": "execute_result",
          "data": {
            "text/plain": [
              "array([[6., 1., 0.],\n",
              "       [7., 3., 0.],\n",
              "       [8., 2., 0.],\n",
              "       [9., 0., 0.],\n",
              "       [8., 4., 1.],\n",
              "       [8., 6., 1.],\n",
              "       [9., 2., 1.],\n",
              "       [9., 5., 1.]])"
            ]
          },
          "metadata": {
            "tags": []
          },
          "execution_count": 119
        }
      ]
    },
    {
      "cell_type": "code",
      "metadata": {
        "id": "IaJP8hQXZrYc",
        "outputId": "0ade21b2-5b4e-415f-ad63-e9f9ad832bfb",
        "colab": {
          "base_uri": "https://localhost:8080/"
        }
      },
      "source": [
        "positives = X[y == 1]\n",
        "positives"
      ],
      "execution_count": 229,
      "outputs": [
        {
          "output_type": "execute_result",
          "data": {
            "text/plain": [
              "array([[8., 4.],\n",
              "       [8., 6.],\n",
              "       [9., 2.],\n",
              "       [9., 5.]])"
            ]
          },
          "metadata": {
            "tags": []
          },
          "execution_count": 229
        }
      ]
    },
    {
      "cell_type": "markdown",
      "metadata": {
        "id": "xPlVsETQ2jxV"
      },
      "source": [
        "# Plot the data\n",
        "Also do some initial plot fitting"
      ]
    },
    {
      "cell_type": "code",
      "metadata": {
        "id": "adycebXKoCJp",
        "outputId": "ab2ec46e-83e6-459d-faac-7128b34b71e5",
        "colab": {
          "base_uri": "https://localhost:8080/",
          "height": 282
        }
      },
      "source": [
        "import numpy as np\n",
        "import matplotlib.pyplot as plt\n",
        "\n",
        "positives = X[y == 1]\n",
        "negatives = X[y == 0]\n",
        "\n",
        "fig, ax = plt.subplots()\n",
        "ax.plot(positives[:, 0], positives[:, 1], marker='o', linestyle='', ms=12, label='+')\n",
        "ax.plot(negatives[:, 0], negatives[:, 1], marker='o', linestyle='', ms=12, label='-')\n",
        "\n",
        "# plt.scatter(X[:, 0], X[:, 1])\n",
        "# plt.show()\n",
        "x_reg = np.array([8., 9.])\n",
        "y_reg = np.array([3, 1])\n",
        "\n",
        "m, b = np.polyfit(x_reg, y_reg, 1)\n",
        "# m = slope, b=intercept\n",
        "\n",
        "\n",
        "ax.plot(x_reg, m*x_reg + b)"
      ],
      "execution_count": 230,
      "outputs": [
        {
          "output_type": "execute_result",
          "data": {
            "text/plain": [
              "[<matplotlib.lines.Line2D at 0x7fa07c41db10>]"
            ]
          },
          "metadata": {
            "tags": []
          },
          "execution_count": 230
        },
        {
          "output_type": "display_data",
          "data": {
            "image/png": "[encoded data removed]",
            "text/plain": [
              "<Figure size 432x288 with 1 Axes>"
            ]
          },
          "metadata": {
            "tags": [],
            "needs_background": "light"
          }
        }
      ]
    },
    {
      "cell_type": "markdown",
      "metadata": {
        "id": "Df5x57dx3Wa4"
      },
      "source": [
        "# Run Logistic Regression"
      ]
    },
    {
      "cell_type": "code",
      "metadata": {
        "id": "cZRfWzj9r28o",
        "outputId": "1dc7566e-108f-4287-fc1f-85965ac7b18f",
        "colab": {
          "base_uri": "https://localhost:8080/"
        }
      },
      "source": [
        "from sklearn.linear_model import LogisticRegression\n",
        "\n",
        "model_logistic_regression = LogisticRegression()\n",
        "model_logistic_regression.fit(X, y)"
      ],
      "execution_count": 219,
      "outputs": [
        {
          "output_type": "execute_result",
          "data": {
            "text/plain": [
              "LogisticRegression(C=1.0, class_weight=None, dual=False, fit_intercept=True,\n",
              "                   intercept_scaling=1, l1_ratio=None, max_iter=100,\n",
              "                   multi_class='auto', n_jobs=None, penalty='l2',\n",
              "                   random_state=None, solver='lbfgs', tol=0.0001, verbose=0,\n",
              "                   warm_start=False)"
            ]
          },
          "metadata": {
            "tags": []
          },
          "execution_count": 219
        }
      ]
    },
    {
      "cell_type": "code",
      "metadata": {
        "id": "OIsUVGTjsKO5",
        "outputId": "80ec121c-e942-442a-ba73-e30bbeeea514",
        "colab": {
          "base_uri": "https://localhost:8080/"
        }
      },
      "source": [
        "num_err = np.sum(y != model.predict(X))\n",
        "print(\"Number of errors:\", num_err)"
      ],
      "execution_count": 184,
      "outputs": [
        {
          "output_type": "stream",
          "text": [
            "Number of errors: 0\n"
          ],
          "name": "stdout"
        }
      ]
    },
    {
      "cell_type": "markdown",
      "metadata": {
        "id": "aPpzJCN515hE"
      },
      "source": [
        "## Plot the classifier\n",
        "The code is borrowed from [here](https://github.com/Bourbon0212/DataCamp-Practice/blob/master/Python/Linear%20Classifiers%20in%20Python/Linear%20Classifiers%20in%20Python.Rmd)"
      ]
    },
    {
      "cell_type": "code",
      "metadata": {
        "id": "Mmwig9OB0rx7"
      },
      "source": [
        "# ```{r bound_plor, engine='python', echo = F}\n",
        "def make_meshgrid(x, y, h=.02, lims=None):\n",
        "    \"\"\"Create a mesh of points to plot in\n",
        "    Parameters\n",
        "    ----------\n",
        "    x: data to base x-axis meshgrid on\n",
        "    y: data to base y-axis meshgrid on\n",
        "    h: stepsize for meshgrid, optional\n",
        "    Returns\n",
        "    -------\n",
        "    xx, yy : ndarray\n",
        "    \"\"\"\n",
        "    if lims is None:\n",
        "        x_min, x_max = x.min() - 1, x.max() + 1\n",
        "        y_min, y_max = y.min() - 1, y.max() + 1\n",
        "    else:\n",
        "        x_min, x_max, y_min, y_max = lims\n",
        "    xx, yy = np.meshgrid(np.arange(x_min, x_max, h),\n",
        "                         np.arange(y_min, y_max, h))\n",
        "    return xx, yy\n",
        "    \n",
        "def plot_contours(ax, clf, xx, yy, proba=False, **params):\n",
        "    \"\"\"Plot the decision boundaries for a classifier.\n",
        "    Parameters\n",
        "    ----------\n",
        "    ax: matplotlib axes object\n",
        "    clf: a classifier\n",
        "    xx: meshgrid ndarray\n",
        "    yy: meshgrid ndarray\n",
        "    params: dictionary of params to pass to contourf, optional\n",
        "    \"\"\"\n",
        "    if proba:\n",
        "        Z = clf.predict_proba(np.c_[xx.ravel(), yy.ravel()])[:,-1]\n",
        "        Z = Z.reshape(xx.shape)\n",
        "        out = ax.imshow(Z,extent=(np.min(xx), np.max(xx), np.min(yy), np.max(yy)), origin='lower', vmin=0, vmax=1, **params)\n",
        "        ax.contour(xx, yy, Z, levels=[0.5])\n",
        "    else:\n",
        "        Z = clf.predict(np.c_[xx.ravel(), yy.ravel()])\n",
        "        Z = Z.reshape(xx.shape)\n",
        "        out = ax.contourf(xx, yy, Z, **params)\n",
        "    return out\n",
        "    \n",
        "def plot_classifier(X, y, clf, ax=None, ticks=False, proba=False, lims=None): # assumes classifier \"clf\" is already fit\n",
        "    X0, X1 = X[:, 0], X[:, 1]\n",
        "    xx, yy = make_meshgrid(X0, X1, lims=lims)\n",
        "    if ax is None:\n",
        "        plt.figure()\n",
        "        ax = plt.gca()\n",
        "        show = True\n",
        "    else:\n",
        "        show = False\n",
        "    # can abstract some of this into a higher-level function for learners to call\n",
        "    cs = plot_contours(ax, clf, xx, yy, cmap=plt.cm.coolwarm, alpha=0.8, proba=proba)\n",
        "    if proba:\n",
        "        cbar = plt.colorbar(cs)\n",
        "        cbar.ax.set_ylabel('probability of red $\\Delta$ class', fontsize=20, rotation=270, labelpad=30)\n",
        "        cbar.ax.tick_params(labelsize=14)\n",
        "    #ax.scatter(X0, X1, c=y, cmap=plt.cm.coolwarm, s=30, edgecolors='k', linewidth=1)\n",
        "    labels = np.unique(y)\n",
        "    if len(labels) == 2:\n",
        "        ax.scatter(X0[y==labels[0]], X1[y==labels[0]], cmap=plt.cm.coolwarm, s=60, c='b', marker='o', edgecolors='k')\n",
        "        ax.scatter(X0[y==labels[1]], X1[y==labels[1]], cmap=plt.cm.coolwarm, s=60, c='r', marker='^', edgecolors='k')\n",
        "    else:\n",
        "        ax.scatter(X0, X1, c=y, cmap=plt.cm.coolwarm, s=50, edgecolors='k', linewidth=1)\n",
        "    ax.set_xlim(xx.min(), xx.max())\n",
        "    ax.set_ylim(yy.min(), yy.max())\n",
        "#     ax.set_xlabel(data.feature_names[0])\n",
        "#     ax.set_ylabel(data.feature_names[1])\n",
        "    if ticks:\n",
        "        ax.set_xticks(())\n",
        "        ax.set_yticks(())\n",
        "#     ax.set_title(title)\n",
        "    if show:\n",
        "        plt.show()\n",
        "    else:\n",
        "        return ax"
      ],
      "execution_count": 217,
      "outputs": []
    },
    {
      "cell_type": "code",
      "metadata": {
        "id": "AXBTtLwV05kJ",
        "outputId": "7c2b6f46-489a-43cc-9e9a-6b1bbe71221d",
        "colab": {
          "base_uri": "https://localhost:8080/",
          "height": 265
        }
      },
      "source": [
        "plot_classifier(X, y, model_logistic_regression)"
      ],
      "execution_count": 231,
      "outputs": [
        {
          "output_type": "display_data",
          "data": {
            "image/png": "[encoded data removed]",
            "text/plain": [
              "<Figure size 432x288 with 1 Axes>"
            ]
          },
          "metadata": {
            "tags": [],
            "needs_background": "light"
          }
        }
      ]
    },
    {
      "cell_type": "markdown",
      "metadata": {
        "id": "GIf0CAvK3o4X"
      },
      "source": [
        "# Perceptron\n"
      ]
    },
    {
      "cell_type": "code",
      "metadata": {
        "id": "nQYFfh60kRYD"
      },
      "source": [
        "def perceptron(features, labels, num_iter):    \n",
        "    # set weights to ones\n",
        "    w = np.ones(shape=(1, features.shape[1]+1))\n",
        "    \n",
        "    misclassifieds = [] \n",
        "  \n",
        "    for epoch in range(num_iter):\n",
        "        misclassified = 0\n",
        "        for x, label in zip(features, labels):\n",
        "            x = np.insert(x,0,1)\n",
        "            y = np.dot(w, x.transpose())\n",
        "            target = 1.0 if (y > 0) else 0.0\n",
        "            \n",
        "            delta = (label.item(0) - target)\n",
        "            \n",
        "            if(delta): # misclassified\n",
        "                misclassified += 1\n",
        "                w += (delta * x)\n",
        "        \n",
        "        if misclassified == 0:\n",
        "          print(epoch, \"All correctly classified with weights\", w)\n",
        "          break\n",
        "\n",
        "        misclassifieds.append(misclassified)\n",
        "    return (w, misclassifieds)"
      ],
      "execution_count": 212,
      "outputs": []
    },
    {
      "cell_type": "code",
      "metadata": {
        "id": "5HOJJDdWlBMo",
        "outputId": "3dbf912f-ec2f-4c72-c328-8898e7f32166",
        "colab": {
          "base_uri": "https://localhost:8080/"
        }
      },
      "source": [
        "w, misclassifieds = perceptron(X, y, 500)\n"
      ],
      "execution_count": 213,
      "outputs": [
        {
          "output_type": "stream",
          "text": [
            "445 All correctly classified with weights [[-128.   11.   16.]]\n"
          ],
          "name": "stdout"
        }
      ]
    },
    {
      "cell_type": "markdown",
      "metadata": {
        "id": "yQBid-2p31TX"
      },
      "source": [
        "## Perceptron step\n",
        "This is a verbatim implementation of the algorithm from the text book Ertel (2017), \"Introduction to Artificial Intelligence\" (p. 185)."
      ]
    },
    {
      "cell_type": "code",
      "metadata": {
        "id": "MC1S8oFglLX4"
      },
      "source": [
        "w1 = np.array([1.0, 1.0])\n",
        "\n",
        "X1 = np.array([\n",
        "      [0, 1.8],\n",
        "      [2, 0.6],\n",
        "      [-1.2, 1.4],    \n",
        "      [0.4, -1]\n",
        "    ])\n",
        "y1 = np.array([1, 1, 0, 0])\n",
        "\n",
        "def perceptron_step(X, y, w):\n",
        "  misclassified = 0\n",
        "  for id in range(len(y)):\n",
        "    x = X[id]\n",
        "    wx = np.matmul(x, w)\n",
        "    # print(wx)\n",
        "    if y[id] == 1 and wx < 0:\n",
        "      # print(\"misclassified\", x, w)\n",
        "      w = w + x\n",
        "      print(\"positive correction\", w)\n",
        "      misclassified += 1\n",
        "    elif y[id] == 0 and wx > 0:\n",
        "      # print(\"misclassified\", x, w)\n",
        "      w = w - x\n",
        "      print(\"negative correction\", w)\n",
        "      misclassified += 1\n",
        "\n",
        "  if misclassified > 0:\n",
        "    print(\"misclassified:\", misclassified)\n",
        "  else:\n",
        "    print(\"All DONE\")\n",
        "    \n",
        "  return w"
      ],
      "execution_count": 241,
      "outputs": []
    },
    {
      "cell_type": "code",
      "metadata": {
        "id": "FzVFp3SB4UBr",
        "outputId": "b872bd3f-bf7b-4527-a337-4f1f8f6eaaa4",
        "colab": {
          "base_uri": "https://localhost:8080/"
        }
      },
      "source": [
        "w1 = perceptron_step(X1, y1, w1)\n",
        "w1"
      ],
      "execution_count": 243,
      "outputs": [
        {
          "output_type": "stream",
          "text": [
            "negative correction [1.4 1.6]\n",
            "misclassified: 1\n"
          ],
          "name": "stdout"
        },
        {
          "output_type": "execute_result",
          "data": {
            "text/plain": [
              "array([1.4, 1.6])"
            ]
          },
          "metadata": {
            "tags": []
          },
          "execution_count": 243
        }
      ]
    },
    {
      "cell_type": "code",
      "metadata": {
        "id": "hRnmQT9H4zwY",
        "outputId": "5d9b4b3f-93da-4ebc-b227-cd58735a6a76",
        "colab": {
          "base_uri": "https://localhost:8080/"
        }
      },
      "source": [
        "w1 = perceptron_step(X1, y1, w1)\n",
        "w1"
      ],
      "execution_count": 245,
      "outputs": [
        {
          "output_type": "stream",
          "text": [
            "All DONE\n"
          ],
          "name": "stdout"
        },
        {
          "output_type": "execute_result",
          "data": {
            "text/plain": [
              "array([2.2, 1.2])"
            ]
          },
          "metadata": {
            "tags": []
          },
          "execution_count": 245
        }
      ]
    }
  ]
}