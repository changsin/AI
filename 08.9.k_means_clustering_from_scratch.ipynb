{
  "nbformat": 4,
  "nbformat_minor": 0,
  "metadata": {
    "colab": {
      "name": "08.9.k_means_clustering_from_scratch.ipynb",
      "provenance": [],
      "toc_visible": true,
      "machine_shape": "hm",
      "authorship_tag": "ABX9TyONNE5BcFJJrP6MjgUWoD6O",
      "include_colab_link": true
    },
    "kernelspec": {
      "name": "python3",
      "display_name": "Python 3"
    },
    "language_info": {
      "name": "python"
    },
    "accelerator": "GPU"
  },
  "cells": [
    {
      "cell_type": "markdown",
      "metadata": {
        "id": "view-in-github",
        "colab_type": "text"
      },
      "source": [
        "<a href=\"https://colab.research.google.com/github/changsin/AI/blob/main/08.9.k_means_clustering_from_scratch.ipynb\" target=\"_parent\"><img src=\"https://colab.research.google.com/assets/colab-badge.svg\" alt=\"Open In Colab\"/></a>"
      ]
    },
    {
      "cell_type": "markdown",
      "metadata": {
        "id": "l3IR2E-4bPaO"
      },
      "source": [
        "# K-Means Clustering From Scratch\n",
        "K-Means clustering is an iterative method to find clusters based on distances from the center point of each cluster called 'centroids'.\n",
        "\n",
        "The algorithm is as follows:\n",
        "\n",
        "1. Pick two random points as the initial centroids.\n",
        "2. Put each data point to a cluster based on the distances between the centroids.\n",
        "3. For each cluster, calculate the real centroids.\n",
        "4. With the new centroids, regroup the points.\n",
        "5. If any point changed its cluster with the new centroids, repeat 3-5.\n",
        "6. If there is no change, you are done.\n",
        "\n",
        "The following code implements the above algorithm with visualizations."
      ]
    },
    {
      "cell_type": "markdown",
      "metadata": {
        "id": "nI8uYhqmP0vr"
      },
      "source": [
        "## 1. Generate sample points data\n",
        "\n",
        "Intentionally create two sets of data points: between 0-5 and 6-10. We expect there should be two natural clusters."
      ]
    },
    {
      "cell_type": "code",
      "metadata": {
        "id": "-VQjTgnlnvvJ",
        "colab": {
          "base_uri": "https://localhost:8080/"
        },
        "outputId": "499bb7d0-0ba9-44ac-cead-d2dba2d62200"
      },
      "source": [
        "import numpy as np\n",
        "\n",
        "def gen_random_points(start, end, size):\n",
        "  points = []\n",
        "\n",
        "  while len(points) < size[0]:\n",
        "    pt = np.random.randint(start, end, size=(1, size[1]))[0].tolist()\n",
        "\n",
        "    # check for duplicates\n",
        "    if pt in points:\n",
        "      continue\n",
        "\n",
        "    points.append(pt)\n",
        "\n",
        "  return np.array(points)   \n",
        "\n",
        "data1 = gen_random_points(0, 5, size=(5, 2))\n",
        "data1\n",
        "data2 = gen_random_points(6, 10, size=(5, 2))\n",
        "data2\n",
        "\n",
        "data = np.vstack((data1, data2))\n",
        "print(data)"
      ],
      "execution_count": 188,
      "outputs": [
        {
          "output_type": "stream",
          "text": [
            "[[4 3]\n",
            " [2 1]\n",
            " [0 3]\n",
            " [4 2]\n",
            " [4 0]\n",
            " [9 8]\n",
            " [7 9]\n",
            " [9 6]\n",
            " [7 8]\n",
            " [7 6]]\n"
          ],
          "name": "stdout"
        }
      ]
    },
    {
      "cell_type": "markdown",
      "metadata": {
        "id": "88dQMbG3RwAz"
      },
      "source": [
        "## 2. Pick random points as centroids"
      ]
    },
    {
      "cell_type": "code",
      "metadata": {
        "id": "4OJOoeLsrk9H",
        "colab": {
          "base_uri": "https://localhost:8080/"
        },
        "outputId": "21a81ed2-9d8b-4270-c5f6-94ae87e8ddcf"
      },
      "source": [
        "centroids = gen_random_points(0, 10, size=(2, 2))\n",
        "centroids"
      ],
      "execution_count": 189,
      "outputs": [
        {
          "output_type": "execute_result",
          "data": {
            "text/plain": [
              "array([[7, 6],\n",
              "       [1, 3]])"
            ]
          },
          "metadata": {},
          "execution_count": 189
        }
      ]
    },
    {
      "cell_type": "markdown",
      "metadata": {
        "id": "4GFdkQuvR7xp"
      },
      "source": [
        "## 3. Cluster data points based on distances to the centroids\n",
        "To visualize the clustering process better, let's draw a middle line between two centroids which will be the dividing line between two clusters. Below is the formula to draw the dividing line. "
      ]
    },
    {
      "cell_type": "markdown",
      "metadata": {
        "id": "HZIQZikCSibq"
      },
      "source": [
        "- Calculate the median point between the two centroids"
      ]
    },
    {
      "cell_type": "code",
      "metadata": {
        "id": "iYdnf7g_s-kf"
      },
      "source": [
        "def calc_midpoint(p1, p2):\n",
        "  return (p1[0] + p2[0])/2, (p1[1] + p2[1])/2"
      ],
      "execution_count": 190,
      "outputs": []
    },
    {
      "cell_type": "markdown",
      "metadata": {
        "id": "oq4cy--yStpc"
      },
      "source": [
        "- Some geometry methods to calculate the slope and y intercept of the dividing line.\n",
        " \n",
        " $$ y = sx + c $$\n",
        "\n",
        "s is the slope and calculated with\n",
        "- $ s = \\frac{\\text{x change}}{\\text{y change}} $\n",
        "\n",
        "c is the y-intercept\n",
        "- $ c = y - sx $\n",
        "\n",
        "The dividing line will be perpendicular to the line connecting two centroids so we will first come up with the connecting line formula and from there, we will calculate the perpendicular line passing through the median point of the two centroids.\n",
        "\n",
        "So the dividing line will be\n",
        "\n",
        "$$ y = mx + b $$\n",
        "\n",
        "where\n",
        "- $ m = \\Large{ -\\frac{1}{s}} $\n",
        "- $ b = y - mx $"
      ]
    },
    {
      "cell_type": "code",
      "metadata": {
        "id": "I3BFYlfjH3VU"
      },
      "source": [
        "def get_slope(pt1, pt2):\n",
        "  \"\"\"\n",
        "  calculates the slope given two points\n",
        "  \"\"\"\n",
        "  denominator = pt1[0] - pt2[0]\n",
        "  numerator = pt1[1] - pt2[1]\n",
        "\n",
        "  if denominator != 0:\n",
        "    return float(numerator/denominator)\n",
        "\n",
        "  # this can happen when there is no y-change: i.e., a constant vertical line\n",
        "  print(\"divide by zero error {} {}\".format(pt1, pt2))\n",
        "  return pt1[0]\n",
        "\n",
        "def get_y_int(pt, m):\n",
        "  \"\"\"\n",
        "  calculates the y-intercept given a point and the slope\n",
        "  \"\"\"\n",
        "  return pt[1] - m * pt[0]"
      ],
      "execution_count": 191,
      "outputs": []
    },
    {
      "cell_type": "markdown",
      "metadata": {
        "id": "-hP5s3upVbn9"
      },
      "source": [
        "Let's now use the above methods to calculate the line formula for the dividing line."
      ]
    },
    {
      "cell_type": "code",
      "metadata": {
        "id": "mMxK-xaKzne4"
      },
      "source": [
        "def calc_dividing_line(pt1, pt2):\n",
        "  n = get_slope(pt1, pt2)\n",
        "  c = get_y_int(pt2, n)\n",
        "\n",
        "  m = -1/n\n",
        "  mid = calc_midpoint(pt1, pt2)\n",
        "  b = get_y_int(mid, m)\n",
        "\n",
        "  return m, b"
      ],
      "execution_count": 192,
      "outputs": []
    },
    {
      "cell_type": "code",
      "metadata": {
        "colab": {
          "base_uri": "https://localhost:8080/"
        },
        "id": "6YZk2P8a1no9",
        "outputId": "703bc632-1709-4c50-8fac-e9f395493dc7"
      },
      "source": [
        "a = [3, 5, 2, 1]\n",
        "b = [5, 3, 1, 2]\n",
        "a.sort() == b.sort()"
      ],
      "execution_count": 193,
      "outputs": [
        {
          "output_type": "execute_result",
          "data": {
            "text/plain": [
              "True"
            ]
          },
          "metadata": {},
          "execution_count": 193
        }
      ]
    },
    {
      "cell_type": "code",
      "metadata": {
        "id": "sjnpT9AfUdcz"
      },
      "source": [
        "def cluster_two(points, m, b):\n",
        "  \"\"\"\n",
        "  Clusters each point given the diving line formula\n",
        "  \"\"\"\n",
        "  cluster1 = []\n",
        "  cluster2 = []\n",
        "  # for each point, check if it's above and below the line\n",
        "  for pt in points:\n",
        "    x, y = pt\n",
        "    y1 = m*x + b\n",
        "\n",
        "    if y1 > y:\n",
        "      print(\"x, y is cluster1\", x, y, \"y1\", y1)\n",
        "      cluster1.append(pt)\n",
        "    else:\n",
        "      print(\"x, y is cluster2\", x, y, \"y1\", y1)\n",
        "      cluster2.append(pt)\n",
        "\n",
        "  clusters = dict()\n",
        "  # sort the points array first by x-value then y-value\n",
        "  clusters[0] = np.array(sorted(cluster1, key=lambda k: [k[0], k[1]]))\n",
        "  clusters[1] = np.array(sorted(cluster2, key=lambda k: [k[0], k[1]]))\n",
        "\n",
        "  return clusters"
      ],
      "execution_count": 194,
      "outputs": []
    },
    {
      "cell_type": "code",
      "metadata": {
        "id": "PiKwVnIZ5I8L"
      },
      "source": [
        "def distance_euc(pt1, pt2):\n",
        "  \"\"\"\n",
        "  calculates the Euclidean distance between the two points\n",
        "  \"\"\"\n",
        "  x1, y1 = pt1\n",
        "  x2, y2 = pt2\n",
        "  return ((((x2 - x1 )**2) + ((y2 - y1)**2) )**0.5)\n",
        "\n",
        "def calc_distances(pt, centroids):\n",
        "  distances = []\n",
        "  for centroid in centroids:\n",
        "    distances.append(distance_euc(pt, centroid))\n",
        "  \n",
        "  return distances\n",
        "\n",
        "def cluster_with_distance(data, centroids):\n",
        "  clusters = {}\n",
        "\n",
        "  for pt in data:\n",
        "    distances = calc_distances(pt, centroids)\n",
        "    # print(distances)\n",
        "    id = np.argmin(distances)\n",
        "\n",
        "    if id in clusters.keys():\n",
        "      clusters[id].append(pt.tolist())\n",
        "    else:\n",
        "      clusters[id] = [pt.tolist()]\n",
        "\n",
        "  for id, vals in clusters.items():\n",
        "    clusters[id] = np.array(sorted(clusters[id], key=lambda k: [k[0], k[1]]))\n",
        "\n",
        "  return clusters"
      ],
      "execution_count": 215,
      "outputs": []
    },
    {
      "cell_type": "code",
      "metadata": {
        "id": "c4QTGV90dQ3x"
      },
      "source": [
        "def cluster_with_centroids(data, centroids, use_distance=False):\n",
        "  m, b = calc_dividing_line(centroids[0], centroids[1])\n",
        "  y1 = m*x1 + b\n",
        "\n",
        "  if use_distance:\n",
        "    clusters = cluster_with_distance(data, centroids)\n",
        "  else:\n",
        "    clusters = cluster_two(data, m, b)\n",
        "\n",
        "  return clusters, m, b"
      ],
      "execution_count": 216,
      "outputs": []
    },
    {
      "cell_type": "code",
      "metadata": {
        "id": "XfA7y9wE7ov-",
        "outputId": "1a23f96c-23a4-47ca-842c-a6ef8b261608",
        "colab": {
          "base_uri": "https://localhost:8080/"
        }
      },
      "source": [
        "clusters, m, b = cluster_with_centroids(data, centroids)\n",
        "clusters"
      ],
      "execution_count": 217,
      "outputs": [
        {
          "output_type": "stream",
          "text": [
            "x, y is cluster1 3 3 y1 3.9054878048780486\n",
            "x, y is cluster1 2 4 y1 4.515243902439024\n",
            "x, y is cluster1 3 1 y1 3.9054878048780486\n",
            "x, y is cluster1 1 1 y1 5.125\n",
            "x, y is cluster1 0 4 y1 5.734756097560975\n",
            "x, y is cluster2 8 8 y1 0.8567073170731705\n",
            "x, y is cluster2 9 7 y1 0.24695121951219523\n",
            "x, y is cluster2 6 9 y1 2.076219512195122\n",
            "x, y is cluster2 6 7 y1 2.076219512195122\n",
            "x, y is cluster2 7 7 y1 1.4664634146341458\n"
          ],
          "name": "stdout"
        },
        {
          "output_type": "execute_result",
          "data": {
            "text/plain": [
              "{0: array([[0, 4],\n",
              "        [1, 1],\n",
              "        [2, 4],\n",
              "        [3, 1],\n",
              "        [3, 3]]), 1: array([[6, 7],\n",
              "        [6, 9],\n",
              "        [7, 7],\n",
              "        [8, 8],\n",
              "        [9, 7]])}"
            ]
          },
          "metadata": {},
          "execution_count": 217
        }
      ]
    },
    {
      "cell_type": "code",
      "metadata": {
        "id": "EE-7RrrD7uEc",
        "outputId": "2533ea51-83c0-4801-cb96-8942d5907c65",
        "colab": {
          "base_uri": "https://localhost:8080/"
        }
      },
      "source": [
        "clusters_dist, m, b = cluster_with_centroids(data, centroids, use_distance=True)\n",
        "clusters_dist"
      ],
      "execution_count": 218,
      "outputs": [
        {
          "output_type": "execute_result",
          "data": {
            "text/plain": [
              "{0: array([[0, 4],\n",
              "        [1, 1],\n",
              "        [2, 4],\n",
              "        [3, 1],\n",
              "        [3, 3]]), 1: array([[6, 7],\n",
              "        [6, 9],\n",
              "        [7, 7],\n",
              "        [8, 8],\n",
              "        [9, 7]])}"
            ]
          },
          "metadata": {},
          "execution_count": 218
        }
      ]
    },
    {
      "cell_type": "markdown",
      "metadata": {
        "id": "9MRqxXTTwYB-"
      },
      "source": [
        "- Let's generate x coordinates for plotting a line graph."
      ]
    },
    {
      "cell_type": "code",
      "metadata": {
        "id": "_BiwzXX4JCkT"
      },
      "source": [
        "x1 = np.linspace(0, 10, 100)\n"
      ],
      "execution_count": 199,
      "outputs": []
    },
    {
      "cell_type": "markdown",
      "metadata": {
        "id": "83DxjZDdV0FZ"
      },
      "source": [
        "### Cluster\n",
        "For each point, we can calculate the distances and decide the proper cluster, but this is equivalent to drawing a dividing line and checking if it is above or below the line. Let's use the latter method to make visualization easier."
      ]
    },
    {
      "cell_type": "code",
      "metadata": {
        "id": "q1QISVi6B1Gz"
      },
      "source": [
        "data = np.array([[3, 3],\n",
        "       [2, 4],\n",
        "       [3, 1],\n",
        "       [1, 1],\n",
        "       [0, 4],\n",
        "       [8, 8],\n",
        "       [9, 7],\n",
        "       [6, 9],\n",
        "       [6, 7],\n",
        "       [7, 7]])"
      ],
      "execution_count": 200,
      "outputs": []
    },
    {
      "cell_type": "code",
      "metadata": {
        "id": "4gKWMBvlB9J0"
      },
      "source": [
        "centroids = np.array([[4, 0],\n",
        "       [1, 5]])"
      ],
      "execution_count": 201,
      "outputs": []
    },
    {
      "cell_type": "code",
      "metadata": {
        "id": "-9qmladrZ_JK",
        "colab": {
          "base_uri": "https://localhost:8080/"
        },
        "outputId": "0e00f313-aa83-4615-c4ce-9a7a510374f5"
      },
      "source": [
        "clusters, m, b = cluster_with_centroids(data, centroids)"
      ],
      "execution_count": 202,
      "outputs": [
        {
          "output_type": "stream",
          "text": [
            "x, y is cluster2 3 3 y1 2.8\n",
            "x, y is cluster2 2 4 y1 2.2\n",
            "x, y is cluster1 3 1 y1 2.8\n",
            "x, y is cluster1 1 1 y1 1.6\n",
            "x, y is cluster2 0 4 y1 1.0\n",
            "x, y is cluster2 8 8 y1 5.8\n",
            "x, y is cluster2 9 7 y1 6.3999999999999995\n",
            "x, y is cluster2 6 9 y1 4.6\n",
            "x, y is cluster2 6 7 y1 4.6\n",
            "x, y is cluster2 7 7 y1 5.2\n"
          ],
          "name": "stdout"
        }
      ]
    },
    {
      "cell_type": "markdown",
      "metadata": {
        "id": "29xAAqFYVl1L"
      },
      "source": [
        "### Plot\n",
        "Now let's plot."
      ]
    },
    {
      "cell_type": "code",
      "metadata": {
        "id": "6I8n-NldoWEV"
      },
      "source": [
        "import matplotlib.pyplot as plt\n",
        "\n",
        "def plot_data(data, ax=None, label='+'):\n",
        "  if not ax:\n",
        "    fig, ax = plt.subplots()\n",
        "  \n",
        "  ax.plot(data[:, 0], data[:, 1], marker='o', linestyle='', ms=12, label=label)\n",
        "\n",
        "  return ax"
      ],
      "execution_count": 203,
      "outputs": []
    },
    {
      "cell_type": "code",
      "metadata": {
        "id": "QQFOqwLlLBVY",
        "outputId": "5653e3ff-a09c-46d2-d343-af66bd82c062",
        "colab": {
          "base_uri": "https://localhost:8080/",
          "height": 0
        }
      },
      "source": [
        "ax1 = plot_data(data)\n",
        "ax1.scatter(centroids[:, 0], centroids[:, 1], color='red')"
      ],
      "execution_count": 204,
      "outputs": [
        {
          "output_type": "execute_result",
          "data": {
            "text/plain": [
              "<matplotlib.collections.PathCollection at 0x7f0416904d10>"
            ]
          },
          "metadata": {},
          "execution_count": 204
        },
        {
          "output_type": "display_data",
          "data": {
            "image/png": "[encoded data removed]",
            "text/plain": [
              "<Figure size 432x288 with 1 Axes>"
            ]
          },
          "metadata": {
            "needs_background": "light"
          }
        }
      ]
    },
    {
      "cell_type": "code",
      "metadata": {
        "id": "oB5wQgcYr-XU"
      },
      "source": [
        "def plot_clusters_with_line(clusters, centroids, x1, m, b):\n",
        "  fig, ax = plt.subplots()\n",
        "  for id, cluster in clusters.items():\n",
        "    ax = plot_data(cluster, ax=ax)\n",
        "\n",
        "  ax.scatter(centroids[:, 0], centroids[:, 1], color='red')\n",
        "\n",
        "  mid = calc_midpoint(centroids[0], centroids[1])\n",
        "  ax.scatter(mid[0], mid[1], color='orange')\n",
        "\n",
        "  y1 = m*x1 + b\n",
        "  ax.plot(x1, y1, 'g', label='y=wx+b')"
      ],
      "execution_count": 205,
      "outputs": []
    },
    {
      "cell_type": "code",
      "metadata": {
        "id": "arkbBH4GbYxz",
        "colab": {
          "base_uri": "https://localhost:8080/",
          "height": 0
        },
        "outputId": "03ffa7a3-267c-45dd-bb37-c5d6875dd712"
      },
      "source": [
        "plot_clusters_with_line(clusters, centroids, x1, m, b)"
      ],
      "execution_count": 206,
      "outputs": [
        {
          "output_type": "display_data",
          "data": {
            "image/png": "[encoded data removed]",
            "text/plain": [
              "<Figure size 432x288 with 1 Axes>"
            ]
          },
          "metadata": {
            "needs_background": "light"
          }
        }
      ]
    },
    {
      "cell_type": "markdown",
      "metadata": {
        "id": "mIb5HEm7Vupq"
      },
      "source": [
        "Obviously, the clustering is not what we expect so more iterations are needed."
      ]
    },
    {
      "cell_type": "markdown",
      "metadata": {
        "id": "40AnKfEzXwMi"
      },
      "source": [
        "## 4. Recalculate the centroids\n",
        "First we need to calculate the centroids again based on the cluster results."
      ]
    },
    {
      "cell_type": "code",
      "metadata": {
        "id": "NEulJf9Em1H7"
      },
      "source": [
        "def calculate_centroids(clusters):\n",
        "  \"\"\"\n",
        "  Re-calculate the centroids\n",
        "  \"\"\"\n",
        "  def _centroidnp(arr):\n",
        "      length = arr.shape[0]\n",
        "      sum_x = np.sum(arr[:, 0])\n",
        "      sum_y = np.sum(arr[:, 1])\n",
        "      return np.array([float(sum_x/length), float(sum_y/length)])\n",
        "\n",
        "  centroids = []\n",
        "  for id, points in clusters.items():\n",
        "    centroid = _centroidnp(points)\n",
        "    centroids.append(centroid)\n",
        "\n",
        "  return np.array(centroids)"
      ],
      "execution_count": 207,
      "outputs": []
    },
    {
      "cell_type": "markdown",
      "metadata": {
        "id": "ENhzUnd4ys8W"
      },
      "source": [
        "## 5. Iterate till there is no reclustering\n",
        "Then loop till there is no more re-clustering."
      ]
    },
    {
      "cell_type": "code",
      "metadata": {
        "id": "s2Ze421KXrlC",
        "colab": {
          "base_uri": "https://localhost:8080/"
        },
        "outputId": "4cdd03f2-7a5d-4eb0-c7f3-2e49606d3b08"
      },
      "source": [
        "def cluster_equals(cl1, cl2):\n",
        "  \"\"\"\n",
        "  Check if the two clusters are equal\n",
        "  \"\"\"\n",
        "  if cl1.keys() != cl2.keys():\n",
        "    return False\n",
        "\n",
        "  for key1, vals1 in cl1.items():\n",
        "    if key1 not in cl2.keys():\n",
        "      return False\n",
        "    vals2 = cl2[key1]\n",
        "    if vals1.tolist() != vals2.tolist():\n",
        "      return False\n",
        "\n",
        "  return True\n",
        "\n",
        "cluster_equals(clusters, clusters)"
      ],
      "execution_count": 208,
      "outputs": [
        {
          "output_type": "execute_result",
          "data": {
            "text/plain": [
              "True"
            ]
          },
          "metadata": {},
          "execution_count": 208
        }
      ]
    },
    {
      "cell_type": "code",
      "metadata": {
        "colab": {
          "base_uri": "https://localhost:8080/"
        },
        "id": "qRMShZdi9ann",
        "outputId": "589d8562-eca2-4ad6-b1b9-a12294464dce"
      },
      "source": [
        "clusters"
      ],
      "execution_count": 209,
      "outputs": [
        {
          "output_type": "execute_result",
          "data": {
            "text/plain": [
              "{0: array([[1, 1],\n",
              "        [3, 1]]), 1: array([[0, 4],\n",
              "        [2, 4],\n",
              "        [3, 3],\n",
              "        [6, 7],\n",
              "        [6, 9],\n",
              "        [7, 7],\n",
              "        [8, 8],\n",
              "        [9, 7]])}"
            ]
          },
          "metadata": {},
          "execution_count": 209
        }
      ]
    },
    {
      "cell_type": "code",
      "metadata": {
        "colab": {
          "base_uri": "https://localhost:8080/",
          "height": 0
        },
        "id": "13jK7QHI3y1H",
        "outputId": "37f8df27-6953-47fd-acac-5a1191d80c66"
      },
      "source": [
        "# calculate new centroids\n",
        "centroids_new = calculate_centroids(clusters)\n",
        "clusters_new, m_new, b_new = cluster_with_centroids(data, centroids_new)\n",
        "plot_clusters_with_line(clusters_new, centroids_new, x1, m_new, b_new)\n"
      ],
      "execution_count": 210,
      "outputs": [
        {
          "output_type": "stream",
          "text": [
            "x, y is cluster1 3 3 y1 3.9054878048780486\n",
            "x, y is cluster1 2 4 y1 4.515243902439024\n",
            "x, y is cluster1 3 1 y1 3.9054878048780486\n",
            "x, y is cluster1 1 1 y1 5.125\n",
            "x, y is cluster1 0 4 y1 5.734756097560975\n",
            "x, y is cluster2 8 8 y1 0.8567073170731705\n",
            "x, y is cluster2 9 7 y1 0.24695121951219523\n",
            "x, y is cluster2 6 9 y1 2.076219512195122\n",
            "x, y is cluster2 6 7 y1 2.076219512195122\n",
            "x, y is cluster2 7 7 y1 1.4664634146341458\n"
          ],
          "name": "stdout"
        },
        {
          "output_type": "display_data",
          "data": {
            "image/png": "[encoded data removed]",
            "text/plain": [
              "<Figure size 432x288 with 1 Axes>"
            ]
          },
          "metadata": {
            "needs_background": "light"
          }
        }
      ]
    },
    {
      "cell_type": "code",
      "metadata": {
        "colab": {
          "base_uri": "https://localhost:8080/",
          "height": 0
        },
        "id": "tvpnOq4x9s8f",
        "outputId": "02a73f34-1070-4765-b34d-3ce929604a00"
      },
      "source": [
        "# we can check either centroids or clusters equality\n",
        "while not cluster_equals(clusters, clusters_new):\n",
        "  clusters = clusters_new\n",
        "  centroids = centroids_new\n",
        "\n",
        "  print(\"Calculating centroids and clustering again\")\n",
        "  # calculate new centroids\n",
        "  centroids_new = calculate_centroids(clusters)\n",
        "  clusters_new, m, b = cluster_with_centroids(data, centroids_new)\n",
        "  plot_clusters_with_line(clusters_new, centroids_new, x1, m, b)\n",
        "\n",
        "print(\"Clustering is finished\")"
      ],
      "execution_count": 211,
      "outputs": [
        {
          "output_type": "stream",
          "text": [
            "Calculating centroids and clustering again\n",
            "x, y is cluster1 3 3 y1 6.720000000000001\n",
            "x, y is cluster1 2 4 y1 7.800000000000001\n",
            "x, y is cluster1 3 1 y1 6.720000000000001\n",
            "x, y is cluster1 1 1 y1 8.88\n",
            "x, y is cluster1 0 4 y1 9.96\n",
            "x, y is cluster2 8 8 y1 1.3200000000000003\n",
            "x, y is cluster2 9 7 y1 0.2400000000000002\n",
            "x, y is cluster2 6 9 y1 3.4800000000000004\n",
            "x, y is cluster2 6 7 y1 3.4800000000000004\n",
            "x, y is cluster2 7 7 y1 2.4000000000000004\n",
            "Clustering is finished\n"
          ],
          "name": "stdout"
        },
        {
          "output_type": "display_data",
          "data": {
            "image/png": "[encoded data removed]",
            "text/plain": [
              "<Figure size 432x288 with 1 Axes>"
            ]
          },
          "metadata": {
            "needs_background": "light"
          }
        }
      ]
    },
    {
      "cell_type": "code",
      "metadata": {
        "colab": {
          "base_uri": "https://localhost:8080/"
        },
        "id": "BBeCXA5GAdKt",
        "outputId": "bb800c95-7399-477b-c0fb-0de611bdaef7"
      },
      "source": [
        "centroids_new"
      ],
      "execution_count": 212,
      "outputs": [
        {
          "output_type": "execute_result",
          "data": {
            "text/plain": [
              "array([[1.8, 2.6],\n",
              "       [7.2, 7.6]])"
            ]
          },
          "metadata": {},
          "execution_count": 212
        }
      ]
    },
    {
      "cell_type": "markdown",
      "metadata": {
        "id": "nPkN8gQxBWtl"
      },
      "source": [
        "## Verify\n",
        "\n",
        "Let's check if our answers are correct against the sklearn library's KMeans clustering algorithm. Voila! The answers match exactly. Woohoo!"
      ]
    },
    {
      "cell_type": "code",
      "metadata": {
        "id": "OpIagjAfAgem"
      },
      "source": [
        "from sklearn.cluster import KMeans\n",
        "\n",
        "sk_kmeans = KMeans(n_clusters=2, random_state=0)\n",
        "sk_clusters = sk_kmeans.fit(data)"
      ],
      "execution_count": 213,
      "outputs": []
    },
    {
      "cell_type": "code",
      "metadata": {
        "colab": {
          "base_uri": "https://localhost:8080/"
        },
        "id": "4XSwqLvoA9Sb",
        "outputId": "c7866bd0-ea7c-4f10-a235-847342d87bf9"
      },
      "source": [
        "sk_clusters.cluster_centers_"
      ],
      "execution_count": 214,
      "outputs": [
        {
          "output_type": "execute_result",
          "data": {
            "text/plain": [
              "array([[1.8, 2.6],\n",
              "       [7.2, 7.6]])"
            ]
          },
          "metadata": {},
          "execution_count": 214
        }
      ]
    },
    {
      "cell_type": "code",
      "metadata": {
        "id": "_MrfQ3ySBDGU"
      },
      "source": [
        ""
      ],
      "execution_count": 214,
      "outputs": []
    }
  ]
}