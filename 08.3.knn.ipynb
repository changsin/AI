{
  "nbformat": 4,
  "nbformat_minor": 0,
  "metadata": {
    "colab": {
      "name": "Welcome To Colaboratory",
      "provenance": [],
      "collapsed_sections": [],
      "toc_visible": true,
      "include_colab_link": true
    },
    "kernelspec": {
      "display_name": "Python 3",
      "name": "python3"
    }
  },
  "cells": [
    {
      "cell_type": "markdown",
      "metadata": {
        "id": "view-in-github",
        "colab_type": "text"
      },
      "source": [
        "<a href=\"https://colab.research.google.com/github/changsin/AI/blob/main/08.3.knn.ipynb\" target=\"_parent\"><img src=\"https://colab.research.google.com/assets/colab-badge.svg\" alt=\"Open In Colab\"/></a>"
      ]
    },
    {
      "cell_type": "markdown",
      "metadata": {
        "id": "HclJutxS2bYj"
      },
      "source": [
        "# Create input data"
      ]
    },
    {
      "cell_type": "code",
      "metadata": {
        "id": "fjvBgtMCkZh6"
      },
      "source": [
        "import numpy as np\n",
        "import matplotlib.pyplot as plt\n",
        "\n",
        "X = np.array([\n",
        "      [6., 1.],\n",
        "      [7., 3.],\n",
        "      [8., 2.],    \n",
        "      [9., 0.],\n",
        "      [8., 4.],\n",
        "      [8., 6.],\n",
        "      [9., 2.],    \n",
        "      [9., 5.]\n",
        "    ])\n",
        "y = np.array([0, 0, 0, 0, 1, 1, 1, 1])"
      ],
      "execution_count": null,
      "outputs": []
    },
    {
      "cell_type": "markdown",
      "metadata": {
        "id": "xPlVsETQ2jxV"
      },
      "source": [
        "# Plot the data\n",
        "Also do some initial plot fitting"
      ]
    },
    {
      "cell_type": "markdown",
      "metadata": {
        "id": "_2tAxULBMB-j"
      },
      "source": [
        "## polyfit plotting"
      ]
    },
    {
      "cell_type": "code",
      "metadata": {
        "id": "isOS90m3VTxr",
        "colab": {
          "base_uri": "https://localhost:8080/",
          "height": 282
        },
        "outputId": "09694817-b896-4383-aa68-37ebf8c5eece"
      },
      "source": [
        "import numpy as np\n",
        "import matplotlib.pyplot as plt\n",
        "\n",
        "def plot_data(X, y):\n",
        "  positives = X[y == 1]\n",
        "  negatives = X[y == 0]\n",
        "\n",
        "  fig, ax = plt.subplots()\n",
        "  ax.plot(positives[:, 0], positives[:, 1], marker='o', linestyle='', ms=12, label='+')\n",
        "  ax.plot(negatives[:, 0], negatives[:, 1], marker='o', linestyle='', ms=12, label='-')\n",
        "\n",
        "  ax.legend()\n",
        "  return ax\n",
        "\n",
        "x1 = np.linspace(0, 10, 100)\n",
        "y1 = -1.5*x1 + 15\n",
        "\n",
        "# fig1, ax1 = plt.subplots()\n",
        "ax1 = plot_data(X, y)\n",
        "ax1.plot(x1, y1, 'g', label='y=wx+b')\n"
      ],
      "execution_count": null,
      "outputs": [
        {
          "output_type": "execute_result",
          "data": {
            "text/plain": [
              "[<matplotlib.lines.Line2D at 0x7fbc8e55c890>]"
            ]
          },
          "metadata": {
            "tags": []
          },
          "execution_count": 22
        },
        {
          "output_type": "display_data",
          "data": {
            "image/png": "[encoded data removed]",
            "text/plain": [
              "<Figure size 432x288 with 1 Axes>"
            ]
          },
          "metadata": {
            "tags": [],
            "needs_background": "light"
          }
        }
      ]
    },
    {
      "cell_type": "markdown",
      "metadata": {
        "id": "yXTxhMyar1YK"
      },
      "source": [
        "# Exercise 8.7\n",
        "\n",
        "Let the table with training data from Exercise 8.4 be given. In the following, use the Manhattan distance d(a, b), defined as d(a, b) = |a1 − b1| + |a2 − b2|, to determine the distance d between two data points a = (a1, a2) and b = (b1, b2).\n",
        "\n",
        "- (a) Classify the vector v = (8, 3.5) with the nearest neighbor method.\n",
        "\n",
        "- (b) Classify the vector v = (8, 3.5) with the k nearest neighbor method for\n",
        "k = 2,3,5."
      ]
    },
    {
      "cell_type": "markdown",
      "metadata": {
        "id": "QjrpuFzRvFcW"
      },
      "source": [
        "## First, define the vector v = (8, 3.5)"
      ]
    },
    {
      "cell_type": "code",
      "metadata": {
        "id": "dRH5vnVFRe0x"
      },
      "source": [
        "v = np.array([8., 3.5])"
      ],
      "execution_count": null,
      "outputs": []
    },
    {
      "cell_type": "code",
      "metadata": {
        "id": "xNXkEU2ytYMC",
        "colab": {
          "base_uri": "https://localhost:8080/"
        },
        "outputId": "4207241b-7ca7-4fea-fa40-c009c98c0df5"
      },
      "source": [
        "X"
      ],
      "execution_count": null,
      "outputs": [
        {
          "output_type": "execute_result",
          "data": {
            "text/plain": [
              "array([[6., 1.],\n",
              "       [7., 3.],\n",
              "       [8., 2.],\n",
              "       [9., 0.],\n",
              "       [8., 4.],\n",
              "       [8., 6.],\n",
              "       [9., 2.],\n",
              "       [9., 5.]])"
            ]
          },
          "metadata": {
            "tags": []
          },
          "execution_count": 5
        }
      ]
    },
    {
      "cell_type": "markdown",
      "metadata": {
        "id": "seaWa0RAvUO2"
      },
      "source": [
        "### Get distance for all points\n",
        "Use the Manhattan distance to calculate the distance for each point from the specified v point."
      ]
    },
    {
      "cell_type": "code",
      "metadata": {
        "id": "RcrbuE5DsoWL"
      },
      "source": [
        "def get_distance(X, v):\n",
        "  return [ abs(x[0] - v[0]) + abs(x[1] - v[1]) for x in X]"
      ],
      "execution_count": null,
      "outputs": []
    },
    {
      "cell_type": "code",
      "metadata": {
        "id": "VcjDNN2jtPj-",
        "colab": {
          "base_uri": "https://localhost:8080/"
        },
        "outputId": "3c4487aa-e3eb-4ecb-d5fd-8298b78926a0"
      },
      "source": [
        "ds = get_distance(X, v)\n",
        "ds"
      ],
      "execution_count": null,
      "outputs": [
        {
          "output_type": "execute_result",
          "data": {
            "text/plain": [
              "[4.5, 1.5, 1.5, 4.5, 0.5, 2.5, 2.5, 2.5]"
            ]
          },
          "metadata": {
            "tags": []
          },
          "execution_count": 25
        }
      ]
    },
    {
      "cell_type": "markdown",
      "metadata": {
        "id": "Ie_vtIWDvhym"
      },
      "source": [
        "### Get the nearest point\n",
        "The nearest point is the fifth point (index 4): (8, 4). Its distance is 0.5 from v = (8, 3.5). This can be visually seen as well: v = (8, 3.5) is closest to (8, 4). It belong to the positive class (class 1) and thus if k = 1 is used, v will belong to the positive class."
      ]
    },
    {
      "cell_type": "code",
      "metadata": {
        "id": "dsxAlDKayiKE",
        "colab": {
          "base_uri": "https://localhost:8080/"
        },
        "outputId": "cea40099-5428-4fe4-8eb7-4019d49f6605"
      },
      "source": [
        "print(\"The closest point to {} is: {} {} with the distance {}\".format(v,\n",
        "                                                          np.argmin(ds),\n",
        "                                                          X[np.argmin(ds)],\n",
        "                                                          np.min(ds)))\n",
        "print(\"The class it belongs to is {}\".format(y[np.argmin(ds)]))"
      ],
      "execution_count": null,
      "outputs": [
        {
          "output_type": "stream",
          "text": [
            "The closest point to [8.  3.5] is: 4 [8. 4.] with the distance 0.5\n"
          ],
          "name": "stdout"
        }
      ]
    },
    {
      "cell_type": "markdown",
      "metadata": {
        "id": "VAR5a4O2vnXG"
      },
      "source": [
        "## Plot the data\n",
        "The red dot is the vector to be classified."
      ]
    },
    {
      "cell_type": "code",
      "metadata": {
        "id": "icqSOJSxthjl",
        "colab": {
          "base_uri": "https://localhost:8080/",
          "height": 282
        },
        "outputId": "cd91caed-f72b-425a-e0a1-751f79808d7f"
      },
      "source": [
        "ax = plot_data(X, y)\n",
        "ax.scatter(v[0], v[1], color='red')"
      ],
      "execution_count": null,
      "outputs": [
        {
          "output_type": "execute_result",
          "data": {
            "text/plain": [
              "<matplotlib.collections.PathCollection at 0x7fbc8e53f6d0>"
            ]
          },
          "metadata": {
            "tags": []
          },
          "execution_count": 23
        },
        {
          "output_type": "display_data",
          "data": {
            "image/png": "[encoded data removed]",
            "text/plain": [
              "<Figure size 432x288 with 1 Axes>"
            ]
          },
          "metadata": {
            "tags": [],
            "needs_background": "light"
          }
        }
      ]
    },
    {
      "cell_type": "markdown",
      "metadata": {
        "id": "lm3cXQm12OoQ"
      },
      "source": [
        "### Voronoi diagram"
      ]
    },
    {
      "cell_type": "code",
      "metadata": {
        "id": "9JT5tCVk1Gq-",
        "colab": {
          "base_uri": "https://localhost:8080/",
          "height": 265
        },
        "outputId": "b94ef2e2-a000-4b1f-9361-dc09bbad059b"
      },
      "source": [
        "from scipy.spatial import Voronoi, voronoi_plot_2d\n",
        "vor = Voronoi(X)\n",
        "fig, ax = plt.subplots()\n",
        "fig = voronoi_plot_2d(vor, ax)\n",
        "ax.scatter(v[0], v[1], color='red')\n",
        "plt.show()"
      ],
      "execution_count": null,
      "outputs": [
        {
          "output_type": "display_data",
          "data": {
            "image/png": "[encoded data removed]",
            "text/plain": [
              "<Figure size 432x288 with 1 Axes>"
            ]
          },
          "metadata": {
            "tags": [],
            "needs_background": "light"
          }
        }
      ]
    },
    {
      "cell_type": "markdown",
      "metadata": {
        "id": "nnyWXMYCwpVa"
      },
      "source": [
        "## Find the KNN\n",
        "To get k smallest, let's do some data manipulation to make it easy."
      ]
    },
    {
      "cell_type": "code",
      "metadata": {
        "id": "1Cot7kdPttoi",
        "colab": {
          "base_uri": "https://localhost:8080/"
        },
        "outputId": "caeed444-ff46-4fc5-9c07-3b6e551eb14b"
      },
      "source": [
        "y_reshaped = np.reshape(y, (y.shape[0], -1))\n",
        "data = np.append(X, y_reshaped, axis=1)\n",
        "\n",
        "Xy = np.reshape(y, (y.shape[0], -1))\n",
        "Xy = np.append(X, y_reshaped, axis=1)\n",
        "Xy"
      ],
      "execution_count": null,
      "outputs": [
        {
          "output_type": "execute_result",
          "data": {
            "text/plain": [
              "array([[6., 1., 0.],\n",
              "       [7., 3., 0.],\n",
              "       [8., 2., 0.],\n",
              "       [9., 0., 0.],\n",
              "       [8., 4., 1.],\n",
              "       [8., 6., 1.],\n",
              "       [9., 2., 1.],\n",
              "       [9., 5., 1.]])"
            ]
          },
          "metadata": {
            "tags": []
          },
          "execution_count": 11
        }
      ]
    },
    {
      "cell_type": "markdown",
      "metadata": {
        "id": "TAtWhDv0xSww"
      },
      "source": [
        "Just show X values which are the first 2 columns of the combined matrix."
      ]
    },
    {
      "cell_type": "code",
      "metadata": {
        "id": "fgMKjbEpxDG5",
        "colab": {
          "base_uri": "https://localhost:8080/"
        },
        "outputId": "f40b750d-0a3f-4e29-ebb1-ff5311a22b80"
      },
      "source": [
        "Xy[:, :2]"
      ],
      "execution_count": null,
      "outputs": [
        {
          "output_type": "execute_result",
          "data": {
            "text/plain": [
              "array([[6., 1.],\n",
              "       [7., 3.],\n",
              "       [8., 2.],\n",
              "       [9., 0.],\n",
              "       [8., 4.],\n",
              "       [8., 6.],\n",
              "       [9., 2.],\n",
              "       [9., 5.]])"
            ]
          },
          "metadata": {
            "tags": []
          },
          "execution_count": 12
        }
      ]
    },
    {
      "cell_type": "code",
      "metadata": {
        "id": "_bL5h0Rrwzq_",
        "colab": {
          "base_uri": "https://localhost:8080/"
        },
        "outputId": "ca0dc9dd-9df8-46af-ed0c-ad36be906d42"
      },
      "source": [
        "ds = get_distance(Xy[:, :2], y)\n",
        "ds"
      ],
      "execution_count": null,
      "outputs": [
        {
          "output_type": "execute_result",
          "data": {
            "text/plain": [
              "[4.5, 1.5, 1.5, 4.5, 0.5, 2.5, 2.5, 2.5]"
            ]
          },
          "metadata": {
            "tags": []
          },
          "execution_count": 13
        }
      ]
    },
    {
      "cell_type": "markdown",
      "metadata": {
        "id": "WYXcFGHJxGJD"
      },
      "source": [
        "If k = 2, "
      ]
    },
    {
      "cell_type": "code",
      "metadata": {
        "id": "w5jBFNHTxHIS",
        "colab": {
          "base_uri": "https://localhost:8080/"
        },
        "outputId": "dac29f6d-232c-48ef-8ac6-8da7edbebc8d"
      },
      "source": [
        "k = 2\n",
        "k_sorted = np.argpartition(ds, k)\n",
        "k_sorted"
      ],
      "execution_count": null,
      "outputs": [
        {
          "output_type": "execute_result",
          "data": {
            "text/plain": [
              "array([4, 1, 2, 3, 0, 5, 6, 7])"
            ]
          },
          "metadata": {
            "tags": []
          },
          "execution_count": 14
        }
      ]
    },
    {
      "cell_type": "code",
      "metadata": {
        "id": "Rs9kDdpIxbj6"
      },
      "source": [
        "Xy_k = Xy[k_sorted][:k, :]"
      ],
      "execution_count": null,
      "outputs": []
    },
    {
      "cell_type": "code",
      "metadata": {
        "id": "whnYrjoXyStU",
        "colab": {
          "base_uri": "https://localhost:8080/"
        },
        "outputId": "eb746ef2-f46e-45a2-ed1d-f010081192c5"
      },
      "source": [
        "Xy_k"
      ],
      "execution_count": null,
      "outputs": [
        {
          "output_type": "execute_result",
          "data": {
            "text/plain": [
              "array([[8., 4., 1.],\n",
              "       [7., 3., 0.]])"
            ]
          },
          "metadata": {
            "tags": []
          },
          "execution_count": 16
        }
      ]
    },
    {
      "cell_type": "markdown",
      "metadata": {
        "id": "7WG9ROCU7MIb"
      },
      "source": [
        "## How to break the ties\n",
        "One problem that can happen with knn is where there is a tie. For instance, what happens there are two classes and K = 2, but you have one vote for each class? You might think that choosing an odd number for K might solve the problem, but ties can happen for odd numbered Ks as well. For instance, if K = 3 with three classes and each class gets one voite, you have a tie now. To break the tie, there are three approaches.\n",
        "\n",
        "1. Random selection: An easy approach is to choose a random class. Since all classes are equally likely, this should work.\n",
        "2. Use a different K: If k=3 creates a tie, choose K=2 or K=4 for instance.\n",
        "3. Weighted vote: Instead each neighbor having the same vote, you can assign a different weight for each neighbor. For instance, the closer the neighbor is to the point, the more votes it has.\n",
        "\n",
        "In the following implementation, I chose #1 for simplicity.\n",
        "\n",
        "\n",
        "[source](https://www.linkedin.com/pulse/breaking-ties-k-nn-classification-nicholas-pylypiw/)"
      ]
    },
    {
      "cell_type": "code",
      "metadata": {
        "id": "lIT_XnmG7IlN"
      },
      "source": [
        ""
      ],
      "execution_count": null,
      "outputs": []
    },
    {
      "cell_type": "code",
      "metadata": {
        "id": "YBvnxi2lyuHy"
      },
      "source": [
        "def find_knn(X, y, v, k):\n",
        "  # append y to X to make it a single matrix\n",
        "  Xy = np.reshape(y, (y.shape[0], -1))\n",
        "  Xy = np.append(X, y_reshaped, axis=1)\n",
        "\n",
        "  # calculate the distances\n",
        "  ds = get_distance(Xy[:, :2], y)\n",
        "\n",
        "  # find the k smallest\n",
        "  k_sorted = np.argpartition(ds, k)\n",
        "  Xy_k = Xy[k_sorted][:k, :]\n",
        "\n",
        "  c_positives = Xy_k[:, 2] == 1\n",
        "  print(\"# of positives\", c_positives)\n",
        "\n",
        "  return 1 if sum(c_positives) >= k/2 else 0"
      ],
      "execution_count": null,
      "outputs": []
    },
    {
      "cell_type": "code",
      "metadata": {
        "id": "bs2-2fJo0T87",
        "colab": {
          "base_uri": "https://localhost:8080/"
        },
        "outputId": "10e1f60d-1e59-4a2e-d0f1-86a3c5b56fec"
      },
      "source": [
        "print(\"k=2 v is classified as \", find_knn(X, y, v, 2))\n",
        "print(\"k=3 v is classified as \", find_knn(X, y, v, 3))\n",
        "print(\"k=5 v is classified as \", find_knn(X, y, v, 5))"
      ],
      "execution_count": null,
      "outputs": [
        {
          "output_type": "stream",
          "text": [
            "# of positives [ True False]\n",
            "k=2 v is classified as  1\n",
            "# of positives [False False  True]\n",
            "k=3 v is classified as  0\n",
            "# of positives [False False  True  True  True]\n",
            "k=5 v is classified as  1\n"
          ],
          "name": "stdout"
        }
      ]
    }
  ]
}