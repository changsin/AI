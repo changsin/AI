{
  "nbformat": 4,
  "nbformat_minor": 0,
  "metadata": {
    "colab": {
      "name": "clustering-mnist.ipynb",
      "provenance": [],
      "toc_visible": true,
      "authorship_tag": "ABX9TyPYgUbHLxaS8urjQ1SYfmAO",
      "include_colab_link": true
    },
    "kernelspec": {
      "name": "python3",
      "display_name": "Python 3"
    },
    "language_info": {
      "name": "python"
    },
    "accelerator": "GPU"
  },
  "cells": [
    {
      "cell_type": "markdown",
      "metadata": {
        "id": "view-in-github",
        "colab_type": "text"
      },
      "source": [
        "<a href=\"https://colab.research.google.com/github/changsin/AI/blob/main/clustering_mnist.ipynb\" target=\"_parent\"><img src=\"https://colab.research.google.com/assets/colab-badge.svg\" alt=\"Open In Colab\"/></a>"
      ]
    },
    {
      "cell_type": "markdown",
      "metadata": {
        "id": "aTHTF12zdpSJ"
      },
      "source": [
        "# Clustering on MNIST\n",
        "Here is the result of clustering experiments on MNIST data. I wanted to see how robust clustering algorithm is for the data. I was hoping to see that most of the images would come to cluster into 10 groups. Unfortunately, this is not what I see. The images were too similar and the clustering algorithm could not reliably group them into neat categories whether you use cosine or Euclidean distance method.\n",
        "\n",
        "The lesson? You need to know the dataset well and apply what works for the given dataset."
      ]
    },
    {
      "cell_type": "code",
      "metadata": {
        "id": "q-wB9C6bHKBJ"
      },
      "source": [
        "from keras.applications.vgg16 import VGG16\n",
        "from keras.datasets import mnist\n",
        "from keras.models import Sequential\n",
        "from keras.layers import Dense, Flatten\n",
        "from scipy.spatial.distance import cdist\n",
        "from sklearn.cluster import KMeans\n",
        "from sklearn import preprocessing  # to normalise existing X\n",
        "\n",
        "import numpy as np\n",
        "import tensorflow as tf\n",
        "import tensorflow_probability as tfp\n",
        "dist = tfp.distributions\n",
        "\n",
        "(X_train, y_train), (X_test, y_test) = mnist.load_data()\n",
        "X_train, X_test = X_train / 255.0, X_test / 255.0"
      ],
      "execution_count": 4,
      "outputs": []
    },
    {
      "cell_type": "code",
      "metadata": {
        "colab": {
          "base_uri": "https://localhost:8080/"
        },
        "id": "xCNdeLXocP-z",
        "outputId": "4e43a7ed-a2a7-4774-a9e6-3a315e4c2eb3"
      },
      "source": [
        "X_train.shape"
      ],
      "execution_count": 5,
      "outputs": [
        {
          "output_type": "execute_result",
          "data": {
            "text/plain": [
              "(60000, 28, 28)"
            ]
          },
          "metadata": {
            "tags": []
          },
          "execution_count": 5
        }
      ]
    },
    {
      "cell_type": "code",
      "metadata": {
        "id": "_E8jZuOmT-Dg"
      },
      "source": [
        "from keras.applications.vgg16 import VGG16\n",
        "from keras.applications.vgg16 import preprocess_input, decode_predictions\n",
        "from keras.layers import Dense, Flatten\n",
        "from keras.models import Sequential\n",
        "from keras.preprocessing import image\n",
        "from scipy.spatial.distance import cdist\n",
        "from sklearn.cluster import KMeans\n",
        "from sklearn import preprocessing  # to normalise existing X\n",
        "\n",
        "import numpy as np\n",
        "import tensorflow as tf\n",
        "import tensorflow_probability as tfp\n",
        "dist = tfp.distributions\n",
        "\n",
        "#Calculate similar matrics\n",
        "def cosine_similarity(ratings):\n",
        "    sim = ratings.dot(ratings.T)\n",
        "    if not isinstance(sim,np.ndarray):\n",
        "        sim = sim.toarray()\n",
        "    norms = np.array([np.sqrt(np.diagonal(sim))])\n",
        "    return (sim/norms/norms.T)\n",
        "\n",
        "def get_feature_maps(input):\n",
        "    # i = tf.keras.layers.Input([None, None, 3], dtype = tf.uint8)\n",
        "    # x = tf.cast(i, tf.float32)\n",
        "    # x = tf.keras.applications.mobilenet.preprocess_input(x)\n",
        "    # #Convert to VGG input format\n",
        "    # NB: This messes up the existing data so skipping it\n",
        "    #   similarity measures do not seem to be affected by this.\n",
        "    vgg_input = preprocess_input(input)\n",
        "    \n",
        "\n",
        "    #include_top=False == not getting VGG16 last 3 layers\n",
        "    # model = VGG16(weights = \"imagenet\", include_top=False,\n",
        "    #               input_shape = (input.shape[1], input.shape[2], 1))\n",
        "    model = VGG16(weights = None, include_top=False,\n",
        "                  input_shape = (input.shape[1], input.shape[2], 1))\n",
        "\n",
        "    #Get features\n",
        "    feature_maps = model.predict(vgg_input)\n",
        "    # feature_maps = model.predict(input)\n",
        "\n",
        "    return feature_maps, model\n",
        "\n",
        "    # #Calculate similar metrics\n",
        "    # features_compress = features.reshape(len(y_test), 7*7*512)\n",
        "    # sim = cosine_similarity(features_compress)\n",
        "\n",
        "# model_vgg16, feature_maps = get_feature_maps(X)"
      ],
      "execution_count": 6,
      "outputs": []
    },
    {
      "cell_type": "code",
      "metadata": {
        "id": "kCMCOODMuBjA"
      },
      "source": [
        "from skimage.transform import rescale\n",
        "# image_rescaled = rescale(image, 0.25, anti_aliasing=False)\n",
        "\n",
        "# X_train_resized = np.array([ np.resize(x, (32, 32)) for x in X_train])\n",
        "X_train_rescaled = np.array([rescale(x, 32/24, anti_aliasing=False) for x in X_train])"
      ],
      "execution_count": 7,
      "outputs": []
    },
    {
      "cell_type": "markdown",
      "metadata": {
        "id": "iRAi7JMsyei3"
      },
      "source": [
        "## rescale images to 32x32"
      ]
    },
    {
      "cell_type": "code",
      "metadata": {
        "colab": {
          "base_uri": "https://localhost:8080/",
          "height": 283
        },
        "id": "eE5Ver3nwjnv",
        "outputId": "ac178ff0-8dc8-48ea-80ad-5a69280de62d"
      },
      "source": [
        "import matplotlib.pyplot as plt\n",
        "\n",
        "plt.imshow(X_train_rescaled[0])"
      ],
      "execution_count": 10,
      "outputs": [
        {
          "output_type": "execute_result",
          "data": {
            "text/plain": [
              "<matplotlib.image.AxesImage at 0x7fc284e10150>"
            ]
          },
          "metadata": {
            "tags": []
          },
          "execution_count": 10
        },
        {
          "output_type": "display_data",
          "data": {
            "image/png": "[encoded data removed]",
            "text/plain": [
              "<Figure size 432x288 with 1 Axes>"
            ]
          },
          "metadata": {
            "tags": [],
            "needs_background": "light"
          }
        }
      ]
    },
    {
      "cell_type": "code",
      "metadata": {
        "id": "t_K44sIrkjuE"
      },
      "source": [
        "# This doesn't work, it resizes to (32, 32, 28)\n",
        "# from skimage.transform import resize\n",
        "# X_train_resized = resize(X_train, (32, 32))"
      ],
      "execution_count": 53,
      "outputs": []
    },
    {
      "cell_type": "code",
      "metadata": {
        "colab": {
          "base_uri": "https://localhost:8080/",
          "height": 282
        },
        "id": "uqpwaJy2Izmu",
        "outputId": "2dc1a913-1b9b-4938-f826-27cdaafdb0bc"
      },
      "source": [
        "K = 10\n",
        "# X_train_reshaped = tf.expand_dims(X_train, axis=-1)\n",
        "fm_x, _ = get_feature_maps(X_train_rescaled)\n",
        "# use cosine distance to find similarities\n",
        "fm_x_normalized = preprocessing.normalize(fm_x.reshape(len(fm_x), -1))\n",
        "\n",
        "X_train_clusters = KMeans(n_clusters=K, random_state=0).fit(fm_x_normalized)\n",
        "histo_x, bins = np.histogram(X_train_clusters.labels_, bins=range(K + 1))\n",
        "\n",
        "# plt.hist(bins[:-1], bins, weights=histo_x, histtype='step', label='x')\n",
        "plt.bar(bins[:-1], histo_x, align='center')"
      ],
      "execution_count": 13,
      "outputs": [
        {
          "output_type": "execute_result",
          "data": {
            "text/plain": [
              "<BarContainer object of 10 artists>"
            ]
          },
          "metadata": {
            "tags": []
          },
          "execution_count": 13
        },
        {
          "output_type": "display_data",
          "data": {
            "image/png": "[encoded data removed]",
            "text/plain": [
              "<Figure size 432x288 with 1 Axes>"
            ]
          },
          "metadata": {
            "tags": [],
            "needs_background": "light"
          }
        }
      ]
    },
    {
      "cell_type": "code",
      "metadata": {
        "colab": {
          "base_uri": "https://localhost:8080/",
          "height": 282
        },
        "id": "KlBboT3rAFve",
        "outputId": "6fe37014-164f-4588-b4dc-a097543e3527"
      },
      "source": [
        "X_train_clusters_euclidean = KMeans(n_clusters=K, random_state=0).fit(fm_x.reshape(len(fm_x), -1))\n",
        "histo_x_euclidean, bins_euclidean = np.histogram(X_train_clusters_euclidean.labels_, bins=range(K + 1))\n",
        "\n",
        "# plt.hist(bins[:-1], bins, weights=histo_x, histtype='step', label='x')\n",
        "plt.bar(bins_euclidean[:-1], histo_x_euclidean, align='center')"
      ],
      "execution_count": 76,
      "outputs": [
        {
          "output_type": "execute_result",
          "data": {
            "text/plain": [
              "<BarContainer object of 10 artists>"
            ]
          },
          "metadata": {
            "tags": []
          },
          "execution_count": 76
        },
        {
          "output_type": "display_data",
          "data": {
            "image/png": "[encoded data removed]",
            "text/plain": [
              "<Figure size 432x288 with 1 Axes>"
            ]
          },
          "metadata": {
            "tags": [],
            "needs_background": "light"
          }
        }
      ]
    },
    {
      "cell_type": "code",
      "metadata": {
        "id": "SRFdIPn8z3T7"
      },
      "source": [
        "def find_clusters(X_np, K):\n",
        "  fm_x, _ = get_feature_maps(X_np)\n",
        "  # use cosine distance to find similarities\n",
        "  fm_x_normalized = preprocessing.normalize(fm_x.reshape(len(fm_x), -1))\n",
        "\n",
        "  clusters_x = KMeans(n_clusters=K, random_state=0).fit(fm_x_normalized)\n",
        "  histo_x, bins = np.histogram(clusters_x.labels_, bins=range(K + 1))\n",
        "\n",
        "  # plt.hist(bins[:-1], bins, weights=histo_x, histtype='step', label='x')\n",
        "  plt.bar(bins[:-1], histo_x, align='center')\n",
        "\n",
        "  return clusters_x\n",
        "def to_cluster_ids(bins, labels):\n",
        "  cluster_dict = dict()\n",
        "  for cluster_id in bins:\n",
        "    cluster_dict[cluster_id] = np.where(labels == cluster_id)[0]\n",
        "  return cluster_dict\n",
        "\n",
        "def to_clusters_dict(X, y, K):\n",
        "  X_clusters = find_clusters(X, K)\n",
        "  X_cluster_ids = to_cluster_ids(range(K), X_clusters.labels_)\n",
        "\n",
        "  X_dict = {}\n",
        "  y_dict = {}\n",
        "  for id in range(K):\n",
        "    ids = X_cluster_ids[id]\n",
        "    X_dict[id] = X[ids]\n",
        "    y_dict[id] = y[ids]\n",
        "\n",
        "  return X_dict, y_dict"
      ],
      "execution_count": 80,
      "outputs": []
    },
    {
      "cell_type": "code",
      "metadata": {
        "colab": {
          "base_uri": "https://localhost:8080/",
          "height": 265
        },
        "id": "E84ebF34AyOD",
        "outputId": "b30ed051-60a4-4cb6-c6d9-328af17afcc9"
      },
      "source": [
        "X_train_dict_euc, y_train_dict_euc = to_clusters_dict(X_train_rescaled, y_train, K)"
      ],
      "execution_count": 82,
      "outputs": [
        {
          "output_type": "display_data",
          "data": {
            "image/png": "[encoded data removed]",
            "text/plain": [
              "<Figure size 432x288 with 1 Axes>"
            ]
          },
          "metadata": {
            "tags": [],
            "needs_background": "light"
          }
        }
      ]
    },
    {
      "cell_type": "code",
      "metadata": {
        "id": "Uo-xza0x5Nz5"
      },
      "source": [
        "\n",
        "import matplotlib.patches as patches\n",
        "\n",
        "def create_patch_rectangle(y, color):\n",
        "  # width = y[2] - y[0]\n",
        "  # height = y[3] - y[1]\n",
        "  # return patches.Rectangle((y[0], y[1]),\n",
        "  #                           width, height,\n",
        "  #                           edgecolor=color, fill=False)\n",
        "  # # in yolov5\n",
        "  width = int(y[2])\n",
        "  height = int(y[3])\n",
        "  return patches.Rectangle((int(y[0] - width/2), int(y[1] - height/2)),\n",
        "                           width, height,\n",
        "                           edgecolor=color, fill=False)\n",
        "def plot_images(X, y, limit=10):\n",
        "  fig = plt.figure(figsize=(20,40))\n",
        "\n",
        "  # The number of images for plotting is limited to 50\n",
        "  end_id = len(y) if len(y) < limit else limit\n",
        "\n",
        "  for i in range(0, end_id):\n",
        "    axis = fig.add_subplot(10, 5, i+1)\n",
        "    plt.axis('off')\n",
        "    image = X[i]\n",
        "\n",
        "    plt.title(\"{}\".format(y[i]))\n",
        "    plt.imshow(np.clip(image, 0, 1))\n",
        "# plot_images(X_train_d[0], y_train_d[0])"
      ],
      "execution_count": 67,
      "outputs": []
    },
    {
      "cell_type": "code",
      "metadata": {
        "id": "o8GSR4UH1Ls7"
      },
      "source": [
        "X_train_dict, y_train_dict = to_clusters_dict(X_train, y_train, K, X_train_clusters)"
      ],
      "execution_count": 24,
      "outputs": []
    },
    {
      "cell_type": "code",
      "metadata": {
        "colab": {
          "base_uri": "https://localhost:8080/"
        },
        "id": "QN_MGyiA8rxV",
        "outputId": "30031732-15bb-464a-8f6c-e55e7030380f"
      },
      "source": [
        "from collections import Counter\n",
        "\n",
        "for key, val in y_train_dict.items():\n",
        "  print(Counter(val))"
      ],
      "execution_count": 73,
      "outputs": [
        {
          "output_type": "stream",
          "text": [
            "Counter({3: 3189, 5: 1845, 8: 806, 0: 287, 6: 102, 2: 88, 9: 86, 7: 27, 1: 6, 4: 3})\n",
            "Counter({4: 2983, 9: 2356, 7: 1628, 5: 500, 2: 293, 3: 200, 8: 142, 6: 123, 0: 63, 1: 5})\n",
            "Counter({7: 3509, 9: 2540, 4: 2048, 8: 169, 5: 110, 0: 64, 2: 45, 3: 41, 6: 14, 1: 2})\n",
            "Counter({1: 3037, 5: 998, 8: 456, 7: 284, 6: 250, 4: 224, 9: 180, 3: 127, 2: 125, 0: 43})\n",
            "Counter({2: 3491, 3: 174, 8: 65, 7: 35, 6: 24, 1: 22, 4: 19, 9: 10, 0: 5, 5: 4})\n",
            "Counter({1: 3626, 3: 652, 7: 596, 6: 549, 5: 430, 9: 421, 8: 346, 2: 280, 4: 223, 0: 30})\n",
            "Counter({0: 3162, 5: 176, 6: 101, 9: 52, 2: 51, 3: 42, 8: 34, 7: 20, 4: 18})\n",
            "Counter({6: 4492, 2: 194, 4: 160, 5: 103, 0: 88, 8: 52, 3: 33, 7: 10, 9: 9, 1: 2})\n",
            "Counter({8: 3661, 3: 1109, 5: 1082, 2: 326, 9: 188, 7: 126, 6: 120, 0: 50, 1: 42, 4: 38})\n",
            "Counter({0: 2131, 2: 1065, 3: 564, 5: 173, 6: 143, 4: 126, 8: 120, 9: 107, 7: 30})\n"
          ],
          "name": "stdout"
        }
      ]
    },
    {
      "cell_type": "code",
      "metadata": {
        "colab": {
          "base_uri": "https://localhost:8080/"
        },
        "id": "TKx-j8uqB1AX",
        "outputId": "1bd9a64d-a5df-4f8c-b7ce-94b7aab74b08"
      },
      "source": [
        "from collections import Counter\n",
        "\n",
        "for key, val in y_train_dict_euc.items():\n",
        "  print(Counter(val))"
      ],
      "execution_count": 84,
      "outputs": [
        {
          "output_type": "stream",
          "text": [
            "Counter({2: 4057, 3: 197, 8: 73, 0: 42, 4: 21, 7: 21, 9: 19, 5: 15, 1: 13, 6: 7})\n",
            "Counter({1: 2921, 8: 408, 5: 292, 4: 140, 9: 127, 7: 127, 2: 121, 6: 71, 3: 65, 0: 11})\n",
            "Counter({0: 4590, 2: 188, 9: 75, 6: 52, 5: 48, 7: 45, 8: 35, 3: 17, 4: 8})\n",
            "Counter({6: 2811, 4: 597, 2: 469, 5: 124, 9: 67, 8: 61, 0: 60, 7: 56, 3: 38, 1: 3})\n",
            "Counter({8: 2004, 4: 1830, 5: 1558, 9: 1336, 7: 618, 3: 240, 2: 224, 0: 184, 6: 36, 1: 8})\n",
            "Counter({3: 3459, 5: 1261, 8: 1238, 9: 281, 2: 202, 0: 158, 7: 79, 4: 44, 6: 35, 1: 8})\n",
            "Counter({6: 2617, 5: 1854, 3: 1590, 8: 1532, 0: 810, 2: 301, 4: 93, 9: 52, 1: 40, 7: 23})\n",
            "Counter({1: 3724, 9: 297, 3: 253, 6: 212, 7: 202, 2: 172, 8: 171, 4: 127, 5: 112, 0: 31})\n",
            "Counter({7: 4641, 9: 410, 2: 94, 3: 76, 8: 35, 4: 25, 0: 23, 5: 21, 1: 5, 6: 2})\n",
            "Counter({9: 3285, 4: 2957, 7: 453, 8: 294, 3: 196, 5: 136, 2: 130, 6: 75, 1: 20, 0: 14})\n"
          ],
          "name": "stdout"
        }
      ]
    },
    {
      "cell_type": "code",
      "metadata": {
        "id": "6IY6nwBc2n1J"
      },
      "source": [
        "ms = np.array([ [np.round(np.mean(y), 2), np.round(np.std(y), 2)] for id, y in y_train_dict.items()])"
      ],
      "execution_count": 42,
      "outputs": []
    },
    {
      "cell_type": "code",
      "metadata": {
        "id": "f-DFVwN6CJtR"
      },
      "source": [
        "ms_euc = np.array([ [np.round(np.mean(y), 2), np.round(np.std(y), 2)] for id, y in y_train_dict_euc.items()])"
      ],
      "execution_count": 85,
      "outputs": []
    },
    {
      "cell_type": "code",
      "metadata": {
        "colab": {
          "base_uri": "https://localhost:8080/"
        },
        "id": "dgmAK7n83l2a",
        "outputId": "0ba6774b-7361-45cc-8d98-3c09f633da7c"
      },
      "source": [
        "ms[:, 1]"
      ],
      "execution_count": 44,
      "outputs": [
        {
          "output_type": "execute_result",
          "data": {
            "text/plain": [
              "array([1.99, 2.32, 1.99, 2.69, 1.04, 2.77, 1.98, 1.18, 2.29, 2.3 ])"
            ]
          },
          "metadata": {
            "tags": []
          },
          "execution_count": 44
        }
      ]
    },
    {
      "cell_type": "code",
      "metadata": {
        "colab": {
          "base_uri": "https://localhost:8080/"
        },
        "id": "bvUsr_UK4HKw",
        "outputId": "2ac6841a-b17b-405b-dd8d-12f6e2b8d487"
      },
      "source": [
        "len(X_train_dict)"
      ],
      "execution_count": 50,
      "outputs": [
        {
          "output_type": "execute_result",
          "data": {
            "text/plain": [
              "10"
            ]
          },
          "metadata": {
            "tags": []
          },
          "execution_count": 50
        }
      ]
    },
    {
      "cell_type": "code",
      "metadata": {
        "colab": {
          "base_uri": "https://localhost:8080/",
          "height": 282
        },
        "id": "RT8zZgGc4KDs",
        "outputId": "093d4540-c4d8-4a8b-8956-dab28e797ffb"
      },
      "source": [
        "\n",
        "# plt.bar(bins[:-1], ms[:, 0], align='center')\n",
        "plt.bar(bins[:-1], ms[:, 1], align='center')"
      ],
      "execution_count": 55,
      "outputs": [
        {
          "output_type": "execute_result",
          "data": {
            "text/plain": [
              "<BarContainer object of 10 artists>"
            ]
          },
          "metadata": {
            "tags": []
          },
          "execution_count": 55
        },
        {
          "output_type": "display_data",
          "data": {
            "image/png": "[encoded data removed]",
            "text/plain": [
              "<Figure size 432x288 with 1 Axes>"
            ]
          },
          "metadata": {
            "tags": [],
            "needs_background": "light"
          }
        }
      ]
    },
    {
      "cell_type": "code",
      "metadata": {
        "colab": {
          "base_uri": "https://localhost:8080/",
          "height": 282
        },
        "id": "mqSRiy_YCQ4L",
        "outputId": "0e96023b-fc5b-4009-e8a5-26e550221410"
      },
      "source": [
        "plt.bar(bins[:-1], ms_euc[:, 1], align='center')"
      ],
      "execution_count": 86,
      "outputs": [
        {
          "output_type": "execute_result",
          "data": {
            "text/plain": [
              "<BarContainer object of 10 artists>"
            ]
          },
          "metadata": {
            "tags": []
          },
          "execution_count": 86
        },
        {
          "output_type": "display_data",
          "data": {
            "image/png": "[encoded data removed]",
            "text/plain": [
              "<Figure size 432x288 with 1 Axes>"
            ]
          },
          "metadata": {
            "tags": [],
            "needs_background": "light"
          }
        }
      ]
    },
    {
      "cell_type": "code",
      "metadata": {
        "colab": {
          "base_uri": "https://localhost:8080/",
          "height": 361
        },
        "id": "79CCcGPl5Yxr",
        "outputId": "8920fb36-5f80-4732-dd01-25f4e01b5934"
      },
      "source": [
        "plot_images(X_train_dict[0], y_train_dict[0])"
      ],
      "execution_count": 68,
      "outputs": [
        {
          "output_type": "display_data",
          "data": {
            "image/png": "[encoded data removed]",
            "text/plain": [
              "<Figure size 1440x2880 with 10 Axes>"
            ]
          },
          "metadata": {
            "tags": [],
            "needs_background": "light"
          }
        }
      ]
    },
    {
      "cell_type": "code",
      "metadata": {
        "colab": {
          "base_uri": "https://localhost:8080/",
          "height": 361
        },
        "id": "XgVA2-2W6iIh",
        "outputId": "3f55cbac-eaf4-4e5c-c277-eae11c43984e"
      },
      "source": [
        "plot_images(X_train_dict[1], y_train_dict[1])"
      ],
      "execution_count": 69,
      "outputs": [
        {
          "output_type": "display_data",
          "data": {
            "image/png": "[encoded data removed]",
            "text/plain": [
              "<Figure size 1440x2880 with 10 Axes>"
            ]
          },
          "metadata": {
            "tags": [],
            "needs_background": "light"
          }
        }
      ]
    },
    {
      "cell_type": "code",
      "metadata": {
        "colab": {
          "base_uri": "https://localhost:8080/",
          "height": 361
        },
        "id": "uTvJ7VZ06j4L",
        "outputId": "b31a5e17-9365-481f-c8dd-ed04fe5a8f0e"
      },
      "source": [
        "cluster_id = 2\n",
        "plot_images(X_train_dict[cluster_id], y_train_dict[cluster_id])"
      ],
      "execution_count": 70,
      "outputs": [
        {
          "output_type": "display_data",
          "data": {
            "image/png": "[encoded data removed]",
            "text/plain": [
              "<Figure size 1440x2880 with 10 Axes>"
            ]
          },
          "metadata": {
            "tags": [],
            "needs_background": "light"
          }
        }
      ]
    },
    {
      "cell_type": "code",
      "metadata": {
        "colab": {
          "base_uri": "https://localhost:8080/",
          "height": 361
        },
        "id": "dRg8Kycl6t6E",
        "outputId": "cb621e65-2e5d-40a1-9e1a-4f67257e1673"
      },
      "source": [
        "cluster_id = 3\n",
        "plot_images(X_train_dict[cluster_id], y_train_dict[cluster_id])"
      ],
      "execution_count": 71,
      "outputs": [
        {
          "output_type": "display_data",
          "data": {
            "image/png": "[encoded data removed]",
            "text/plain": [
              "<Figure size 1440x2880 with 10 Axes>"
            ]
          },
          "metadata": {
            "tags": [],
            "needs_background": "light"
          }
        }
      ]
    },
    {
      "cell_type": "code",
      "metadata": {
        "id": "5nwqz4bc7AW3"
      },
      "source": [
        ""
      ],
      "execution_count": null,
      "outputs": []
    }
  ]
}