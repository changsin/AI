{
  "nbformat": 4,
  "nbformat_minor": 0,
  "metadata": {
    "colab": {
      "provenance": [],
      "toc_visible": true,
      "authorship_tag": "ABX9TyM5y7UYaLzM5eamvXXoeGhK",
      "include_colab_link": true
    },
    "kernelspec": {
      "name": "python3",
      "display_name": "Python 3"
    },
    "language_info": {
      "name": "python"
    }
  },
  "cells": [
    {
      "cell_type": "markdown",
      "metadata": {
        "id": "view-in-github",
        "colab_type": "text"
      },
      "source": [
        "<a href=\"https://colab.research.google.com/github/changsin/AI/blob/main/07.3.Monty_Hall.ipynb\" target=\"_parent\"><img src=\"https://colab.research.google.com/assets/colab-badge.svg\" alt=\"Open In Colab\"/></a>"
      ]
    },
    {
      "cell_type": "markdown",
      "source": [
        "# 07.3 The Monty Hall Problem\n",
        "\n",
        "The Monty Hall problem is based on a game show scenario:\n",
        "\n",
        "1. There are three doors 🚪🚪🚪.\n",
        "2. Behind one door is a car 🚗 (the prize, $ P_W $).\n",
        "3. Behind the other two doors are goats 🐐🐐 (no prize, $ P_L $).\n",
        "4. You, the contestant, pick one door (let's call it Door 1 for simplicity).\n",
        "5. Monty Hall (the host), who always knows where the car is and must open a door with a goat, opens one of the two unpicked doors that reveals a goat.\n",
        "6. You are then given the option to stick with your original door (Door 1) or switch to the other unopened door.\n",
        "\n",
        "The question is: Should you stick or switch?"
      ],
      "metadata": {
        "id": "u1D_kyWn596v"
      }
    },
    {
      "cell_type": "markdown",
      "source": [
        "## 7.3.1 Intuition\n",
        "The initial probability of winning for any door is $ \\frac{1}{3} $.\n",
        "\n",
        "There are two cases:\n",
        "1. Your initial choice was the prize door = $ \\frac{1}{3} $\n",
        "2. Your initial choice was one of the goat doors. = $ \\frac{2}{3} $\n",
        "\n",
        "In the case of #2, Monty Hall must pick the other goat door.\n",
        "So, by switching, your chance of winning becomes = $ \\frac{2}{3} $\n"
      ],
      "metadata": {
        "id": "lu_kKqjdeq0Y"
      }
    },
    {
      "cell_type": "markdown",
      "source": [
        "## 7.3.2 Formal Solutions"
      ],
      "metadata": {
        "id": "byTuxHtP6KuP"
      }
    },
    {
      "cell_type": "markdown",
      "source": [
        "## 7.3.2.1 Using the Bayes Theorem\n",
        "\n",
        "\n",
        "$$ P(C_2|H_3) = \\frac{P(H_3|C_2)P(C_2)}{P(H_3)} $$\n",
        "\n",
        "- $ P(C_2|H_3) $: posterior probability that the car is behind door 2, given Monty opens door 3.\n",
        "- $ P(H_3|C_2) $: likelihood of Monty opening door 3 given the car is behind door 2.\n",
        "- $ P(C_2) $: prior probability that the car is behind door 2.\n",
        "- $ P(H_3) $: marginal probability that Monty opens door 3.\n",
        "\n",
        "### Step 1: Marginalization of $ P(H_3) $\n",
        "Calculating $ P(H_3) $ requires some thought.\n",
        "The marginal probability\n",
        "$ P(H_3) $ can be computed by summing over the mutually exclusive cases where the car is behind door 1, 2, or 3:\n",
        "$$\n",
        " P(H_3) = \\sum_{i=1}^{3} P(H_3, C_i)\n",
        "$$\n",
        "\n",
        "Using the Product Rule,\n",
        "$$\n",
        "P(H_3) = \\sum_{i=1}^3 P(H_3|C_i)P(C_i)\n",
        "$$\n",
        "\n",
        "### Step 2: Case analysis\n",
        "- $ P(H_3|C_1)P(C_1) = \\frac{1}{2} \\cdot \\frac{1}{3} $: if the car is behind #1, the probability of Hall opening #3 is $ \\frac{1}{2} $ because he can choose either #2 or #3.\n",
        "- $ P(H_3|C_2)P(C_2) = 1 \\cdot \\frac{1}{3}$: if the car is behind #2, the probability of Hall opening #3 is 1 because he has no choice but to open the only door that does not have the car.\n",
        "- $ P(H_3|C_3)P(C_3) = 0 \\cdot \\frac{1}{3}$: Hall will not open #3 if the car is behind #3.\n",
        "\n",
        "Therefore, $ P(H_3) = \\frac{1}{2} \\cdot \\frac{1}{3} + 1 \\cdot \\frac{1}{3} + 0 \\cdot \\frac{1}{3} = \\frac{1}{2} $\n",
        "\n",
        "- $ P(H_3|C_2) = 1 $\n",
        "- $ P(C_2) = \\frac{1}{3} $\n",
        "- $ P(H_3) = \\frac{1}{2} $\n",
        "\n",
        "### Step 3: Apply Bayes Theorem\n",
        "\n",
        "$$\n",
        "P(C_2|H_3) = \\frac{P(H_3|C_2)P(C_2)}{P(H_3)}\n",
        " = \\frac{1 \\cdot \\frac{1}{3}}{\\frac{1}{2}}\n",
        " = \\frac{2}{3}\n",
        "$$\n",
        "\n",
        "$$\n",
        "P(C_1|H_3) = \\frac{P(H_3|C_1)P(C_1)}{P(H_3)}\n",
        " = \\frac{\\frac{1}{2} \\cdot \\frac{1}{3}}{\\frac{1}{2}}\n",
        " = \\frac{1}{3}\n",
        "$$\n",
        "\n",
        "### Conclusion\n",
        "In other words, switching gives you 2/3 (66%) chance of winning compared to staying which remains at 1/3 (33%)."
      ],
      "metadata": {
        "id": "3L-FtRPb6hTL"
      }
    },
    {
      "cell_type": "code",
      "source": [
        "import random\n",
        "\n",
        "def simulate_monty_hall(num_simulations):\n",
        "    \"\"\"Simulates the Monty Hall problem.\n",
        "\n",
        "    Args:\n",
        "        num_simulations (int): The number of simulations to run.\n",
        "\n",
        "    Returns:\n",
        "        tuple: A tuple containing the number of wins when sticking and the\n",
        "               number of wins when switching.\n",
        "    \"\"\"\n",
        "    wins_stick = 0\n",
        "    wins_switch = 0\n",
        "\n",
        "    for _ in range(num_simulations):\n",
        "        # 1. Place the car behind a random door (0, 1, or 2)\n",
        "        car_door = random.randint(0, 2)\n",
        "\n",
        "        # 2. Contestant makes an initial choice\n",
        "        initial_choice = random.randint(0, 2)\n",
        "\n",
        "        # 3. Monty opens a door with a goat that is not the contestant's choice\n",
        "        # Find the doors Monty can open\n",
        "        possible_monty_openings = [i for i in range(3) if i != initial_choice and i != car_door]\n",
        "        monty_open = random.choice(possible_monty_openings)\n",
        "\n",
        "        # 4. Determine the remaining unopened door\n",
        "        remaining_door = [i for i in range(3) if i != initial_choice and i != monty_open][0]\n",
        "\n",
        "        # 5. Check for wins\n",
        "        # Sticking with the initial choice\n",
        "        if initial_choice == car_door:\n",
        "            wins_stick += 1\n",
        "\n",
        "        # Switching to the remaining door\n",
        "        if remaining_door == car_door:\n",
        "            wins_switch += 1\n",
        "\n",
        "    return wins_stick, wins_switch\n",
        "\n",
        "# Run the simulation\n",
        "num_simulations = 10000\n",
        "wins_stick, wins_switch = simulate_monty_hall(num_simulations)\n",
        "\n",
        "print(f\"Number of simulations: {num_simulations}\")\n",
        "print(f\"Wins when sticking: {wins_stick} ({wins_stick/num_simulations:.2%})\")\n",
        "print(f\"Wins when switching: {wins_switch} ({wins_switch/num_simulations:.2%})\")"
      ],
      "metadata": {
        "colab": {
          "base_uri": "https://localhost:8080/"
        },
        "id": "xWLBwcnb6Tmb",
        "outputId": "af909496-f3c7-4175-bc4b-b8fd77793c9c"
      },
      "execution_count": 1,
      "outputs": [
        {
          "output_type": "stream",
          "name": "stdout",
          "text": [
            "Number of simulations: 10000\n",
            "Wins when sticking: 3373 (33.73%)\n",
            "Wins when switching: 6627 (66.27%)\n"
          ]
        }
      ]
    }
  ]
}