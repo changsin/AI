{
  "nbformat": 4,
  "nbformat_minor": 0,
  "metadata": {
    "colab": {
      "name": "Untitled11.ipynb",
      "provenance": [],
      "authorship_tag": "ABX9TyO3nQt137GClmr58Kuk+MsD",
      "include_colab_link": true
    },
    "kernelspec": {
      "name": "python3",
      "display_name": "Python 3"
    }
  },
  "cells": [
    {
      "cell_type": "markdown",
      "metadata": {
        "id": "view-in-github",
        "colab_type": "text"
      },
      "source": [
        "<a href=\"https://colab.research.google.com/github/changsin/AI/blob/main/neural-network-from-scratch.ipynb\" target=\"_parent\"><img src=\"https://colab.research.google.com/assets/colab-badge.svg\" alt=\"Open In Colab\"/></a>"
      ]
    },
    {
      "cell_type": "markdown",
      "metadata": {
        "id": "T4RWoRKTyhbd"
      },
      "source": [
        "# Writing a Neural Network from Scratch\n",
        "\n",
        "   Machine Learning libraries like TensorFlow and PyTorch all have excellent ways of creating and training a model so you do not need to write your own neural network from scratch. However, writing a neural network gives you a solid understanding of how Deep Learning works because as complicated as the latest models might appear, the basic building blocks of all neural networks are simple artificial neural networks. The exercise will also equip you with better debugging skills for root causing problems with your models.\n",
        "\n",
        "   In the following exercise, let's take a simple neural network with a single hidden layer with four nodes and examine the steps in training it."
      ]
    },
    {
      "cell_type": "markdown",
      "metadata": {
        "id": "lqTTXHPPHJX-"
      },
      "source": [
        "\n",
        "## How to train a neural network\n",
        "Training a neural network consists of four steps:\n",
        "\n",
        "1. Calculate the activation\n",
        "2. Apply non-linearity\n",
        "3. Calculate the loss\n",
        "4. Backpropagate the errors\n",
        "\n",
        "Let's take each step in more detail.\n",
        "\n",
        "### 1. Activation\n",
        "\n",
        "The activation function applies some weights on the input data and add some bias. \n",
        "\n",
        "Z = Wx + b\n",
        "(W: weights x: input, b: bias)\n",
        "\n",
        "### 2. Apply non-linearity\n",
        "Let's use sigmoid for applying the non-linearity.\n",
        "\n",
        "A = sigmoid(Z)\n",
        "\n",
        "Note that there are many other non-linearity functions like tanh or relu. These are called 'activation functions' and often dented as 'A' (matrix)\n",
        "\n",
        "### 3. Cost\n",
        "The cost or the loss is the difference between the predicted and the actual (ground truth) target values. In our case, we are using MSE (Mean Squared Error) which is a quadratic function with a nice convex shape as illustrated below. The gradient descent operation will help us find the minimum cost.\n",
        "\n",
        "$$ C = \\frac{1}{N}\\Sigma_{i=1}^{N} (\\hat Y - Y)^2 $$\n",
        "\n",
        "$\\hat Y$: predicted values\n",
        "\n",
        "$Y$: ground truth"
      ]
    },
    {
      "cell_type": "code",
      "metadata": {
        "colab": {
          "base_uri": "https://localhost:8080/",
          "height": 282
        },
        "id": "W0Nn5FXn1r2n",
        "outputId": "6e2b04cd-b533-4745-9083-572d08804cb6"
      },
      "source": [
        "import numpy as np\n",
        "import matplotlib.pyplot as plt\n",
        "\n",
        "X = np.arange(-10, 11, 1)\n",
        "Y = X**2\n",
        "Y\n",
        "plt.plot(X, Y)\n"
      ],
      "execution_count": 13,
      "outputs": [
        {
          "output_type": "execute_result",
          "data": {
            "text/plain": [
              "[<matplotlib.lines.Line2D at 0x7ff74e6e4d10>]"
            ]
          },
          "metadata": {
            "tags": []
          },
          "execution_count": 13
        },
        {
          "output_type": "display_data",
          "data": {
            "image/png": "[encoded data removed]",
            "text/plain": [
              "<Figure size 432x288 with 1 Axes>"
            ]
          },
          "metadata": {
            "tags": [],
            "needs_background": "light"
          }
        }
      ]
    },
    {
      "cell_type": "markdown",
      "metadata": {
        "id": "Xj6Q6M9l6Ulr"
      },
      "source": [
        "### 4. Backpropagate\n",
        "\n",
        "Since the gradient points to the highest peak at the tangent line, you have to take the negative of the gradient and propagate the errors backward starting from the outer most layer.\n",
        "\n",
        "Mathematically, this can be done by calculating the Jacobian (a vector of partial derivatives) against the cost function. Since there are two variables (parameters) W (weights) and b (bias), you have to calculate the partial derivatives against the cost function C for each.\n",
        "\n",
        "\n"
      ]
    },
    {
      "cell_type": "markdown",
      "metadata": {
        "id": "KEBFV4TQKy5t"
      },
      "source": [
        "$$ \\mathbf{J}_{\\mathbf{W}^{(2)}} = \\frac{\\partial C}{\\partial \\mathbf{W}^{(2)}} $$\n",
        "$$ \\mathbf{J}_{\\mathbf{b}^{(2)}} = \\frac{\\partial C}{\\partial \\mathbf{b}^{(2)}} $$\n"
      ]
    },
    {
      "cell_type": "markdown",
      "metadata": {
        "id": "L6M4AFdeL48h"
      },
      "source": [
        "We cannot take a partial derivate on the cost function directly because there is no weight variable. Instead, we can apply the chain rule to calculate the partial derivatives."
      ]
    },
    {
      "cell_type": "markdown",
      "metadata": {
        "id": "c7GADDrTMCB0"
      },
      "source": [
        "For the weight:\n",
        "$$\\large \\frac{\\partial C}{\\partial \\mathbf{W}^{(2)}} =\n",
        "   \\frac{\\partial C}{\\partial \\mathbf{a}^{(2)}}\n",
        "   \\frac{\\partial \\mathbf{a}^{(2)}}{\\partial \\mathbf{z}^{(2)}}\n",
        "   \\frac{\\partial \\mathbf{z}^{(2)}}{\\partial \\mathbf{W}^{(2)}}\n",
        "$$\n",
        "\n",
        "For the bias:\n",
        "$$\\large \\frac{\\partial C}{\\partial \\mathbf{b}^{(2)}} =\n",
        "   \\frac{\\partial C}{\\partial \\mathbf{a}^{(2)}}\n",
        "   \\frac{\\partial \\mathbf{a}^{(2)}}{\\partial \\mathbf{z}^{(2)}}\n",
        "   \\frac{\\partial \\mathbf{z}^{(2)}}{\\partial \\mathbf{b}^{(2)}}\n",
        "$$\n"
      ]
    },
    {
      "cell_type": "markdown",
      "metadata": {
        "id": "Nu4wJRY3O9Lp"
      },
      "source": [
        "Below is the full code that implements the formulae. It was written for illustration purposes without concerns about brevity or optimization."
      ]
    },
    {
      "cell_type": "markdown",
      "metadata": {
        "id": "bRhbdh0DQ5Ew"
      },
      "source": [
        "## Implementation"
      ]
    },
    {
      "cell_type": "code",
      "metadata": {
        "id": "pAUn4Oeeyfie"
      },
      "source": [
        "import math\n",
        "import numpy as np\n",
        "import matplotlib.pyplot as plt\n",
        "\n",
        "def sigmoid(z):\n",
        "    return 1 / (1 + np.exp(-z))\n",
        "\n",
        "def d_sigmoid(z):\n",
        "    # derivative of the sigmoid funciton\n",
        "    return sigmoid(z) * (1.0 - sigmoid(z))\n",
        "\n",
        "class TwoLayerNetwork:\n",
        "  def __init__(self, input_size, hidden_size, output_size):\n",
        "    self.weights1 = np.random.rand(hidden_size, input_size)\n",
        "    self.weights2 = np.random.rand(output_size, hidden_size)\n",
        "    self.bias1 = np.random.rand(hidden_size, 1)\n",
        "    self.bias2 = np.random.rand(output_size, 1)\n",
        "\n",
        "    # outputs from each layer - the output of the activation function\n",
        "    self.a1 = np.random.rand(hidden_size)\n",
        "    self.a2 = np.random.rand(output_size)\n",
        "\n",
        "    # activations for each layer\n",
        "    self.z1 = np.random.rand(hidden_size)\n",
        "    self.z2 = np.random.rand(output_size)\n",
        "\n",
        "  def activate(self, z):\n",
        "    return sigmoid(z)\n",
        "\n",
        "  def d_activate(self, z):\n",
        "    # derivative of the activation funciton\n",
        "    return d_sigmoid(z)\n",
        "\n",
        "  def loss(self, y_true, y_pred):\n",
        "    # the loss function is squared error\n",
        "    return ((y_pred - y_true) ** 2).mean()\n",
        "  \n",
        "  def predict(self, x):\n",
        "    return self.forward_pass(x)\n",
        "\n",
        "  def fit(self, x, y, epoch=10):\n",
        "    costs = list()\n",
        "    for e in range(epoch):\n",
        "      y_pred = self.forward_pass(x)\n",
        "      self.backward_pass(x, y, y_pred)\n",
        "\n",
        "      cost = self.loss(y, y_pred)\n",
        "      costs.append(cost)\n",
        "\n",
        "    return costs\n",
        "  \n",
        "  def forward_pass(self, x):\n",
        "    # input to the activation function\n",
        "    self.z1 = np.dot(self.weights1, x.T)\n",
        "    self.a1 = self.activate(self.z1)\n",
        "\n",
        "    # hidden to output layer\n",
        "    self.z2 = self.weights2.dot(self.a1) + self.bias2\n",
        "    self.a2 = self.activate(self.z2)\n",
        "    return self.a2\n",
        "\n",
        "  def backward_pass(self, x, y, y_pred):\n",
        "    # application of the chain rule on\n",
        "    # dC/dA2 * dA2/dZ2 * dZ2/dW2\n",
        "    # C = (Y_pred - Y)**2\n",
        "    # dC/dA2 = 2 * (A - Y)\n",
        "    d_cost = 2 * (y_pred - y)\n",
        "    # A2 = activate(Z2) = sigmoid(Z2)\n",
        "    # dA2/dZ2 = d_activate(Z2) = d_sigmoid(Z2)\n",
        "    d_a2 = self.d_activate(self.z2)\n",
        "\n",
        "    # Z2 = W2.A1 + b2\n",
        "    # dZ2/dW2 = A1 - output from the hidden layer\n",
        "    d_z2 = self.a1\n",
        "    # this value is used again so save it as a separate variable\n",
        "    d_delta2 = d_cost * d_a2\n",
        "\n",
        "    # Now assign the delatas to update for the weights and biases\n",
        "    d_weights2 = np.dot(d_delta2, d_z2.T)\n",
        "    # since dz/db = 1 \n",
        "    d_bias2 = np.sum(d_delta2, axis=1, keepdims=True)/x.shape[0]\n",
        "    \n",
        "    # propagate to the next layer\n",
        "    d_prev = np.dot(self.weights2.T, d_delta2)\n",
        "    d_delta1 = d_prev * self.d_activate(self.a1)\n",
        "    d_weights1 = np.dot(d_delta1, x)\n",
        "    d_bias1 = np.sum(d_delta1, axis=1, keepdims=True)/x.shape[0]\n",
        "\n",
        "    # now update the weights and biases\n",
        "    self.weights2 = self.weights2 - d_weights2\n",
        "    self.weights1 = self.weights1 - d_weights1\n",
        "\n",
        "    self.bias2 = self.bias2 - d_bias2\n",
        "    self.bias1 = self.bias1 - d_bias1"
      ],
      "execution_count": 25,
      "outputs": []
    },
    {
      "cell_type": "markdown",
      "metadata": {
        "id": "1P9_YZ_rQk3b"
      },
      "source": [
        "## Training Data\n",
        "For the training data, let's use XOR (exclusive-or) data."
      ]
    },
    {
      "cell_type": "code",
      "metadata": {
        "colab": {
          "base_uri": "https://localhost:8080/"
        },
        "id": "SVE7Vjo4OPXo",
        "outputId": "b7762bc8-7dab-496d-cbca-f83317c97e69"
      },
      "source": [
        "X = np.array([[1, 1],\n",
        "              [1, 0],\n",
        "              [0, 1],\n",
        "              [1, 1]])\n",
        "Y = np.array([1, 0, 0, 1])\n",
        "sample_x = np.array([[1, 0]])\n",
        "X.shape"
      ],
      "execution_count": 26,
      "outputs": [
        {
          "output_type": "execute_result",
          "data": {
            "text/plain": [
              "(4, 2)"
            ]
          },
          "metadata": {
            "tags": []
          },
          "execution_count": 26
        }
      ]
    },
    {
      "cell_type": "markdown",
      "metadata": {
        "id": "E-jOy5okQ2-9"
      },
      "source": [
        "## Test\n",
        "Let's take the default epoch as the training iteration and predict one value at the end."
      ]
    },
    {
      "cell_type": "code",
      "metadata": {
        "colab": {
          "base_uri": "https://localhost:8080/",
          "height": 299
        },
        "id": "Bf7MuYYHDHue",
        "outputId": "5091114e-bf85-452f-9b10-14b0082bdd6c"
      },
      "source": [
        "INPUT_SIZE = 2\n",
        "HIDDEN_SIZE = 4\n",
        "OUTPUT_SIZE = 1\n",
        "EPOCH = 100\n",
        "\n",
        "nn = TwoLayerNetwork(INPUT_SIZE, HIDDEN_SIZE, OUTPUT_SIZE)\n",
        "\n",
        "errors = nn.fit(X, Y, EPOCH)\n",
        "\n",
        "p = nn.predict(X)\n",
        "print(\"prediction: {}\".format(p))\n",
        "\n",
        "plt.plot(range(EPOCH), errors)"
      ],
      "execution_count": 28,
      "outputs": [
        {
          "output_type": "stream",
          "text": [
            "prediction: [[0.57771776 0.43766229 0.48259321 0.57771776]]\n"
          ],
          "name": "stdout"
        },
        {
          "output_type": "execute_result",
          "data": {
            "text/plain": [
              "[<matplotlib.lines.Line2D at 0x7ff74e1d4b50>]"
            ]
          },
          "metadata": {
            "tags": []
          },
          "execution_count": 28
        },
        {
          "output_type": "display_data",
          "data": {
            "image/png": "[encoded data removed]",
            "text/plain": [
              "<Figure size 432x288 with 1 Axes>"
            ]
          },
          "metadata": {
            "tags": [],
            "needs_background": "light"
          }
        }
      ]
    },
    {
      "cell_type": "markdown",
      "metadata": {
        "id": "hWvzZHnZSGVD"
      },
      "source": [
        "## MNIST Data\n",
        "The same network can be used for training other types of data. The following code is a slight modification from\n",
        "[adeveloperdiary](http://www.adeveloperdiary.com/data-science/machine-learning/understand-and-implement-the-backpropagation-algorithm-from-scratch-in-python/?unapproved=3289&moderation-hash=e30be44173f13aab3600e3f6a1396ba6#comment-3289)"
      ]
    },
    {
      "cell_type": "code",
      "metadata": {
        "id": "1q6HXl0ASvwK"
      },
      "source": [
        "import numpy as np\n",
        "from tensorflow.keras.datasets import mnist\n",
        "# import datasets.mnist.loader as mnist\n",
        "from tensorflow.keras.utils import to_categorical\n",
        "import matplotlib.pylab as plt\n",
        "\n",
        "def get_binary_dataset():\n",
        "    # train_x_orig, train_y_orig, test_x_orig, test_y_orig = mnist.get_data()\n",
        "    (train_x_orig, train_y_orig), (test_x_orig, test_y_orig) = mnist.load_data()\n",
        " \n",
        "    index_5 = np.where(train_y_orig == 5)\n",
        "    index_8 = np.where(train_y_orig == 8)\n",
        "\n",
        "    index = np.concatenate([index_5[0], index_8[0]])\n",
        "    np.random.seed(1)\n",
        "    np.random.shuffle(index)\n",
        "  \n",
        "    train_y = train_y_orig[index]\n",
        "    # train_x = train_x_orig[index]\n",
        "    # print(type(train_x_orig))\n",
        "    train_x = np.array([train_x_orig[id].flatten() for id in index])\n",
        "    # train_x = np.array(train_x)\n",
        "    # print(\"{} {}\".format(train_x.shape, train_x))\n",
        " \n",
        "    train_y[np.where(train_y == 5)] = 0\n",
        "    train_y[np.where(train_y == 8)] = 1\n",
        " \n",
        "    index_5 = np.where(test_y_orig == 5)\n",
        "    index_8 = np.where(test_y_orig == 8)\n",
        " \n",
        "    index = np.concatenate([index_5[0], index_8[0]])\n",
        "    np.random.shuffle(index)\n",
        " \n",
        "    test_y = test_y_orig[index]\n",
        "    # test_x = test_x_orig[index]\n",
        "    test_x = np.array([test_x_orig[id].flatten() for id in index])\n",
        " \n",
        "    test_y[np.where(test_y == 5)] = 0\n",
        "    test_y[np.where(test_y == 8)] = 1\n",
        " \n",
        "    return train_x, train_y, test_x, test_y\n",
        " \n",
        "def pre_process_data(train_x, test_x):\n",
        "    # Normalize\n",
        "    train_x = train_x / 255.\n",
        "    test_x = test_x / 255.\n",
        " \n",
        "    return train_x, test_x\n",
        " \n",
        " \n",
        "train_x, train_y, test_x, test_y = get_binary_dataset()\n",
        "\n",
        "train_x, test_x = pre_process_data(train_x, test_x)\n"
      ],
      "execution_count": null,
      "outputs": []
    },
    {
      "cell_type": "code",
      "metadata": {
        "colab": {
          "base_uri": "https://localhost:8080/"
        },
        "id": "cGG8Jk-LCo-Q",
        "outputId": "b0a6553d-8027-4a73-a098-c1d3f64ac311"
      },
      "source": [
        "INPUT_SIZE = 784\n",
        "HIDDEN_SIZE = 4\n",
        "OUTPUT_SIZE = 1\n",
        "nn = TwoLayerNetwork(INPUT_SIZE, HIDDEN_SIZE, OUTPUT_SIZE)\n",
        "\n",
        "errors = nn.fit(train_x, train_y)\n",
        "nn.predict(np.array(test_x[0:1]))"
      ],
      "execution_count": null,
      "outputs": [
        {
          "output_type": "stream",
          "text": [
            "/usr/local/lib/python3.7/dist-packages/ipykernel_launcher.py:6: RuntimeWarning: overflow encountered in exp\n",
            "  \n"
          ],
          "name": "stderr"
        },
        {
          "output_type": "execute_result",
          "data": {
            "text/plain": [
              "array([[0.]])"
            ]
          },
          "metadata": {
            "tags": []
          },
          "execution_count": 54
        }
      ]
    },
    {
      "cell_type": "code",
      "metadata": {
        "id": "aDsTIARl3IBK"
      },
      "source": [
        ""
      ],
      "execution_count": null,
      "outputs": []
    }
  ]
}