{
  "nbformat": 4,
  "nbformat_minor": 0,
  "metadata": {
    "colab": {
      "name": "classify_images_clustering.ipynb",
      "provenance": [],
      "toc_visible": true,
      "machine_shape": "hm",
      "authorship_tag": "ABX9TyNRa1dxM+fPHsqRPUbGZDiF",
      "include_colab_link": true
    },
    "kernelspec": {
      "name": "python3",
      "display_name": "Python 3"
    },
    "language_info": {
      "name": "python"
    },
    "accelerator": "GPU"
  },
  "cells": [
    {
      "cell_type": "markdown",
      "metadata": {
        "id": "view-in-github",
        "colab_type": "text"
      },
      "source": [
        "<a href=\"https://colab.research.google.com/github/changsin/AI/blob/main/k_means_clustering_from_scratch.ipynb\" target=\"_parent\"><img src=\"https://colab.research.google.com/assets/colab-badge.svg\" alt=\"Open In Colab\"/></a>"
      ]
    },
    {
      "cell_type": "markdown",
      "metadata": {
        "id": "l3IR2E-4bPaO"
      },
      "source": [
        "# K-Means Clustering From Scratch\n",
        "K-Means clustering is an iterative method to find clusters based on distances from the center point of each cluster called 'centroids'.\n",
        "\n",
        "The algorithm is as follows:\n",
        "\n",
        "1. Pick two random points as the initial centroids.\n",
        "2. Put each data point to a cluster based on the distances between the centroids.\n",
        "3. For each cluster, calculate the real centroids.\n",
        "4. With the new centroids, regroup the points.\n",
        "5. If any point changed its cluster with the new centroids, repeat 3-5.\n",
        "6. If there is no change, you are done.\n",
        "\n",
        "The following code implements the above algorithm with visualizations."
      ]
    },
    {
      "cell_type": "markdown",
      "metadata": {
        "id": "nI8uYhqmP0vr"
      },
      "source": [
        "## 1. Generate sample points data"
      ]
    },
    {
      "cell_type": "code",
      "metadata": {
        "id": "-VQjTgnlnvvJ",
        "outputId": "7a12125c-534e-40b5-eaf7-8cb5084b8169",
        "colab": {
          "base_uri": "https://localhost:8080/"
        }
      },
      "source": [
        "def gen_random_points(start, end, size):\n",
        "  points = []\n",
        "\n",
        "  while len(points) < size[0]:\n",
        "    pt = np.random.randint(start, end, size=(1, size[1]))[0].tolist()\n",
        "\n",
        "    # check for duplicates\n",
        "    if pt in points:\n",
        "      continue\n",
        "\n",
        "    points.append(pt)\n",
        "\n",
        "  return np.array(points)   \n",
        "\n",
        "data1 = gen_random_points(0, 5, size=(5, 2))\n",
        "data1\n",
        "data2 = gen_random_points(6, 10, size=(5, 2))\n",
        "data2\n",
        "\n",
        "data = np.vstack((data1, data2))\n",
        "print(data)"
      ],
      "execution_count": 212,
      "outputs": [
        {
          "output_type": "stream",
          "text": [
            "[[2 0]\n",
            " [0 3]\n",
            " [4 2]\n",
            " [4 3]\n",
            " [1 0]\n",
            " [9 6]\n",
            " [7 8]\n",
            " [8 9]\n",
            " [7 6]\n",
            " [9 9]]\n"
          ],
          "name": "stdout"
        }
      ]
    },
    {
      "cell_type": "markdown",
      "metadata": {
        "id": "88dQMbG3RwAz"
      },
      "source": [
        "## 2. Pick random points as centroids"
      ]
    },
    {
      "cell_type": "code",
      "metadata": {
        "id": "4OJOoeLsrk9H",
        "outputId": "ca37635b-2705-40c5-f4ce-444fd5ac7b73",
        "colab": {
          "base_uri": "https://localhost:8080/"
        }
      },
      "source": [
        "centroids = gen_random_points(0, 10, size=(2, 2))\n",
        "centroids"
      ],
      "execution_count": 213,
      "outputs": [
        {
          "output_type": "execute_result",
          "data": {
            "text/plain": [
              "array([[6, 9],\n",
              "       [7, 4]])"
            ]
          },
          "metadata": {
            "tags": []
          },
          "execution_count": 213
        }
      ]
    },
    {
      "cell_type": "markdown",
      "metadata": {
        "id": "4GFdkQuvR7xp"
      },
      "source": [
        "## 3. Cluster data points based on distance\n",
        "To visualize the clustering process better, let's draw a middle line between two centroids which will be the dividing line between two clusters. Below is the formula to draw the dividing line. "
      ]
    },
    {
      "cell_type": "markdown",
      "metadata": {
        "id": "HZIQZikCSibq"
      },
      "source": [
        "- Calculate the median point between the two centroids"
      ]
    },
    {
      "cell_type": "code",
      "metadata": {
        "id": "iYdnf7g_s-kf"
      },
      "source": [
        "def calc_midpoint(p1, p2):\n",
        "  return (p1[0] + p2[0])/2, (p1[1] + p2[1])/2"
      ],
      "execution_count": 194,
      "outputs": []
    },
    {
      "cell_type": "markdown",
      "metadata": {
        "id": "oq4cy--yStpc"
      },
      "source": [
        "- Some geometry methods to calculate the slope and y intercept of the dividing line.\n",
        " \n",
        " $$ y = sx + c $$\n",
        "\n",
        "s is the slope and calculated with\n",
        "- $ s = \\frac{\\text{x change}}{\\text{y change}} $\n",
        "\n",
        "c is the y-intercept\n",
        "- $ c = y - sx $\n",
        "\n",
        "The dividing line will be perpendicular to the line connecting two centroids so we will first come up with the connecting line formula and from there, we will calculate the perpendicular line passing through the median point of the two centroids.\n",
        "\n",
        "So the dividing line will be\n",
        "\n",
        "$$ y = mx + b $$\n",
        "\n",
        "where\n",
        "- $ m = \\Large{ -\\frac{1}{s}} $\n",
        "- $ b = y - mx $"
      ]
    },
    {
      "cell_type": "code",
      "metadata": {
        "id": "I3BFYlfjH3VU"
      },
      "source": [
        "def get_slope(pt1, pt2):\n",
        "  \"\"\"\n",
        "  calculates the slope given two points\n",
        "  \"\"\"\n",
        "  denominator = pt1[0] - pt2[0]\n",
        "  numerator = pt1[1] - pt2[1]\n",
        "\n",
        "  if denominator != 0:\n",
        "    return float(numerator/denominator)\n",
        "\n",
        "  return 0\n",
        "\n",
        "def get_y_int(pt, m):\n",
        "  \"\"\"\n",
        "  calculates the y-intercept given a point and the slope\n",
        "  \"\"\"\n",
        "  return pt[1] - m * pt[0]"
      ],
      "execution_count": 214,
      "outputs": []
    },
    {
      "cell_type": "markdown",
      "metadata": {
        "id": "-hP5s3upVbn9"
      },
      "source": [
        "Let's now use the above methods to calculate the line formula for the dividing line."
      ]
    },
    {
      "cell_type": "code",
      "metadata": {
        "id": "mMxK-xaKzne4"
      },
      "source": [
        "def calc_dividing_line(pt1, pt2):\n",
        "  n = get_slope(pt1, pt2)\n",
        "  c = get_y_int(pt2, n)\n",
        "\n",
        "  m = -1/n\n",
        "  mid = calc_midpoint(pt1, pt2)\n",
        "  b = get_y_int(mid, m)\n",
        "\n",
        "  return m, b"
      ],
      "execution_count": 221,
      "outputs": []
    },
    {
      "cell_type": "code",
      "metadata": {
        "id": "sjnpT9AfUdcz"
      },
      "source": [
        "def cluster_two(points, m, b):\n",
        "  \"\"\"\n",
        "  Clusters each point given the diving line formula\n",
        "  \"\"\"\n",
        "  cluster1 = []\n",
        "  cluster2 = []\n",
        "  # for each point, check if it's above and below the line\n",
        "  for pt in points:\n",
        "    x, y = pt\n",
        "    y1 = m*x + b\n",
        "\n",
        "    if y1 > y:\n",
        "      print(\"x, y is cluster1\", x, y, \"y1\", y1)\n",
        "      cluster1.append(pt)\n",
        "    else:\n",
        "      print(\"x, y is cluster2\", x, y, \"y1\", y1)\n",
        "      cluster2.append(pt)\n",
        "\n",
        "  clusters = dict()\n",
        "  clusters[0] = np.array(cluster1)\n",
        "  clusters[1] = np.array(cluster2)\n",
        "\n",
        "  return clusters"
      ],
      "execution_count": 218,
      "outputs": []
    },
    {
      "cell_type": "code",
      "metadata": {
        "id": "c4QTGV90dQ3x"
      },
      "source": [
        "def cluster_with_centroids(data, centroids):\n",
        "  m, b = calc_dividing_line(centroids[0], centroids[1])\n",
        "  y1 = m*x1 + b\n",
        "\n",
        "  clusters = cluster_two(data, m, b)\n",
        "\n",
        "  return clusters, m, b"
      ],
      "execution_count": 225,
      "outputs": []
    },
    {
      "cell_type": "code",
      "metadata": {
        "id": "_BiwzXX4JCkT"
      },
      "source": [
        "x1 = np.linspace(0, 10, 100)\n"
      ],
      "execution_count": 222,
      "outputs": []
    },
    {
      "cell_type": "markdown",
      "metadata": {
        "id": "83DxjZDdV0FZ"
      },
      "source": [
        "### Cluster\n",
        "For each point, we can calculate the distances and decide the proper cluster, but this is equivalent to drawing a dividing line and checking if it is above or below the line. Let's use the latter method to make visualization easier."
      ]
    },
    {
      "cell_type": "code",
      "metadata": {
        "id": "-9qmladrZ_JK",
        "outputId": "b69dbc86-4edd-4b70-8a2d-7ab96e75240c",
        "colab": {
          "base_uri": "https://localhost:8080/"
        }
      },
      "source": [
        "clusters, m, b = cluster_with_centroids(data, centroids)"
      ],
      "execution_count": 226,
      "outputs": [
        {
          "output_type": "stream",
          "text": [
            "x, y is cluster1 2 0 y1 5.6000000000000005\n",
            "x, y is cluster1 0 3 y1 5.2\n",
            "x, y is cluster1 4 2 y1 6.0\n",
            "x, y is cluster1 4 3 y1 6.0\n",
            "x, y is cluster1 1 0 y1 5.4\n",
            "x, y is cluster1 9 6 y1 7.0\n",
            "x, y is cluster2 7 8 y1 6.6000000000000005\n",
            "x, y is cluster2 8 9 y1 6.800000000000001\n",
            "x, y is cluster1 7 6 y1 6.6000000000000005\n",
            "x, y is cluster2 9 9 y1 7.0\n"
          ],
          "name": "stdout"
        }
      ]
    },
    {
      "cell_type": "markdown",
      "metadata": {
        "id": "29xAAqFYVl1L"
      },
      "source": [
        "### Plot\n",
        "Now let's plot."
      ]
    },
    {
      "cell_type": "code",
      "metadata": {
        "id": "6I8n-NldoWEV"
      },
      "source": [
        "import matplotlib.pyplot as plt\n",
        "\n",
        "def plot_data(data, ax=None, label='+'):\n",
        "  if not ax:\n",
        "    fig, ax = plt.subplots()\n",
        "  \n",
        "  ax.plot(data[:, 0], data[:, 1], marker='o', linestyle='', ms=12, label=label)\n",
        "\n",
        "  return ax"
      ],
      "execution_count": 208,
      "outputs": []
    },
    {
      "cell_type": "code",
      "metadata": {
        "id": "oB5wQgcYr-XU"
      },
      "source": [
        "def plot_clusters_with_line(clusters, centroids, x1, y1):\n",
        "  fig, ax = plt.subplots()\n",
        "  for id, cluster in clusters.items():\n",
        "    ax = plot_data(cluster, ax=ax)\n",
        "\n",
        "  ax.scatter(centroids[:, 0], centroids[:, 1], color='red')\n",
        "\n",
        "  mid = calc_midpoint(centroids[0], centroids[1])\n",
        "\n",
        "  ax.scatter(mid[0], mid[1], color='orange')\n",
        "\n",
        "  ax.plot(x1, y1, 'g', label='y=wx+b')"
      ],
      "execution_count": 227,
      "outputs": []
    },
    {
      "cell_type": "code",
      "metadata": {
        "id": "arkbBH4GbYxz",
        "outputId": "41229a62-2341-4fe3-e965-b378fdfd7133",
        "colab": {
          "base_uri": "https://localhost:8080/",
          "height": 265
        }
      },
      "source": [
        "plot_clusters_with_line(clusters, centroids, x1, y1)"
      ],
      "execution_count": 228,
      "outputs": [
        {
          "output_type": "display_data",
          "data": {
            "image/png": "[encoded data removed]",
            "text/plain": [
              "<Figure size 432x288 with 1 Axes>"
            ]
          },
          "metadata": {
            "tags": [],
            "needs_background": "light"
          }
        }
      ]
    },
    {
      "cell_type": "markdown",
      "metadata": {
        "id": "mIb5HEm7Vupq"
      },
      "source": [
        "Obviously, the clustering is not what we expect so more iterations are needed."
      ]
    },
    {
      "cell_type": "markdown",
      "metadata": {
        "id": "40AnKfEzXwMi"
      },
      "source": [
        "## 4. Recalculate the centroids"
      ]
    },
    {
      "cell_type": "code",
      "metadata": {
        "id": "NEulJf9Em1H7"
      },
      "source": [
        "def calculate_centroids(clusters):\n",
        "  \"\"\"\n",
        "  Re-calculate the centroids\n",
        "  \"\"\"\n",
        "  def _centroidnp(arr):\n",
        "      length = arr.shape[0]\n",
        "      sum_x = np.sum(arr[:, 0])\n",
        "      sum_y = np.sum(arr[:, 1])\n",
        "      return np.array([float(sum_x/length), float(sum_y/length)])\n",
        "\n",
        "  centroids = []\n",
        "  for id, points in clusters.items():\n",
        "    centroid = _centroidnp(points)\n",
        "    centroids.append(centroid)\n",
        "\n",
        "  return np.array(centroids)"
      ],
      "execution_count": 220,
      "outputs": []
    },
    {
      "cell_type": "code",
      "metadata": {
        "id": "s2Ze421KXrlC"
      },
      "source": [
        "\n",
        "centroids_new = calculate_centroids(clusters)\n",
        "centroids_new"
      ],
      "execution_count": null,
      "outputs": []
    },
    {
      "cell_type": "code",
      "metadata": {
        "id": "-pJWPWByxnZ0",
        "outputId": "6ad972b5-8560-4747-cc33-119e151182d4",
        "colab": {
          "base_uri": "https://localhost:8080/",
          "height": 282
        }
      },
      "source": [
        "ax = plot_data(data)\n",
        "ax.scatter(centroids_new[:, 0], centroids_new[:, 1], color='red')\n",
        "\n",
        "mid_new = calc_midpoint(centroids_new[0], centroids_new[1])\n",
        "ax.scatter(mid_new[0], mid_new[1], color='orange')\n",
        "\n",
        "\n",
        "ax.plot(x1, y_new, 'g', label='y=wx+b')"
      ],
      "execution_count": 203,
      "outputs": [
        {
          "output_type": "execute_result",
          "data": {
            "text/plain": [
              "[<matplotlib.lines.Line2D at 0x7f762507ca50>]"
            ]
          },
          "metadata": {
            "tags": []
          },
          "execution_count": 203
        },
        {
          "output_type": "display_data",
          "data": {
            "image/png": "[encoded data removed]",
            "text/plain": [
              "<Figure size 432x288 with 1 Axes>"
            ]
          },
          "metadata": {
            "tags": [],
            "needs_background": "light"
          }
        }
      ]
    },
    {
      "cell_type": "code",
      "metadata": {
        "id": "03X7lIzix4EK",
        "outputId": "48ca9a0e-aa0a-4a40-eba7-31ebf22b94df",
        "colab": {
          "base_uri": "https://localhost:8080/"
        }
      },
      "source": [
        "centroid1"
      ],
      "execution_count": 165,
      "outputs": [
        {
          "output_type": "execute_result",
          "data": {
            "text/plain": [
              "(1.0, 2.0)"
            ]
          },
          "metadata": {
            "tags": []
          },
          "execution_count": 165
        }
      ]
    },
    {
      "cell_type": "code",
      "metadata": {
        "id": "O5qEcRBUx7QQ",
        "outputId": "b45fa502-010c-420b-afbf-b8ef33c60751",
        "colab": {
          "base_uri": "https://localhost:8080/"
        }
      },
      "source": [
        "centroid2"
      ],
      "execution_count": 166,
      "outputs": [
        {
          "output_type": "execute_result",
          "data": {
            "text/plain": [
              "(8.0, 7.6)"
            ]
          },
          "metadata": {
            "tags": []
          },
          "execution_count": 166
        }
      ]
    },
    {
      "cell_type": "markdown",
      "metadata": {
        "id": "fdKMfHPi0QUK"
      },
      "source": [
        "## How to calculate the line formula between two points\n",
        "\n",
        "1. calculate the midpoint\n",
        "2. Find the x intercept: the x coordinate where y = 0 and equidistant from the initial two points\n",
        "\n",
        "- A general line formula: $ y = ax + b $\n",
        "- x intercept: $ 0 = ax + b $\n",
        "- equidistance formula:\n",
        "\n",
        "\n",
        "\n",
        "- y intercept: $ y = b\n",
        "- slope formula\n",
        "  - $ ax = y - b $\n",
        "  - $ a = \\frac{y - b}{x} $\n",
        "\n"
      ]
    },
    {
      "cell_type": "code",
      "metadata": {
        "id": "BIbQLPGe0Nux",
        "outputId": "f176f629-df38-4c47-bd00-96a210751e78",
        "colab": {
          "base_uri": "https://localhost:8080/"
        }
      },
      "source": [
        "def distance_euc(p1, p2):\n",
        "  x1, y1 = p1\n",
        "  x2, y2 = p2\n",
        "  return ((((x2 - x1 )**2) + ((y2-y1)**2) )**0.5)\n",
        "\n",
        "\n",
        "distance_euc(centroids[0], centroids[1])"
      ],
      "execution_count": 139,
      "outputs": [
        {
          "output_type": "execute_result",
          "data": {
            "text/plain": [
              "5.0990195135927845"
            ]
          },
          "metadata": {
            "tags": []
          },
          "execution_count": 139
        }
      ]
    },
    {
      "cell_type": "code",
      "metadata": {
        "id": "9naMZ7Tb4Fe2",
        "outputId": "060e3896-defe-41bd-8991-855346e03616",
        "colab": {
          "base_uri": "https://localhost:8080/"
        }
      },
      "source": [
        "from scipy.spatial import distance\n",
        "\n",
        "distance.euclidean(centroids[0], centroids[1])"
      ],
      "execution_count": 42,
      "outputs": [
        {
          "output_type": "execute_result",
          "data": {
            "text/plain": [
              "72.0"
            ]
          },
          "metadata": {
            "tags": []
          },
          "execution_count": 42
        }
      ]
    },
    {
      "cell_type": "code",
      "metadata": {
        "id": "AyJMYmAK3vaj",
        "outputId": "01f33c9d-9e02-447d-c67c-7e6793818545",
        "colab": {
          "base_uri": "https://localhost:8080/"
        }
      },
      "source": [
        "np.sqrt(np.sum(np.square(centroids[0], centroids[1])))"
      ],
      "execution_count": 41,
      "outputs": [
        {
          "output_type": "execute_result",
          "data": {
            "text/plain": [
              "9.055385138137417"
            ]
          },
          "metadata": {
            "tags": []
          },
          "execution_count": 41
        }
      ]
    },
    {
      "cell_type": "code",
      "metadata": {
        "id": "IxYDIk_pmeer",
        "outputId": "8ca9f9cc-f5fb-435b-9647-ef83ce823c39",
        "colab": {
          "base_uri": "https://localhost:8080/"
        }
      },
      "source": [
        "\n",
        "def centeroidpython(data):\n",
        "    x, y = zip(*data)\n",
        "    l = len(x)\n",
        "    return sum(x) / l, sum(y) / l\n",
        "\n",
        "centeroidpython(data)\n"
      ],
      "execution_count": 26,
      "outputs": [
        {
          "output_type": "execute_result",
          "data": {
            "text/plain": [
              "(4.4, 4.9)"
            ]
          },
          "metadata": {
            "tags": []
          },
          "execution_count": 26
        }
      ]
    },
    {
      "cell_type": "code",
      "metadata": {
        "id": "xUCVeiZungd9"
      },
      "source": [
        "\n",
        "import numpy as np\n",
        "import matplotlib.pyplot as plt\n",
        "\n",
        "X = np.array([\n",
        "      [6., 1.],\n",
        "      [7., 3.],\n",
        "      [8., 2.],    \n",
        "      [9., 0.],\n",
        "      [8., 4.],\n",
        "      [8., 6.],\n",
        "      [9., 2.],    \n",
        "      [9., 5.]\n",
        "    ])\n",
        "# y = np.array([0, 0, 0, 0, 1, 1, 1, 1])"
      ],
      "execution_count": null,
      "outputs": []
    },
    {
      "cell_type": "code",
      "metadata": {
        "id": "KQPJrdc2nTht"
      },
      "source": [
        "\n",
        "import numpy as np\n",
        "import matplotlib.pyplot as plt\n",
        "\n",
        "def plot_data(X, y):\n",
        "  positives = X[y == 1]\n",
        "  negatives = X[y == 0]\n",
        "\n",
        "  fig, ax = plt.subplots()\n",
        "  ax.plot(positives[:, 0], positives[:, 1], marker='o', linestyle='', ms=12, label='+')\n",
        "  ax.plot(negatives[:, 0], negatives[:, 1], marker='o', linestyle='', ms=12, label='-')\n",
        "\n",
        "  ax.legend()\n",
        "  return ax"
      ],
      "execution_count": 1,
      "outputs": []
    },
    {
      "cell_type": "code",
      "metadata": {
        "id": "3ERQ_Bchc8JO",
        "colab": {
          "base_uri": "https://localhost:8080/"
        },
        "outputId": "55cd9693-2787-4e1d-847f-25b5634f0d2e"
      },
      "source": [
        "!git clone https://github.com/changsin/DLTrafficCounter"
      ],
      "execution_count": 1,
      "outputs": [
        {
          "output_type": "stream",
          "text": [
            "Cloning into 'DLTrafficCounter'...\n",
            "remote: Enumerating objects: 277, done.\u001b[K\n",
            "remote: Counting objects: 100% (68/68), done.\u001b[K\n",
            "remote: Compressing objects: 100% (47/47), done.\u001b[K\n",
            "remote: Total 277 (delta 17), reused 66 (delta 15), pack-reused 209\u001b[K\n",
            "Receiving objects: 100% (277/277), 226.60 MiB | 28.01 MiB/s, done.\n",
            "Resolving deltas: 100% (18/18), done.\n",
            "Checking out files: 100% (205/205), done.\n"
          ],
          "name": "stdout"
        }
      ]
    },
    {
      "cell_type": "code",
      "metadata": {
        "id": "8BvpHmD6HhCH"
      },
      "source": [
        "import argparse\n",
        "import glob\n",
        "import os\n",
        "\n",
        "import cv2\n",
        "import numpy as np\n",
        "from keras.applications.vgg16 import VGG16\n",
        "from keras.applications.vgg16 import preprocess_input\n",
        "from scipy.spatial.distance import cdist\n",
        "from sklearn import preprocessing  # to normalise existing X\n",
        "from sklearn.cluster import KMeans\n",
        "from sklearn.decomposition import PCA\n",
        "\n",
        "\"\"\"\n",
        "\"\"\"\n",
        "\n",
        "def glob_files(folder, file_type='*'):\n",
        "    search_string = os.path.join(folder, file_type)\n",
        "    files = glob.glob(search_string)\n",
        "\n",
        "    # print('searching ', path)\n",
        "    paths = []\n",
        "    for f in files:\n",
        "      if os.path.isdir(f):\n",
        "        sub_paths = glob_files(f + '/')\n",
        "        paths += sub_paths\n",
        "      else:\n",
        "        paths.append(f)\n",
        "\n",
        "    # We sort the images in alphabetical order to match them\n",
        "    #  to the annotation files\n",
        "    paths.sort()\n",
        "\n",
        "    return paths\n",
        "\n",
        "def load_images(path, file_type=\"*\"):\n",
        "  files = glob_files(path, file_type)\n",
        "\n",
        "  # print(files)\n",
        "  X_data = []\n",
        "  for file in files:\n",
        "    image = cv2.imread(file)\n",
        "    # reduce image sizes\n",
        "    image = cv2.resize(image, None, fx=0.5, fy=0.5, interpolation=cv2.INTER_AREA)\n",
        "    X_data.append(image)\n",
        "  X_data = np.array(X_data)\n",
        "  print(\"Loaded {}\".format(X_data.shape))\n",
        "  return X_data\n",
        "\n",
        "def find_duplicates(X_train_pca, threshold=0.1):\n",
        "    # Calculate distances of all points\n",
        "    distances = cdist(X_train_pca, X_train_pca)\n",
        "\n",
        "    # Find duplicates (very similar images)\n",
        "    # dupes = np.array([np.where(distances[id] < 1) for id in range(distances.shape[0])]).reshape(-1)\n",
        "    dupes = [np.array(np.where(distances[id] < threshold)).reshape(-1).tolist() \\\n",
        "            for id in range(distances.shape[0])]\n",
        "\n",
        "    to_remove = set()\n",
        "    for d in dupes:\n",
        "        if len(d) > 1:\n",
        "            for id in range(1, len(d)):\n",
        "                to_remove.add(d[id])\n",
        "    logger.info(\"Found {} duplicates\".format(len(to_remove)))\n",
        "    return to_remove\n",
        "\n",
        "def get_feature_maps(X):\n",
        "    #Convert to VGG input format\n",
        "    X = preprocess_input(X)\n",
        "\n",
        "    #include_top=False == not getting VGG16 last 3 layers\n",
        "    model = VGG16(weights=\"imagenet\", include_top=False)\n",
        "    # model = VGG16(weights = None, include_top=False)\n",
        "    #Get features\n",
        "    features = model.predict(X)\n",
        "    print(features.shape)\n",
        "\n",
        "    return features\n",
        "\n",
        "\n",
        "def get_pca_reduced(X_features, dimensions=2):\n",
        "  X_features_flatten = X_features.reshape(X_features.shape[0], -1)\n",
        "  pca = PCA(dimensions)\n",
        "\n",
        "  X_features_pca_reduced = pca.fit_transform(X_features_flatten)\n",
        "\n",
        "  return X_features_pca_reduced, pca\n",
        "\n",
        "\n",
        "def get_clusters(X_reduced, K):\n",
        "  kmeans = KMeans(n_clusters=K, random_state=0)\n",
        "  X_clusters = kmeans.fit(X_reduced)\n",
        "\n",
        "  return X_clusters, kmeans\n",
        "\n",
        "def to_cluster_idx(cluster_labels, bins):\n",
        "    \"\"\"\n",
        "    param labels: cluster labels\n",
        "    param bins: range of K\n",
        "    returns: dictionary of cluster IDs\n",
        "    \"\"\"\n",
        "    cluster_dict = dict()\n",
        "    for cluster_id in bins:\n",
        "        cluster_dict[cluster_id] = np.where(cluster_labels == cluster_id)[0]\n",
        "    return cluster_dict\n",
        "\n",
        "def cluster_images(folder):\n",
        "    X_data = load_images(folder, \"*.png\")\n",
        "\n",
        "    # get feature maps\n",
        "    X_features = get_feature_maps(X_data)\n",
        "\n",
        "    # normalize\n",
        "    X_fm_normalized = preprocessing.normalize(X_features.reshape(len(X_features), -1))\n",
        "\n",
        "    # dimensionality reduction through PCA\n",
        "    X_reduced, pca = get_pca_reduced(X_fm_normalized, dimensions=2)\n",
        "\n",
        "    return X_reduced, pca"
      ],
      "execution_count": 2,
      "outputs": []
    },
    {
      "cell_type": "code",
      "metadata": {
        "id": "Gip-w1uQ-kcG"
      },
      "source": [
        "def process_image_one_at_a_time(path, file_type=\"*.png\"):\n",
        "    files = glob_files(path, file_type)\n",
        "\n",
        "    fm_reduced = []\n",
        "    for file in files:\n",
        "      print(file)\n",
        "      image = cv2.imread(file)\n",
        "      image = cv2.resize(image, (320, 320))\n",
        "      print(image.shape)\n",
        "      fm = get_feature_maps(np.array([image]))\n",
        "      fm_reduced.append(fm)\n",
        "      # x_reduced = get_pca_reduced(fm, dimensions=2)\n",
        "      # fm_reduced.append(x_reduced)\n",
        "\n",
        "    return np.array(fm_reduced)\n",
        "\n",
        "def cluster_images(folder):\n",
        "    fm_reduced = process_image_one_at_a_time(folder)\n",
        "\n",
        "    return fm_reduced"
      ],
      "execution_count": null,
      "outputs": []
    },
    {
      "cell_type": "code",
      "metadata": {
        "id": "dx2HCWAA-0V8",
        "colab": {
          "base_uri": "https://localhost:8080/"
        },
        "outputId": "38218972-818a-4b6b-a874-5b4b36cca450"
      },
      "source": [
        "X_features = cluster_images('/content/DLTrafficCounter/data/bbox_highway/test')"
      ],
      "execution_count": 3,
      "outputs": [
        {
          "output_type": "stream",
          "text": [
            "Loaded (5, 540, 960, 3)\n",
            "Downloading data from https://storage.googleapis.com/tensorflow/keras-applications/vgg16/vgg16_weights_tf_dim_ordering_tf_kernels_notop.h5\n",
            "58892288/58889256 [==============================] - 0s 0us/step\n",
            "58900480/58889256 [==============================] - 0s 0us/step\n",
            "(5, 16, 30, 512)\n"
          ],
          "name": "stdout"
        }
      ]
    },
    {
      "cell_type": "code",
      "metadata": {
        "id": "n8lFJ2yxCG9K",
        "colab": {
          "base_uri": "https://localhost:8080/"
        },
        "outputId": "a1071928-557c-4c76-a211-b4bb872f0bec"
      },
      "source": [
        "X_features.shape"
      ],
      "execution_count": null,
      "outputs": [
        {
          "output_type": "execute_result",
          "data": {
            "text/plain": [
              "(5, 1, 10, 10, 512)"
            ]
          },
          "metadata": {
            "tags": []
          },
          "execution_count": 33
        }
      ]
    },
    {
      "cell_type": "code",
      "metadata": {
        "id": "WRn4Zin6NZZk",
        "colab": {
          "base_uri": "https://localhost:8080/"
        },
        "outputId": "eeacf86d-a853-40b3-eb0b-15a0528362b1"
      },
      "source": [
        "[i for i in range(2)]"
      ],
      "execution_count": null,
      "outputs": [
        {
          "output_type": "execute_result",
          "data": {
            "text/plain": [
              "[0, 1]"
            ]
          },
          "metadata": {
            "tags": []
          },
          "execution_count": 40
        }
      ]
    },
    {
      "cell_type": "code",
      "metadata": {
        "id": "NtbSPq7aASdP"
      },
      "source": [
        "# X_reduced = X_reduced.reshape(-1, 1)\n",
        "X_features_flatten = X_features.reshape(X_features.shape[0], -1)\n",
        "\n",
        "X_clusters, kmeans = get_clusters(X_features_flatten, 2)"
      ],
      "execution_count": null,
      "outputs": []
    },
    {
      "cell_type": "code",
      "metadata": {
        "id": "-uPNEEJ1DWuy",
        "colab": {
          "base_uri": "https://localhost:8080/"
        },
        "outputId": "4522e55d-0336-45a5-8c81-cba1cda3591a"
      },
      "source": [
        "X_clusters.labels_\n"
      ],
      "execution_count": null,
      "outputs": [
        {
          "output_type": "execute_result",
          "data": {
            "text/plain": [
              "array([1, 1, 0, 0, 0], dtype=int32)"
            ]
          },
          "metadata": {
            "tags": []
          },
          "execution_count": 36
        }
      ]
    },
    {
      "cell_type": "code",
      "metadata": {
        "id": "a1_m4IEyLCfS",
        "colab": {
          "base_uri": "https://localhost:8080/"
        },
        "outputId": "86df27f1-d19f-48a3-c524-ce17dba1e2a4"
      },
      "source": [
        "X_clusters.cluster_centers_.shape"
      ],
      "execution_count": null,
      "outputs": [
        {
          "output_type": "execute_result",
          "data": {
            "text/plain": [
              "(2, 51200)"
            ]
          },
          "metadata": {
            "tags": []
          },
          "execution_count": 39
        }
      ]
    },
    {
      "cell_type": "code",
      "metadata": {
        "id": "ViDUr5ilHmqM",
        "colab": {
          "base_uri": "https://localhost:8080/"
        },
        "outputId": "0775478f-1e63-49a1-d9e7-1ef388390572"
      },
      "source": [
        "X_reduced, pca = cluster_images('/content/DLTrafficCounter/data/bbox_highway/train')"
      ],
      "execution_count": null,
      "outputs": [
        {
          "output_type": "stream",
          "text": [
            "Loaded (90, 540, 960, 3)\n",
            "(90, 16, 30, 512)\n"
          ],
          "name": "stdout"
        }
      ]
    },
    {
      "cell_type": "code",
      "metadata": {
        "id": "tkDQaq2QKU_9",
        "colab": {
          "base_uri": "https://localhost:8080/"
        },
        "outputId": "d2bb6348-d0b0-466b-952e-cbda4ff2288a"
      },
      "source": [
        "# cluster\n",
        "X_clusters, kmeans = get_clusters(X_reduced, 2)\n",
        "\n",
        "# get the image ids of each cluster\n",
        "cluster_idx = to_cluster_idx(X_clusters.labels_, [0, 1])\n",
        "\n",
        "# keep the cluster centers\n",
        "print(kmeans.cluster_centers_)\n",
        "print(cluster_idx)"
      ],
      "execution_count": null,
      "outputs": [
        {
          "output_type": "stream",
          "text": [
            "[[-4.5856735e-01 -1.6710158e-04]\n",
            " [ 5.0122488e-01  1.8265484e-04]]\n",
            "{0: array([ 2,  3,  4,  5,  6,  7, 14, 15, 16, 17, 18, 19, 26, 27, 28, 29, 30,\n",
            "       31, 37, 38, 39, 40, 41, 42, 49, 50, 51, 52, 53, 54, 61, 62, 63, 64,\n",
            "       65, 66, 73, 74, 75, 76, 77, 78, 85, 86, 87, 88, 89]), 1: array([ 0,  1,  8,  9, 10, 11, 12, 13, 20, 21, 22, 23, 24, 25, 32, 33, 34,\n",
            "       35, 36, 43, 44, 45, 46, 47, 48, 55, 56, 57, 58, 59, 60, 67, 68, 69,\n",
            "       70, 71, 72, 79, 80, 81, 82, 83, 84])}\n"
          ],
          "name": "stdout"
        }
      ]
    },
    {
      "cell_type": "markdown",
      "metadata": {
        "id": "t36OJAp5nWdf"
      },
      "source": [
        "# Plot clusters\n"
      ]
    },
    {
      "cell_type": "code",
      "metadata": {
        "id": "2_ONBvBHDnXr"
      },
      "source": [
        "import matplotlib.pyplot as plt\n",
        "\n",
        "\n",
        "def plot_pca_clusters(X_train_pca, kmeans):\n",
        "    # kmeans, X_train_pca_clusters = get_clusters(X_train_pca)\n",
        "\n",
        "    # Step size of the mesh. Decrease to increase the quality of the VQ.\n",
        "    h = .02     # point in the mesh [x_min, x_max]x[y_min, y_max].\n",
        "\n",
        "    # Plot the decision boundary. For that, we will assign a color to each\n",
        "    x_min, x_max = X_train_pca[:, 0].min() - 1, X_train_pca[:, 0].max() + 1\n",
        "    y_min, y_max = X_train_pca[:, 1].min() - 1, X_train_pca[:, 1].max() + 1\n",
        "    xx, yy = np.meshgrid(np.arange(x_min, x_max, h), np.arange(y_min, y_max, h))\n",
        "\n",
        "    # Obtain labels for each point in mesh. Use last trained model.\n",
        "    Z = kmeans.predict(np.c_[xx.ravel(), yy.ravel()])\n",
        "\n",
        "    # Put the result into a color plot\n",
        "    Z = Z.reshape(xx.shape)\n",
        "\n",
        "    plt.figure(2)\n",
        "    # plt.clf()\n",
        "    plt.imshow(Z, interpolation=\"nearest\",\n",
        "                extent=(xx.min(), xx.max(), yy.min(), yy.max()),\n",
        "                cmap=plt.cm.Paired, aspect=\"auto\", origin=\"lower\")\n",
        "\n",
        "    plt.plot(X_train_pca[:, 0], X_train_pca[:, 1], 'k.', markersize=2)\n",
        "    # Plot the centroids as a white X\n",
        "    centroids = kmeans.cluster_centers_\n",
        "\n",
        "    # markers = [\"o\", \"1\", \"2\", \"3\", \"4\"]\n",
        "    markers = [\"o\", \"1\", \"2\"]\n",
        "    for id in range(len(centroids)):\n",
        "        c = centroids[id]\n",
        "        plt.scatter(c[0], c[1], marker=markers[id], s=169, linewidths=3,\n",
        "                    color=\"w\", zorder=10)\n",
        "\n",
        "    # plt.scatter(centroids[:, 0], centroids[:, 1], marker=\"x\", s=169, linewidths=3,\n",
        "    #             color=\"w\", zorder=10)\n",
        "    # https://matplotlib.org/2.0.2/api/markers_api.html#module-matplotlib.markers\n",
        "    plt.title(\"K-means clustering on the PCA-reduced data\\n\"\n",
        "                \"Centroids 0-o, 1-down, 2-up, 3-left, 4-right tri\")\n",
        "    plt.xlim(x_min, x_max)\n",
        "    plt.ylim(y_min, y_max)\n",
        "    plt.xticks(())\n",
        "    plt.yticks(())\n",
        "    plt.show()"
      ],
      "execution_count": null,
      "outputs": []
    },
    {
      "cell_type": "code",
      "metadata": {
        "colab": {
          "base_uri": "https://localhost:8080/",
          "height": 283
        },
        "id": "BLUl4V4-G2VU",
        "outputId": "f664f5bc-601b-4516-9620-4e5ec5055d8c"
      },
      "source": [
        "plot_pca_clusters(X_reduced, kmeans)"
      ],
      "execution_count": null,
      "outputs": [
        {
          "output_type": "display_data",
          "data": {
            "image/png": "[encoded data removed]",
            "text/plain": [
              "<Figure size 432x288 with 1 Axes>"
            ]
          },
          "metadata": {
            "tags": []
          }
        }
      ]
    },
    {
      "cell_type": "code",
      "metadata": {
        "id": "_q4RrRwxLNIb",
        "colab": {
          "base_uri": "https://localhost:8080/"
        },
        "outputId": "77aa099e-4524-43fd-bcd0-323311854c17"
      },
      "source": [
        "X_clusters.cluster_centers_"
      ],
      "execution_count": null,
      "outputs": [
        {
          "output_type": "execute_result",
          "data": {
            "text/plain": [
              "array([[-4.5856735e-01, -1.6710158e-04],\n",
              "       [ 5.0122488e-01,  1.8265484e-04]], dtype=float32)"
            ]
          },
          "metadata": {
            "tags": []
          },
          "execution_count": 15
        }
      ]
    },
    {
      "cell_type": "code",
      "metadata": {
        "id": "x7tBMvgJLUx-"
      },
      "source": [
        ""
      ],
      "execution_count": null,
      "outputs": []
    }
  ]
}